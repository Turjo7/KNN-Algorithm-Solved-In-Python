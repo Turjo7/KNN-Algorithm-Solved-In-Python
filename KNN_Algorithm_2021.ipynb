{
  "nbformat": 4,
  "nbformat_minor": 0,
  "metadata": {
    "colab": {
      "name": "KNN Algorithm 2021.ipynb",
      "provenance": [],
      "collapsed_sections": []
    },
    "kernelspec": {
      "name": "python3",
      "display_name": "Python 3"
    },
    "language_info": {
      "name": "python"
    }
  },
  "cells": [
    {
      "cell_type": "markdown",
      "metadata": {
        "id": "LylNHKi-rzsi"
      },
      "source": [
        "Classification Problem"
      ]
    },
    {
      "cell_type": "code",
      "metadata": {
        "colab": {
          "resources": {
            "http://localhost:8080/nbextensions/google.colab/files.js": {
              "data": "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",
              "ok": true,
              "headers": [
                [
                  "content-type",
                  "application/javascript"
                ]
              ],
              "status": 200,
              "status_text": ""
            }
          },
          "base_uri": "https://localhost:8080/",
          "height": 72
        },
        "id": "JK4O24PEh37m",
        "outputId": "341af8fe-1e53-4efb-cdca-423b773f7182"
      },
      "source": [
        "#Dataset Uploading Iris Dataset\n",
        "from google.colab import files\n",
        "uploaded = files.upload() "
      ],
      "execution_count": 24,
      "outputs": [
        {
          "output_type": "display_data",
          "data": {
            "text/html": [
              "\n",
              "     <input type=\"file\" id=\"files-c6467e8d-a9ad-45c6-972e-42edb0f8e6aa\" name=\"files[]\" multiple disabled\n",
              "        style=\"border:none\" />\n",
              "     <output id=\"result-c6467e8d-a9ad-45c6-972e-42edb0f8e6aa\">\n",
              "      Upload widget is only available when the cell has been executed in the\n",
              "      current browser session. Please rerun this cell to enable.\n",
              "      </output>\n",
              "      <script src=\"/nbextensions/google.colab/files.js\"></script> "
            ],
            "text/plain": [
              "<IPython.core.display.HTML object>"
            ]
          },
          "metadata": {
            "tags": []
          }
        },
        {
          "output_type": "stream",
          "text": [
            "Saving iris.csv to iris.csv\n"
          ],
          "name": "stdout"
        }
      ]
    },
    {
      "cell_type": "code",
      "metadata": {
        "colab": {
          "base_uri": "https://localhost:8080/"
        },
        "id": "vIhhAQcjiLY1",
        "outputId": "986955a5-e304-4e89-857a-b11583f62652"
      },
      "source": [
        "#Directory Name Check\n",
        "!ls"
      ],
      "execution_count": 25,
      "outputs": [
        {
          "output_type": "stream",
          "text": [
            "diabetes.csv  iris.csv\tsample_data\n"
          ],
          "name": "stdout"
        }
      ]
    },
    {
      "cell_type": "code",
      "metadata": {
        "colab": {
          "base_uri": "https://localhost:8080/"
        },
        "id": "Y6io4e6Jioyk",
        "outputId": "fd9bc29b-1e54-4f68-f375-996ffb9caae2"
      },
      "source": [
        "#Printing the  Iris Dataset\n",
        "lines=[]\n",
        "\n",
        "with open('iris.csv') as f:\n",
        "    lines = f.read().splitlines()\n",
        "    \n",
        "print(lines[0:150])"
      ],
      "execution_count": 26,
      "outputs": [
        {
          "output_type": "stream",
          "text": [
            "['5.1,3.5,1.4,0.2,0', '4.9,3,1.4,0.2,0', '4.7,3.2,1.3,0.2,0', '4.6,3.1,1.5,0.2,0', '5,3.6,1.4,0.2,0', '5.4,3.9,1.7,0.4,0', '4.6,3.4,1.4,0.3,0', '5,3.4,1.5,0.2,0', '4.4,2.9,1.4,0.2,0', '4.9,3.1,1.5,0.1,0', '5.4,3.7,1.5,0.2,0', '4.8,3.4,1.6,0.2,0', '4.8,3,1.4,0.1,0', '4.3,3,1.1,0.1,0', '5.8,4,1.2,0.2,0', '5.7,4.4,1.5,0.4,0', '5.4,3.9,1.3,0.4,0', '5.1,3.5,1.4,0.3,0', '5.7,3.8,1.7,0.3,0', '5.1,3.8,1.5,0.3,0', '5.4,3.4,1.7,0.2,0', '5.1,3.7,1.5,0.4,0', '4.6,3.6,1,0.2,0', '5.1,3.3,1.7,0.5,0', '4.8,3.4,1.9,0.2,0', '5,3,1.6,0.2,0', '5,3.4,1.6,0.4,0', '5.2,3.5,1.5,0.2,0', '5.2,3.4,1.4,0.2,0', '4.7,3.2,1.6,0.2,0', '4.8,3.1,1.6,0.2,0', '5.4,3.4,1.5,0.4,0', '5.2,4.1,1.5,0.1,0', '5.5,4.2,1.4,0.2,0', '4.9,3.1,1.5,0.2,0', '5,3.2,1.2,0.2,0', '5.5,3.5,1.3,0.2,0', '4.9,3.6,1.4,0.1,0', '4.4,3,1.3,0.2,0', '5.1,3.4,1.5,0.2,0', '5,3.5,1.3,0.3,0', '4.5,2.3,1.3,0.3,0', '4.4,3.2,1.3,0.2,0', '5,3.5,1.6,0.6,0', '5.1,3.8,1.9,0.4,0', '4.8,3,1.4,0.3,0', '5.1,3.8,1.6,0.2,0', '4.6,3.2,1.4,0.2,0', '5.3,3.7,1.5,0.2,0', '5,3.3,1.4,0.2,0', '7,3.2,4.7,1.4,1', '6.4,3.2,4.5,1.5,1', '6.9,3.1,4.9,1.5,1', '5.5,2.3,4,1.3,1', '6.5,2.8,4.6,1.5,1', '5.7,2.8,4.5,1.3,1', '6.3,3.3,4.7,1.6,1', '4.9,2.4,3.3,1,1', '6.6,2.9,4.6,1.3,1', '5.2,2.7,3.9,1.4,1', '5,2,3.5,1,1', '5.9,3,4.2,1.5,1', '6,2.2,4,1,1', '6.1,2.9,4.7,1.4,1', '5.6,2.9,3.6,1.3,1', '6.7,3.1,4.4,1.4,1', '5.6,3,4.5,1.5,1', '5.8,2.7,4.1,1,1', '6.2,2.2,4.5,1.5,1', '5.6,2.5,3.9,1.1,1', '5.9,3.2,4.8,1.8,1', '6.1,2.8,4,1.3,1', '6.3,2.5,4.9,1.5,1', '6.1,2.8,4.7,1.2,1', '6.4,2.9,4.3,1.3,1', '6.6,3,4.4,1.4,1', '6.8,2.8,4.8,1.4,1', '6.7,3,5,1.7,1', '6,2.9,4.5,1.5,1', '5.7,2.6,3.5,1,1', '5.5,2.4,3.8,1.1,1', '5.5,2.4,3.7,1,1', '5.8,2.7,3.9,1.2,1', '6,2.7,5.1,1.6,1', '5.4,3,4.5,1.5,1', '6,3.4,4.5,1.6,1', '6.7,3.1,4.7,1.5,1', '6.3,2.3,4.4,1.3,1', '5.6,3,4.1,1.3,1', '5.5,2.5,4,1.3,1', '5.5,2.6,4.4,1.2,1', '6.1,3,4.6,1.4,1', '5.8,2.6,4,1.2,1', '5,2.3,3.3,1,1', '5.6,2.7,4.2,1.3,1', '5.7,3,4.2,1.2,1', '5.7,2.9,4.2,1.3,1', '6.2,2.9,4.3,1.3,1', '5.1,2.5,3,1.1,1', '5.7,2.8,4.1,1.3,1', '6.3,3.3,6,2.5,2', '5.8,2.7,5.1,1.9,2', '7.1,3,5.9,2.1,2', '6.3,2.9,5.6,1.8,2', '6.5,3,5.8,2.2,2', '7.6,3,6.6,2.1,2', '4.9,2.5,4.5,1.7,2', '7.3,2.9,6.3,1.8,2', '6.7,2.5,5.8,1.8,2', '7.2,3.6,6.1,2.5,2', '6.5,3.2,5.1,2,2', '6.4,2.7,5.3,1.9,2', '6.8,3,5.5,2.1,2', '5.7,2.5,5,2,2', '5.8,2.8,5.1,2.4,2', '6.4,3.2,5.3,2.3,2', '6.5,3,5.5,1.8,2', '7.7,3.8,6.7,2.2,2', '7.7,2.6,6.9,2.3,2', '6,2.2,5,1.5,2', '6.9,3.2,5.7,2.3,2', '5.6,2.8,4.9,2,2', '7.7,2.8,6.7,2,2', '6.3,2.7,4.9,1.8,2', '6.7,3.3,5.7,2.1,2', '7.2,3.2,6,1.8,2', '6.2,2.8,4.8,1.8,2', '6.1,3,4.9,1.8,2', '6.4,2.8,5.6,2.1,2', '7.2,3,5.8,1.6,2', '7.4,2.8,6.1,1.9,2', '7.9,3.8,6.4,2,2', '6.4,2.8,5.6,2.2,2', '6.3,2.8,5.1,1.5,2', '6.1,2.6,5.6,1.4,2', '7.7,3,6.1,2.3,2', '6.3,3.4,5.6,2.4,2', '6.4,3.1,5.5,1.8,2', '6,3,4.8,1.8,2', '6.9,3.1,5.4,2.1,2', '6.7,3.1,5.6,2.4,2', '6.9,3.1,5.1,2.3,2', '5.8,2.7,5.1,1.9,2', '6.8,3.2,5.9,2.3,2', '6.7,3.3,5.7,2.5,2', '6.7,3,5.2,2.3,2', '6.3,2.5,5,1.9,2', '6.5,3,5.2,2,2', '6.2,3.4,5.4,2.3,2', '5.9,3,5.1,1.8,2']\n"
          ],
          "name": "stdout"
        }
      ]
    },
    {
      "cell_type": "code",
      "metadata": {
        "colab": {
          "base_uri": "https://localhost:8080/"
        },
        "id": "dW5s3eljiyHU",
        "outputId": "19f39c85-3414-4b80-85c5-52c545e8a44c"
      },
      "source": [
        "#Spliting the Dataset Based on Comma in 2D List\n",
        "wanted_lines = []\n",
        "for i in range(0,len(lines)):\n",
        "  line = lines[i].split(\",\")\n",
        "  wanted_lines.append(line)\n",
        "  \n",
        "print(wanted_lines[0:150])"
      ],
      "execution_count": 27,
      "outputs": [
        {
          "output_type": "stream",
          "text": [
            "[['5.1', '3.5', '1.4', '0.2', '0'], ['4.9', '3', '1.4', '0.2', '0'], ['4.7', '3.2', '1.3', '0.2', '0'], ['4.6', '3.1', '1.5', '0.2', '0'], ['5', '3.6', '1.4', '0.2', '0'], ['5.4', '3.9', '1.7', '0.4', '0'], ['4.6', '3.4', '1.4', '0.3', '0'], ['5', '3.4', '1.5', '0.2', '0'], ['4.4', '2.9', '1.4', '0.2', '0'], ['4.9', '3.1', '1.5', '0.1', '0'], ['5.4', '3.7', '1.5', '0.2', '0'], ['4.8', '3.4', '1.6', '0.2', '0'], ['4.8', '3', '1.4', '0.1', '0'], ['4.3', '3', '1.1', '0.1', '0'], ['5.8', '4', '1.2', '0.2', '0'], ['5.7', '4.4', '1.5', '0.4', '0'], ['5.4', '3.9', '1.3', '0.4', '0'], ['5.1', '3.5', '1.4', '0.3', '0'], ['5.7', '3.8', '1.7', '0.3', '0'], ['5.1', '3.8', '1.5', '0.3', '0'], ['5.4', '3.4', '1.7', '0.2', '0'], ['5.1', '3.7', '1.5', '0.4', '0'], ['4.6', '3.6', '1', '0.2', '0'], ['5.1', '3.3', '1.7', '0.5', '0'], ['4.8', '3.4', '1.9', '0.2', '0'], ['5', '3', '1.6', '0.2', '0'], ['5', '3.4', '1.6', '0.4', '0'], ['5.2', '3.5', '1.5', '0.2', '0'], ['5.2', '3.4', '1.4', '0.2', '0'], ['4.7', '3.2', '1.6', '0.2', '0'], ['4.8', '3.1', '1.6', '0.2', '0'], ['5.4', '3.4', '1.5', '0.4', '0'], ['5.2', '4.1', '1.5', '0.1', '0'], ['5.5', '4.2', '1.4', '0.2', '0'], ['4.9', '3.1', '1.5', '0.2', '0'], ['5', '3.2', '1.2', '0.2', '0'], ['5.5', '3.5', '1.3', '0.2', '0'], ['4.9', '3.6', '1.4', '0.1', '0'], ['4.4', '3', '1.3', '0.2', '0'], ['5.1', '3.4', '1.5', '0.2', '0'], ['5', '3.5', '1.3', '0.3', '0'], ['4.5', '2.3', '1.3', '0.3', '0'], ['4.4', '3.2', '1.3', '0.2', '0'], ['5', '3.5', '1.6', '0.6', '0'], ['5.1', '3.8', '1.9', '0.4', '0'], ['4.8', '3', '1.4', '0.3', '0'], ['5.1', '3.8', '1.6', '0.2', '0'], ['4.6', '3.2', '1.4', '0.2', '0'], ['5.3', '3.7', '1.5', '0.2', '0'], ['5', '3.3', '1.4', '0.2', '0'], ['7', '3.2', '4.7', '1.4', '1'], ['6.4', '3.2', '4.5', '1.5', '1'], ['6.9', '3.1', '4.9', '1.5', '1'], ['5.5', '2.3', '4', '1.3', '1'], ['6.5', '2.8', '4.6', '1.5', '1'], ['5.7', '2.8', '4.5', '1.3', '1'], ['6.3', '3.3', '4.7', '1.6', '1'], ['4.9', '2.4', '3.3', '1', '1'], ['6.6', '2.9', '4.6', '1.3', '1'], ['5.2', '2.7', '3.9', '1.4', '1'], ['5', '2', '3.5', '1', '1'], ['5.9', '3', '4.2', '1.5', '1'], ['6', '2.2', '4', '1', '1'], ['6.1', '2.9', '4.7', '1.4', '1'], ['5.6', '2.9', '3.6', '1.3', '1'], ['6.7', '3.1', '4.4', '1.4', '1'], ['5.6', '3', '4.5', '1.5', '1'], ['5.8', '2.7', '4.1', '1', '1'], ['6.2', '2.2', '4.5', '1.5', '1'], ['5.6', '2.5', '3.9', '1.1', '1'], ['5.9', '3.2', '4.8', '1.8', '1'], ['6.1', '2.8', '4', '1.3', '1'], ['6.3', '2.5', '4.9', '1.5', '1'], ['6.1', '2.8', '4.7', '1.2', '1'], ['6.4', '2.9', '4.3', '1.3', '1'], ['6.6', '3', '4.4', '1.4', '1'], ['6.8', '2.8', '4.8', '1.4', '1'], ['6.7', '3', '5', '1.7', '1'], ['6', '2.9', '4.5', '1.5', '1'], ['5.7', '2.6', '3.5', '1', '1'], ['5.5', '2.4', '3.8', '1.1', '1'], ['5.5', '2.4', '3.7', '1', '1'], ['5.8', '2.7', '3.9', '1.2', '1'], ['6', '2.7', '5.1', '1.6', '1'], ['5.4', '3', '4.5', '1.5', '1'], ['6', '3.4', '4.5', '1.6', '1'], ['6.7', '3.1', '4.7', '1.5', '1'], ['6.3', '2.3', '4.4', '1.3', '1'], ['5.6', '3', '4.1', '1.3', '1'], ['5.5', '2.5', '4', '1.3', '1'], ['5.5', '2.6', '4.4', '1.2', '1'], ['6.1', '3', '4.6', '1.4', '1'], ['5.8', '2.6', '4', '1.2', '1'], ['5', '2.3', '3.3', '1', '1'], ['5.6', '2.7', '4.2', '1.3', '1'], ['5.7', '3', '4.2', '1.2', '1'], ['5.7', '2.9', '4.2', '1.3', '1'], ['6.2', '2.9', '4.3', '1.3', '1'], ['5.1', '2.5', '3', '1.1', '1'], ['5.7', '2.8', '4.1', '1.3', '1'], ['6.3', '3.3', '6', '2.5', '2'], ['5.8', '2.7', '5.1', '1.9', '2'], ['7.1', '3', '5.9', '2.1', '2'], ['6.3', '2.9', '5.6', '1.8', '2'], ['6.5', '3', '5.8', '2.2', '2'], ['7.6', '3', '6.6', '2.1', '2'], ['4.9', '2.5', '4.5', '1.7', '2'], ['7.3', '2.9', '6.3', '1.8', '2'], ['6.7', '2.5', '5.8', '1.8', '2'], ['7.2', '3.6', '6.1', '2.5', '2'], ['6.5', '3.2', '5.1', '2', '2'], ['6.4', '2.7', '5.3', '1.9', '2'], ['6.8', '3', '5.5', '2.1', '2'], ['5.7', '2.5', '5', '2', '2'], ['5.8', '2.8', '5.1', '2.4', '2'], ['6.4', '3.2', '5.3', '2.3', '2'], ['6.5', '3', '5.5', '1.8', '2'], ['7.7', '3.8', '6.7', '2.2', '2'], ['7.7', '2.6', '6.9', '2.3', '2'], ['6', '2.2', '5', '1.5', '2'], ['6.9', '3.2', '5.7', '2.3', '2'], ['5.6', '2.8', '4.9', '2', '2'], ['7.7', '2.8', '6.7', '2', '2'], ['6.3', '2.7', '4.9', '1.8', '2'], ['6.7', '3.3', '5.7', '2.1', '2'], ['7.2', '3.2', '6', '1.8', '2'], ['6.2', '2.8', '4.8', '1.8', '2'], ['6.1', '3', '4.9', '1.8', '2'], ['6.4', '2.8', '5.6', '2.1', '2'], ['7.2', '3', '5.8', '1.6', '2'], ['7.4', '2.8', '6.1', '1.9', '2'], ['7.9', '3.8', '6.4', '2', '2'], ['6.4', '2.8', '5.6', '2.2', '2'], ['6.3', '2.8', '5.1', '1.5', '2'], ['6.1', '2.6', '5.6', '1.4', '2'], ['7.7', '3', '6.1', '2.3', '2'], ['6.3', '3.4', '5.6', '2.4', '2'], ['6.4', '3.1', '5.5', '1.8', '2'], ['6', '3', '4.8', '1.8', '2'], ['6.9', '3.1', '5.4', '2.1', '2'], ['6.7', '3.1', '5.6', '2.4', '2'], ['6.9', '3.1', '5.1', '2.3', '2'], ['5.8', '2.7', '5.1', '1.9', '2'], ['6.8', '3.2', '5.9', '2.3', '2'], ['6.7', '3.3', '5.7', '2.5', '2'], ['6.7', '3', '5.2', '2.3', '2'], ['6.3', '2.5', '5', '1.9', '2'], ['6.5', '3', '5.2', '2', '2'], ['6.2', '3.4', '5.4', '2.3', '2'], ['5.9', '3', '5.1', '1.8', '2']]\n"
          ],
          "name": "stdout"
        }
      ]
    },
    {
      "cell_type": "code",
      "metadata": {
        "colab": {
          "base_uri": "https://localhost:8080/"
        },
        "id": "OoNvIKXkk3_w",
        "outputId": "2df65cad-51c3-4cbb-a1db-969ccb807cfb"
      },
      "source": [
        "#Unique values from the last column of the dataset\n",
        "outputs = []\n",
        "for i in range(0,len(wanted_lines)):\n",
        "  outputs.append(wanted_lines[i][-1])\n",
        "output_set = set(outputs)\n",
        "print(output_set)"
      ],
      "execution_count": 28,
      "outputs": [
        {
          "output_type": "stream",
          "text": [
            "{'2', '1', '0'}\n"
          ],
          "name": "stdout"
        }
      ]
    },
    {
      "cell_type": "code",
      "metadata": {
        "colab": {
          "base_uri": "https://localhost:8080/"
        },
        "id": "1WC7XWnllLyM",
        "outputId": "271db552-a491-4913-cd43-dbfc5bc9d48c"
      },
      "source": [
        "#Dictionary Mapping of Data\n",
        "output_dict={}\n",
        "i=0\n",
        "for element in output_set:\n",
        "  print(element)\n",
        "  output_dict[element] = i\n",
        "  i=i+1\n",
        "print(output_dict)"
      ],
      "execution_count": 29,
      "outputs": [
        {
          "output_type": "stream",
          "text": [
            "2\n",
            "1\n",
            "0\n",
            "{'2': 0, '1': 1, '0': 2}\n"
          ],
          "name": "stdout"
        }
      ]
    },
    {
      "cell_type": "code",
      "metadata": {
        "colab": {
          "base_uri": "https://localhost:8080/"
        },
        "id": "huUHkQTYlt3F",
        "outputId": "cb162126-e29e-41a1-8afa-256fc183c386"
      },
      "source": [
        "for i in range(0,len(wanted_lines)):\n",
        "  wanted_lines[i][-1] = output_dict[wanted_lines[i][-1]]\n",
        "print(wanted_lines)"
      ],
      "execution_count": 30,
      "outputs": [
        {
          "output_type": "stream",
          "text": [
            "[['5.1', '3.5', '1.4', '0.2', 2], ['4.9', '3', '1.4', '0.2', 2], ['4.7', '3.2', '1.3', '0.2', 2], ['4.6', '3.1', '1.5', '0.2', 2], ['5', '3.6', '1.4', '0.2', 2], ['5.4', '3.9', '1.7', '0.4', 2], ['4.6', '3.4', '1.4', '0.3', 2], ['5', '3.4', '1.5', '0.2', 2], ['4.4', '2.9', '1.4', '0.2', 2], ['4.9', '3.1', '1.5', '0.1', 2], ['5.4', '3.7', '1.5', '0.2', 2], ['4.8', '3.4', '1.6', '0.2', 2], ['4.8', '3', '1.4', '0.1', 2], ['4.3', '3', '1.1', '0.1', 2], ['5.8', '4', '1.2', '0.2', 2], ['5.7', '4.4', '1.5', '0.4', 2], ['5.4', '3.9', '1.3', '0.4', 2], ['5.1', '3.5', '1.4', '0.3', 2], ['5.7', '3.8', '1.7', '0.3', 2], ['5.1', '3.8', '1.5', '0.3', 2], ['5.4', '3.4', '1.7', '0.2', 2], ['5.1', '3.7', '1.5', '0.4', 2], ['4.6', '3.6', '1', '0.2', 2], ['5.1', '3.3', '1.7', '0.5', 2], ['4.8', '3.4', '1.9', '0.2', 2], ['5', '3', '1.6', '0.2', 2], ['5', '3.4', '1.6', '0.4', 2], ['5.2', '3.5', '1.5', '0.2', 2], ['5.2', '3.4', '1.4', '0.2', 2], ['4.7', '3.2', '1.6', '0.2', 2], ['4.8', '3.1', '1.6', '0.2', 2], ['5.4', '3.4', '1.5', '0.4', 2], ['5.2', '4.1', '1.5', '0.1', 2], ['5.5', '4.2', '1.4', '0.2', 2], ['4.9', '3.1', '1.5', '0.2', 2], ['5', '3.2', '1.2', '0.2', 2], ['5.5', '3.5', '1.3', '0.2', 2], ['4.9', '3.6', '1.4', '0.1', 2], ['4.4', '3', '1.3', '0.2', 2], ['5.1', '3.4', '1.5', '0.2', 2], ['5', '3.5', '1.3', '0.3', 2], ['4.5', '2.3', '1.3', '0.3', 2], ['4.4', '3.2', '1.3', '0.2', 2], ['5', '3.5', '1.6', '0.6', 2], ['5.1', '3.8', '1.9', '0.4', 2], ['4.8', '3', '1.4', '0.3', 2], ['5.1', '3.8', '1.6', '0.2', 2], ['4.6', '3.2', '1.4', '0.2', 2], ['5.3', '3.7', '1.5', '0.2', 2], ['5', '3.3', '1.4', '0.2', 2], ['7', '3.2', '4.7', '1.4', 1], ['6.4', '3.2', '4.5', '1.5', 1], ['6.9', '3.1', '4.9', '1.5', 1], ['5.5', '2.3', '4', '1.3', 1], ['6.5', '2.8', '4.6', '1.5', 1], ['5.7', '2.8', '4.5', '1.3', 1], ['6.3', '3.3', '4.7', '1.6', 1], ['4.9', '2.4', '3.3', '1', 1], ['6.6', '2.9', '4.6', '1.3', 1], ['5.2', '2.7', '3.9', '1.4', 1], ['5', '2', '3.5', '1', 1], ['5.9', '3', '4.2', '1.5', 1], ['6', '2.2', '4', '1', 1], ['6.1', '2.9', '4.7', '1.4', 1], ['5.6', '2.9', '3.6', '1.3', 1], ['6.7', '3.1', '4.4', '1.4', 1], ['5.6', '3', '4.5', '1.5', 1], ['5.8', '2.7', '4.1', '1', 1], ['6.2', '2.2', '4.5', '1.5', 1], ['5.6', '2.5', '3.9', '1.1', 1], ['5.9', '3.2', '4.8', '1.8', 1], ['6.1', '2.8', '4', '1.3', 1], ['6.3', '2.5', '4.9', '1.5', 1], ['6.1', '2.8', '4.7', '1.2', 1], ['6.4', '2.9', '4.3', '1.3', 1], ['6.6', '3', '4.4', '1.4', 1], ['6.8', '2.8', '4.8', '1.4', 1], ['6.7', '3', '5', '1.7', 1], ['6', '2.9', '4.5', '1.5', 1], ['5.7', '2.6', '3.5', '1', 1], ['5.5', '2.4', '3.8', '1.1', 1], ['5.5', '2.4', '3.7', '1', 1], ['5.8', '2.7', '3.9', '1.2', 1], ['6', '2.7', '5.1', '1.6', 1], ['5.4', '3', '4.5', '1.5', 1], ['6', '3.4', '4.5', '1.6', 1], ['6.7', '3.1', '4.7', '1.5', 1], ['6.3', '2.3', '4.4', '1.3', 1], ['5.6', '3', '4.1', '1.3', 1], ['5.5', '2.5', '4', '1.3', 1], ['5.5', '2.6', '4.4', '1.2', 1], ['6.1', '3', '4.6', '1.4', 1], ['5.8', '2.6', '4', '1.2', 1], ['5', '2.3', '3.3', '1', 1], ['5.6', '2.7', '4.2', '1.3', 1], ['5.7', '3', '4.2', '1.2', 1], ['5.7', '2.9', '4.2', '1.3', 1], ['6.2', '2.9', '4.3', '1.3', 1], ['5.1', '2.5', '3', '1.1', 1], ['5.7', '2.8', '4.1', '1.3', 1], ['6.3', '3.3', '6', '2.5', 0], ['5.8', '2.7', '5.1', '1.9', 0], ['7.1', '3', '5.9', '2.1', 0], ['6.3', '2.9', '5.6', '1.8', 0], ['6.5', '3', '5.8', '2.2', 0], ['7.6', '3', '6.6', '2.1', 0], ['4.9', '2.5', '4.5', '1.7', 0], ['7.3', '2.9', '6.3', '1.8', 0], ['6.7', '2.5', '5.8', '1.8', 0], ['7.2', '3.6', '6.1', '2.5', 0], ['6.5', '3.2', '5.1', '2', 0], ['6.4', '2.7', '5.3', '1.9', 0], ['6.8', '3', '5.5', '2.1', 0], ['5.7', '2.5', '5', '2', 0], ['5.8', '2.8', '5.1', '2.4', 0], ['6.4', '3.2', '5.3', '2.3', 0], ['6.5', '3', '5.5', '1.8', 0], ['7.7', '3.8', '6.7', '2.2', 0], ['7.7', '2.6', '6.9', '2.3', 0], ['6', '2.2', '5', '1.5', 0], ['6.9', '3.2', '5.7', '2.3', 0], ['5.6', '2.8', '4.9', '2', 0], ['7.7', '2.8', '6.7', '2', 0], ['6.3', '2.7', '4.9', '1.8', 0], ['6.7', '3.3', '5.7', '2.1', 0], ['7.2', '3.2', '6', '1.8', 0], ['6.2', '2.8', '4.8', '1.8', 0], ['6.1', '3', '4.9', '1.8', 0], ['6.4', '2.8', '5.6', '2.1', 0], ['7.2', '3', '5.8', '1.6', 0], ['7.4', '2.8', '6.1', '1.9', 0], ['7.9', '3.8', '6.4', '2', 0], ['6.4', '2.8', '5.6', '2.2', 0], ['6.3', '2.8', '5.1', '1.5', 0], ['6.1', '2.6', '5.6', '1.4', 0], ['7.7', '3', '6.1', '2.3', 0], ['6.3', '3.4', '5.6', '2.4', 0], ['6.4', '3.1', '5.5', '1.8', 0], ['6', '3', '4.8', '1.8', 0], ['6.9', '3.1', '5.4', '2.1', 0], ['6.7', '3.1', '5.6', '2.4', 0], ['6.9', '3.1', '5.1', '2.3', 0], ['5.8', '2.7', '5.1', '1.9', 0], ['6.8', '3.2', '5.9', '2.3', 0], ['6.7', '3.3', '5.7', '2.5', 0], ['6.7', '3', '5.2', '2.3', 0], ['6.3', '2.5', '5', '1.9', 0], ['6.5', '3', '5.2', '2', 0], ['6.2', '3.4', '5.4', '2.3', 0], ['5.9', '3', '5.1', '1.8', 0]]\n"
          ],
          "name": "stdout"
        }
      ]
    },
    {
      "cell_type": "code",
      "metadata": {
        "id": "RljJ6a7tmLM0"
      },
      "source": [
        "#Turning into Numpy Array\n",
        "import numpy as np\n",
        "\n",
        "for i in range(0,len(wanted_lines)):\n",
        "  for j in range(0,len(wanted_lines[0])):\n",
        "    wanted_lines[i][j] = float(wanted_lines[i][j])"
      ],
      "execution_count": 31,
      "outputs": []
    },
    {
      "cell_type": "code",
      "metadata": {
        "colab": {
          "base_uri": "https://localhost:8080/"
        },
        "id": "3pkgmXvAmY3N",
        "outputId": "cae2050f-d275-4d24-e2bb-50abd5e46cc7"
      },
      "source": [
        "print(np.array(wanted_lines))"
      ],
      "execution_count": 32,
      "outputs": [
        {
          "output_type": "stream",
          "text": [
            "[[5.1 3.5 1.4 0.2 2. ]\n",
            " [4.9 3.  1.4 0.2 2. ]\n",
            " [4.7 3.2 1.3 0.2 2. ]\n",
            " [4.6 3.1 1.5 0.2 2. ]\n",
            " [5.  3.6 1.4 0.2 2. ]\n",
            " [5.4 3.9 1.7 0.4 2. ]\n",
            " [4.6 3.4 1.4 0.3 2. ]\n",
            " [5.  3.4 1.5 0.2 2. ]\n",
            " [4.4 2.9 1.4 0.2 2. ]\n",
            " [4.9 3.1 1.5 0.1 2. ]\n",
            " [5.4 3.7 1.5 0.2 2. ]\n",
            " [4.8 3.4 1.6 0.2 2. ]\n",
            " [4.8 3.  1.4 0.1 2. ]\n",
            " [4.3 3.  1.1 0.1 2. ]\n",
            " [5.8 4.  1.2 0.2 2. ]\n",
            " [5.7 4.4 1.5 0.4 2. ]\n",
            " [5.4 3.9 1.3 0.4 2. ]\n",
            " [5.1 3.5 1.4 0.3 2. ]\n",
            " [5.7 3.8 1.7 0.3 2. ]\n",
            " [5.1 3.8 1.5 0.3 2. ]\n",
            " [5.4 3.4 1.7 0.2 2. ]\n",
            " [5.1 3.7 1.5 0.4 2. ]\n",
            " [4.6 3.6 1.  0.2 2. ]\n",
            " [5.1 3.3 1.7 0.5 2. ]\n",
            " [4.8 3.4 1.9 0.2 2. ]\n",
            " [5.  3.  1.6 0.2 2. ]\n",
            " [5.  3.4 1.6 0.4 2. ]\n",
            " [5.2 3.5 1.5 0.2 2. ]\n",
            " [5.2 3.4 1.4 0.2 2. ]\n",
            " [4.7 3.2 1.6 0.2 2. ]\n",
            " [4.8 3.1 1.6 0.2 2. ]\n",
            " [5.4 3.4 1.5 0.4 2. ]\n",
            " [5.2 4.1 1.5 0.1 2. ]\n",
            " [5.5 4.2 1.4 0.2 2. ]\n",
            " [4.9 3.1 1.5 0.2 2. ]\n",
            " [5.  3.2 1.2 0.2 2. ]\n",
            " [5.5 3.5 1.3 0.2 2. ]\n",
            " [4.9 3.6 1.4 0.1 2. ]\n",
            " [4.4 3.  1.3 0.2 2. ]\n",
            " [5.1 3.4 1.5 0.2 2. ]\n",
            " [5.  3.5 1.3 0.3 2. ]\n",
            " [4.5 2.3 1.3 0.3 2. ]\n",
            " [4.4 3.2 1.3 0.2 2. ]\n",
            " [5.  3.5 1.6 0.6 2. ]\n",
            " [5.1 3.8 1.9 0.4 2. ]\n",
            " [4.8 3.  1.4 0.3 2. ]\n",
            " [5.1 3.8 1.6 0.2 2. ]\n",
            " [4.6 3.2 1.4 0.2 2. ]\n",
            " [5.3 3.7 1.5 0.2 2. ]\n",
            " [5.  3.3 1.4 0.2 2. ]\n",
            " [7.  3.2 4.7 1.4 1. ]\n",
            " [6.4 3.2 4.5 1.5 1. ]\n",
            " [6.9 3.1 4.9 1.5 1. ]\n",
            " [5.5 2.3 4.  1.3 1. ]\n",
            " [6.5 2.8 4.6 1.5 1. ]\n",
            " [5.7 2.8 4.5 1.3 1. ]\n",
            " [6.3 3.3 4.7 1.6 1. ]\n",
            " [4.9 2.4 3.3 1.  1. ]\n",
            " [6.6 2.9 4.6 1.3 1. ]\n",
            " [5.2 2.7 3.9 1.4 1. ]\n",
            " [5.  2.  3.5 1.  1. ]\n",
            " [5.9 3.  4.2 1.5 1. ]\n",
            " [6.  2.2 4.  1.  1. ]\n",
            " [6.1 2.9 4.7 1.4 1. ]\n",
            " [5.6 2.9 3.6 1.3 1. ]\n",
            " [6.7 3.1 4.4 1.4 1. ]\n",
            " [5.6 3.  4.5 1.5 1. ]\n",
            " [5.8 2.7 4.1 1.  1. ]\n",
            " [6.2 2.2 4.5 1.5 1. ]\n",
            " [5.6 2.5 3.9 1.1 1. ]\n",
            " [5.9 3.2 4.8 1.8 1. ]\n",
            " [6.1 2.8 4.  1.3 1. ]\n",
            " [6.3 2.5 4.9 1.5 1. ]\n",
            " [6.1 2.8 4.7 1.2 1. ]\n",
            " [6.4 2.9 4.3 1.3 1. ]\n",
            " [6.6 3.  4.4 1.4 1. ]\n",
            " [6.8 2.8 4.8 1.4 1. ]\n",
            " [6.7 3.  5.  1.7 1. ]\n",
            " [6.  2.9 4.5 1.5 1. ]\n",
            " [5.7 2.6 3.5 1.  1. ]\n",
            " [5.5 2.4 3.8 1.1 1. ]\n",
            " [5.5 2.4 3.7 1.  1. ]\n",
            " [5.8 2.7 3.9 1.2 1. ]\n",
            " [6.  2.7 5.1 1.6 1. ]\n",
            " [5.4 3.  4.5 1.5 1. ]\n",
            " [6.  3.4 4.5 1.6 1. ]\n",
            " [6.7 3.1 4.7 1.5 1. ]\n",
            " [6.3 2.3 4.4 1.3 1. ]\n",
            " [5.6 3.  4.1 1.3 1. ]\n",
            " [5.5 2.5 4.  1.3 1. ]\n",
            " [5.5 2.6 4.4 1.2 1. ]\n",
            " [6.1 3.  4.6 1.4 1. ]\n",
            " [5.8 2.6 4.  1.2 1. ]\n",
            " [5.  2.3 3.3 1.  1. ]\n",
            " [5.6 2.7 4.2 1.3 1. ]\n",
            " [5.7 3.  4.2 1.2 1. ]\n",
            " [5.7 2.9 4.2 1.3 1. ]\n",
            " [6.2 2.9 4.3 1.3 1. ]\n",
            " [5.1 2.5 3.  1.1 1. ]\n",
            " [5.7 2.8 4.1 1.3 1. ]\n",
            " [6.3 3.3 6.  2.5 0. ]\n",
            " [5.8 2.7 5.1 1.9 0. ]\n",
            " [7.1 3.  5.9 2.1 0. ]\n",
            " [6.3 2.9 5.6 1.8 0. ]\n",
            " [6.5 3.  5.8 2.2 0. ]\n",
            " [7.6 3.  6.6 2.1 0. ]\n",
            " [4.9 2.5 4.5 1.7 0. ]\n",
            " [7.3 2.9 6.3 1.8 0. ]\n",
            " [6.7 2.5 5.8 1.8 0. ]\n",
            " [7.2 3.6 6.1 2.5 0. ]\n",
            " [6.5 3.2 5.1 2.  0. ]\n",
            " [6.4 2.7 5.3 1.9 0. ]\n",
            " [6.8 3.  5.5 2.1 0. ]\n",
            " [5.7 2.5 5.  2.  0. ]\n",
            " [5.8 2.8 5.1 2.4 0. ]\n",
            " [6.4 3.2 5.3 2.3 0. ]\n",
            " [6.5 3.  5.5 1.8 0. ]\n",
            " [7.7 3.8 6.7 2.2 0. ]\n",
            " [7.7 2.6 6.9 2.3 0. ]\n",
            " [6.  2.2 5.  1.5 0. ]\n",
            " [6.9 3.2 5.7 2.3 0. ]\n",
            " [5.6 2.8 4.9 2.  0. ]\n",
            " [7.7 2.8 6.7 2.  0. ]\n",
            " [6.3 2.7 4.9 1.8 0. ]\n",
            " [6.7 3.3 5.7 2.1 0. ]\n",
            " [7.2 3.2 6.  1.8 0. ]\n",
            " [6.2 2.8 4.8 1.8 0. ]\n",
            " [6.1 3.  4.9 1.8 0. ]\n",
            " [6.4 2.8 5.6 2.1 0. ]\n",
            " [7.2 3.  5.8 1.6 0. ]\n",
            " [7.4 2.8 6.1 1.9 0. ]\n",
            " [7.9 3.8 6.4 2.  0. ]\n",
            " [6.4 2.8 5.6 2.2 0. ]\n",
            " [6.3 2.8 5.1 1.5 0. ]\n",
            " [6.1 2.6 5.6 1.4 0. ]\n",
            " [7.7 3.  6.1 2.3 0. ]\n",
            " [6.3 3.4 5.6 2.4 0. ]\n",
            " [6.4 3.1 5.5 1.8 0. ]\n",
            " [6.  3.  4.8 1.8 0. ]\n",
            " [6.9 3.1 5.4 2.1 0. ]\n",
            " [6.7 3.1 5.6 2.4 0. ]\n",
            " [6.9 3.1 5.1 2.3 0. ]\n",
            " [5.8 2.7 5.1 1.9 0. ]\n",
            " [6.8 3.2 5.9 2.3 0. ]\n",
            " [6.7 3.3 5.7 2.5 0. ]\n",
            " [6.7 3.  5.2 2.3 0. ]\n",
            " [6.3 2.5 5.  1.9 0. ]\n",
            " [6.5 3.  5.2 2.  0. ]\n",
            " [6.2 3.4 5.4 2.3 0. ]\n",
            " [5.9 3.  5.1 1.8 0. ]]\n"
          ],
          "name": "stdout"
        }
      ]
    },
    {
      "cell_type": "code",
      "metadata": {
        "colab": {
          "base_uri": "https://localhost:8080/"
        },
        "id": "Hdiq1_Y5mfbl",
        "outputId": "173cb8ef-ae23-4dfd-b1e4-290fe629b5ee"
      },
      "source": [
        "# Train, Test, Validation Spliting of the Dataset\n",
        "import random\n",
        "\n",
        "Train = []\n",
        "Test = []\n",
        "Validation = []\n",
        "\n",
        "for i in range(0, len(wanted_lines)):\n",
        "  R = random.uniform(0, 1)\n",
        "  if(R>=0 and R<= 0.7):\n",
        "    Train.append(wanted_lines[i])\n",
        "  elif(R>0.7 and R<=0.85):\n",
        "    Validation.append(wanted_lines[i])\n",
        "  else:\n",
        "    Test.append(wanted_lines[i])\n",
        "\n",
        "print(len(Train))\n",
        "print(len(Test))\n",
        "print(len(Validation))"
      ],
      "execution_count": 33,
      "outputs": [
        {
          "output_type": "stream",
          "text": [
            "100\n",
            "27\n",
            "23\n"
          ],
          "name": "stdout"
        }
      ]
    },
    {
      "cell_type": "code",
      "metadata": {
        "id": "OHc61x5any8A"
      },
      "source": [
        "#Converting the Train , Test, Validation list to numpy array\n",
        "train = np.array(Train)\n",
        "validation = np.array(Validation)\n",
        "test = np.array(Test)"
      ],
      "execution_count": 34,
      "outputs": []
    },
    {
      "cell_type": "code",
      "metadata": {
        "colab": {
          "base_uri": "https://localhost:8080/"
        },
        "id": "OIHwmcJ-oF8V",
        "outputId": "331caf11-0591-43c8-b8b0-b449c05dcf34"
      },
      "source": [
        "print(\"Train Set\\n\",train,\"\\n\")\n",
        "print(\"Validation Set\\n\",validation,\"\\n\")\n",
        "print(\"Test Set\\n\",test,\"\\n\")\n",
        "\n",
        "\n"
      ],
      "execution_count": 36,
      "outputs": [
        {
          "output_type": "stream",
          "text": [
            "Train Set\n",
            " [[4.7 3.2 1.3 0.2 2. ]\n",
            " [4.6 3.1 1.5 0.2 2. ]\n",
            " [5.  3.6 1.4 0.2 2. ]\n",
            " [5.4 3.9 1.7 0.4 2. ]\n",
            " [4.6 3.4 1.4 0.3 2. ]\n",
            " [5.  3.4 1.5 0.2 2. ]\n",
            " [4.4 2.9 1.4 0.2 2. ]\n",
            " [4.9 3.1 1.5 0.1 2. ]\n",
            " [4.8 3.  1.4 0.1 2. ]\n",
            " [4.3 3.  1.1 0.1 2. ]\n",
            " [5.4 3.9 1.3 0.4 2. ]\n",
            " [5.7 3.8 1.7 0.3 2. ]\n",
            " [5.1 3.8 1.5 0.3 2. ]\n",
            " [5.1 3.7 1.5 0.4 2. ]\n",
            " [4.6 3.6 1.  0.2 2. ]\n",
            " [5.1 3.3 1.7 0.5 2. ]\n",
            " [5.  3.  1.6 0.2 2. ]\n",
            " [5.  3.4 1.6 0.4 2. ]\n",
            " [5.2 3.5 1.5 0.2 2. ]\n",
            " [5.2 3.4 1.4 0.2 2. ]\n",
            " [4.7 3.2 1.6 0.2 2. ]\n",
            " [5.4 3.4 1.5 0.4 2. ]\n",
            " [5.2 4.1 1.5 0.1 2. ]\n",
            " [5.5 4.2 1.4 0.2 2. ]\n",
            " [4.9 3.1 1.5 0.2 2. ]\n",
            " [5.  3.2 1.2 0.2 2. ]\n",
            " [5.5 3.5 1.3 0.2 2. ]\n",
            " [4.9 3.6 1.4 0.1 2. ]\n",
            " [5.1 3.4 1.5 0.2 2. ]\n",
            " [4.5 2.3 1.3 0.3 2. ]\n",
            " [4.4 3.2 1.3 0.2 2. ]\n",
            " [5.  3.5 1.6 0.6 2. ]\n",
            " [4.8 3.  1.4 0.3 2. ]\n",
            " [5.1 3.8 1.6 0.2 2. ]\n",
            " [4.6 3.2 1.4 0.2 2. ]\n",
            " [6.4 3.2 4.5 1.5 1. ]\n",
            " [6.9 3.1 4.9 1.5 1. ]\n",
            " [5.5 2.3 4.  1.3 1. ]\n",
            " [6.3 3.3 4.7 1.6 1. ]\n",
            " [4.9 2.4 3.3 1.  1. ]\n",
            " [5.2 2.7 3.9 1.4 1. ]\n",
            " [6.  2.2 4.  1.  1. ]\n",
            " [5.6 2.9 3.6 1.3 1. ]\n",
            " [5.6 3.  4.5 1.5 1. ]\n",
            " [6.2 2.2 4.5 1.5 1. ]\n",
            " [5.9 3.2 4.8 1.8 1. ]\n",
            " [6.4 2.9 4.3 1.3 1. ]\n",
            " [6.6 3.  4.4 1.4 1. ]\n",
            " [6.7 3.  5.  1.7 1. ]\n",
            " [6.  2.9 4.5 1.5 1. ]\n",
            " [5.7 2.6 3.5 1.  1. ]\n",
            " [5.5 2.4 3.8 1.1 1. ]\n",
            " [5.8 2.7 3.9 1.2 1. ]\n",
            " [6.  3.4 4.5 1.6 1. ]\n",
            " [6.7 3.1 4.7 1.5 1. ]\n",
            " [6.3 2.3 4.4 1.3 1. ]\n",
            " [5.5 2.5 4.  1.3 1. ]\n",
            " [5.8 2.6 4.  1.2 1. ]\n",
            " [5.  2.3 3.3 1.  1. ]\n",
            " [5.6 2.7 4.2 1.3 1. ]\n",
            " [5.7 2.9 4.2 1.3 1. ]\n",
            " [5.1 2.5 3.  1.1 1. ]\n",
            " [5.7 2.8 4.1 1.3 1. ]\n",
            " [6.3 3.3 6.  2.5 0. ]\n",
            " [7.1 3.  5.9 2.1 0. ]\n",
            " [6.3 2.9 5.6 1.8 0. ]\n",
            " [6.5 3.  5.8 2.2 0. ]\n",
            " [7.6 3.  6.6 2.1 0. ]\n",
            " [4.9 2.5 4.5 1.7 0. ]\n",
            " [7.3 2.9 6.3 1.8 0. ]\n",
            " [6.7 2.5 5.8 1.8 0. ]\n",
            " [7.2 3.6 6.1 2.5 0. ]\n",
            " [6.5 3.2 5.1 2.  0. ]\n",
            " [6.4 2.7 5.3 1.9 0. ]\n",
            " [5.7 2.5 5.  2.  0. ]\n",
            " [5.8 2.8 5.1 2.4 0. ]\n",
            " [6.4 3.2 5.3 2.3 0. ]\n",
            " [7.7 3.8 6.7 2.2 0. ]\n",
            " [7.7 2.6 6.9 2.3 0. ]\n",
            " [6.  2.2 5.  1.5 0. ]\n",
            " [6.9 3.2 5.7 2.3 0. ]\n",
            " [5.6 2.8 4.9 2.  0. ]\n",
            " [6.3 2.7 4.9 1.8 0. ]\n",
            " [6.7 3.3 5.7 2.1 0. ]\n",
            " [7.2 3.2 6.  1.8 0. ]\n",
            " [6.1 3.  4.9 1.8 0. ]\n",
            " [6.4 2.8 5.6 2.1 0. ]\n",
            " [7.2 3.  5.8 1.6 0. ]\n",
            " [7.4 2.8 6.1 1.9 0. ]\n",
            " [6.3 2.8 5.1 1.5 0. ]\n",
            " [6.3 3.4 5.6 2.4 0. ]\n",
            " [6.4 3.1 5.5 1.8 0. ]\n",
            " [6.  3.  4.8 1.8 0. ]\n",
            " [6.9 3.1 5.4 2.1 0. ]\n",
            " [5.8 2.7 5.1 1.9 0. ]\n",
            " [6.8 3.2 5.9 2.3 0. ]\n",
            " [6.7 3.  5.2 2.3 0. ]\n",
            " [6.3 2.5 5.  1.9 0. ]\n",
            " [6.5 3.  5.2 2.  0. ]\n",
            " [5.9 3.  5.1 1.8 0. ]] \n",
            "\n",
            "Validation Set\n",
            " [[5.1 3.5 1.4 0.2 2. ]\n",
            " [4.9 3.  1.4 0.2 2. ]\n",
            " [5.4 3.7 1.5 0.2 2. ]\n",
            " [5.8 4.  1.2 0.2 2. ]\n",
            " [5.4 3.4 1.7 0.2 2. ]\n",
            " [4.8 3.4 1.9 0.2 2. ]\n",
            " [4.8 3.1 1.6 0.2 2. ]\n",
            " [4.4 3.  1.3 0.2 2. ]\n",
            " [7.  3.2 4.7 1.4 1. ]\n",
            " [6.5 2.8 4.6 1.5 1. ]\n",
            " [6.6 2.9 4.6 1.3 1. ]\n",
            " [6.7 3.1 4.4 1.4 1. ]\n",
            " [5.8 2.7 4.1 1.  1. ]\n",
            " [5.6 2.5 3.9 1.1 1. ]\n",
            " [6.1 2.8 4.  1.3 1. ]\n",
            " [6.1 2.8 4.7 1.2 1. ]\n",
            " [6.  2.7 5.1 1.6 1. ]\n",
            " [5.5 2.6 4.4 1.2 1. ]\n",
            " [6.8 3.  5.5 2.1 0. ]\n",
            " [6.5 3.  5.5 1.8 0. ]\n",
            " [7.9 3.8 6.4 2.  0. ]\n",
            " [6.9 3.1 5.1 2.3 0. ]\n",
            " [6.7 3.3 5.7 2.5 0. ]] \n",
            "\n",
            "Test Set\n",
            " [[4.8 3.4 1.6 0.2 2. ]\n",
            " [5.7 4.4 1.5 0.4 2. ]\n",
            " [5.1 3.5 1.4 0.3 2. ]\n",
            " [5.  3.5 1.3 0.3 2. ]\n",
            " [5.1 3.8 1.9 0.4 2. ]\n",
            " [5.3 3.7 1.5 0.2 2. ]\n",
            " [5.  3.3 1.4 0.2 2. ]\n",
            " [5.7 2.8 4.5 1.3 1. ]\n",
            " [5.  2.  3.5 1.  1. ]\n",
            " [5.9 3.  4.2 1.5 1. ]\n",
            " [6.1 2.9 4.7 1.4 1. ]\n",
            " [6.3 2.5 4.9 1.5 1. ]\n",
            " [6.8 2.8 4.8 1.4 1. ]\n",
            " [5.5 2.4 3.7 1.  1. ]\n",
            " [5.4 3.  4.5 1.5 1. ]\n",
            " [5.6 3.  4.1 1.3 1. ]\n",
            " [6.1 3.  4.6 1.4 1. ]\n",
            " [5.7 3.  4.2 1.2 1. ]\n",
            " [6.2 2.9 4.3 1.3 1. ]\n",
            " [5.8 2.7 5.1 1.9 0. ]\n",
            " [7.7 2.8 6.7 2.  0. ]\n",
            " [6.2 2.8 4.8 1.8 0. ]\n",
            " [6.4 2.8 5.6 2.2 0. ]\n",
            " [6.1 2.6 5.6 1.4 0. ]\n",
            " [7.7 3.  6.1 2.3 0. ]\n",
            " [6.7 3.1 5.6 2.4 0. ]\n",
            " [6.2 3.4 5.4 2.3 0. ]] \n",
            "\n"
          ],
          "name": "stdout"
        }
      ]
    },
    {
      "cell_type": "code",
      "metadata": {
        "colab": {
          "base_uri": "https://localhost:8080/"
        },
        "id": "rC7nDqh1oWv-",
        "outputId": "6fd6fe2b-6635-45ba-8eaa-561e4c682cde"
      },
      "source": [
        "import math\n",
        "from collections import Counter\n",
        "\n",
        "\n",
        "\n",
        "actual=0\n",
        "sum=0.0\n",
        " \n",
        "#K=1\n",
        "#K=3\n",
        "#K=5\n",
        "#K=10\n",
        "#K=15\n",
        "K=20\n",
        "\n",
        "\n",
        "\n",
        "\n",
        "\n",
        "for i in validation:\n",
        "  distance_class=[]\n",
        "  for j in train:\n",
        "    distance=math.sqrt(pow(i[0]-j[0],2)+pow(i[1]-j[1],2)+pow(i[2]-j[2],2)+pow(i[3]-j[3],2))\n",
        "    distance_class.append([distance,j[4]])\n",
        "  distance_class=sorted(distance_class)\n",
        "  \n",
        "  nearest_k_neighbour=[]\n",
        "  for x in range(K):\n",
        "    nearest_k_neighbour.append(distance_class[x])\n",
        "  nearest_k_neighbour=np.array(nearest_k_neighbour)\n",
        "  max=Counter(nearest_k_neighbour.flat).most_common(1)\n",
        "  \n",
        "  print(\"Max Value\",max[0][0])\n",
        "  print(\"-------------------\",max)\n",
        "  \n",
        "  \n",
        "  \n",
        "  \n",
        "  \n",
        "  \n",
        "  \n",
        "  \n",
        "  if max[0][0] == i[4] :\n",
        "    actual=actual+1\n",
        "    \n",
        "    \n",
        "    \n",
        "   \n",
        "      \n",
        "      \n",
        "      \n",
        "      \n",
        "      \n",
        "      \n",
        "      \n",
        "      \n",
        "    \n",
        "    print(\"Class:\",max[0][0])\n",
        "    #break\n",
        "validation_accuracy=(actual/len(validation))*100\n",
        "\n",
        "\n",
        "\n",
        "\n",
        "print(\"Accuracy For Classification : \",validation_accuracy)\n",
        "\n",
        "\n",
        "\n",
        "                    \n",
        "     \n",
        "\n",
        "\n"
      ],
      "execution_count": 46,
      "outputs": [
        {
          "output_type": "stream",
          "text": [
            "Max Value 2.0\n",
            "------------------- [(2.0, 35)]\n",
            "Class: 2.0\n",
            "Max Value 2.0\n",
            "------------------- [(2.0, 35)]\n",
            "Class: 2.0\n",
            "Max Value 2.0\n",
            "------------------- [(2.0, 35)]\n",
            "Class: 2.0\n",
            "Max Value 2.0\n",
            "------------------- [(2.0, 35)]\n",
            "Class: 2.0\n",
            "Max Value 2.0\n",
            "------------------- [(2.0, 35)]\n",
            "Class: 2.0\n",
            "Max Value 2.0\n",
            "------------------- [(2.0, 35)]\n",
            "Class: 2.0\n",
            "Max Value 2.0\n",
            "------------------- [(2.0, 35)]\n",
            "Class: 2.0\n",
            "Max Value 2.0\n",
            "------------------- [(2.0, 35)]\n",
            "Class: 2.0\n",
            "Max Value 0.0\n",
            "------------------- [(0.0, 31)]\n",
            "Max Value 1.0\n",
            "------------------- [(1.0, 25)]\n",
            "Class: 1.0\n",
            "Max Value 1.0\n",
            "------------------- [(1.0, 25)]\n",
            "Class: 1.0\n",
            "Max Value 1.0\n",
            "------------------- [(1.0, 25)]\n",
            "Class: 1.0\n",
            "Max Value 1.0\n",
            "------------------- [(1.0, 28)]\n",
            "Class: 1.0\n",
            "Max Value 1.0\n",
            "------------------- [(1.0, 28)]\n",
            "Class: 1.0\n",
            "Max Value 1.0\n",
            "------------------- [(1.0, 28)]\n",
            "Class: 1.0\n",
            "Max Value 1.0\n",
            "------------------- [(1.0, 25)]\n",
            "Class: 1.0\n",
            "Max Value 0.0\n",
            "------------------- [(0.0, 29)]\n",
            "Max Value 1.0\n",
            "------------------- [(1.0, 28)]\n",
            "Class: 1.0\n",
            "Max Value 0.0\n",
            "------------------- [(0.0, 36)]\n",
            "Class: 0.0\n",
            "Max Value 0.0\n",
            "------------------- [(0.0, 34)]\n",
            "Class: 0.0\n",
            "Max Value 0.0\n",
            "------------------- [(0.0, 36)]\n",
            "Class: 0.0\n",
            "Max Value 0.0\n",
            "------------------- [(0.0, 34)]\n",
            "Class: 0.0\n",
            "Max Value 0.0\n",
            "------------------- [(0.0, 36)]\n",
            "Class: 0.0\n",
            "Accuracy For Classification :  91.30434782608695\n"
          ],
          "name": "stdout"
        }
      ]
    },
    {
      "cell_type": "code",
      "metadata": {
        "colab": {
          "base_uri": "https://localhost:8080/"
        },
        "id": "6bSwH1oPWSTp",
        "outputId": "b7a2f31c-a623-435b-f202-4f5fee44423a"
      },
      "source": [
        "import math\n",
        "from collections import Counter\n",
        "\n",
        "\n",
        "\n",
        "actual=0\n",
        "sum=0.0\n",
        " \n",
        "#K=1\n",
        "#K=3\n",
        "#K=5\n",
        "#K=10\n",
        "#K=15\n",
        "K=20\n",
        "\n",
        "\n",
        "\n",
        "\n",
        "for i in test:\n",
        "  distance_class=[]\n",
        "  for j in train:\n",
        "    distance=math.sqrt(pow(i[0]-j[0],2)+pow(i[1]-j[1],2)+pow(i[2]-j[2],2)+pow(i[3]-j[3],2))\n",
        "    distance_class.append([distance,j[4]])\n",
        "  distance_class=sorted(distance_class)\n",
        "  \n",
        "  nearest_k_neighbour=[]\n",
        "  for x in range(K):\n",
        "    nearest_k_neighbour.append(distance_class[x])\n",
        "  nearest_k_neighbour=np.array(nearest_k_neighbour)\n",
        "  max=Counter(nearest_k_neighbour.flat).most_common(1)\n",
        "  \n",
        "  print(\"Max Value\",max[0][0])\n",
        "  print(\"-------------------\",max)\n",
        "  \n",
        "  \n",
        "  \n",
        "  \n",
        "  \n",
        "  \n",
        "  \n",
        "  \n",
        "  if max[0][0] == i[4] :\n",
        "    actual=actual+1\n",
        "    \n",
        "    \n",
        "    \n",
        "   \n",
        "      \n",
        "      \n",
        "      \n",
        "      \n",
        "      \n",
        "      \n",
        "      \n",
        "      \n",
        "    \n",
        "    print(\"Class:\",max[0][0])\n",
        "    #break\n",
        "validation_accuracy=(actual/len(validation))*100\n",
        "\n",
        "\n",
        "\n",
        "\n",
        "print(\"Accuracy For Classification : \",validation_accuracy)\n",
        "\n",
        "\n",
        "\n",
        "                    \n",
        "     \n",
        "\n",
        "\n"
      ],
      "execution_count": 38,
      "outputs": [
        {
          "output_type": "stream",
          "text": [
            "Max Value 2.0\n",
            "------------------- [(2.0, 20)]\n",
            "Class: 2.0\n",
            "Max Value 2.0\n",
            "------------------- [(2.0, 20)]\n",
            "Class: 2.0\n",
            "Max Value 2.0\n",
            "------------------- [(2.0, 20)]\n",
            "Class: 2.0\n",
            "Max Value 2.0\n",
            "------------------- [(2.0, 20)]\n",
            "Class: 2.0\n",
            "Max Value 2.0\n",
            "------------------- [(2.0, 20)]\n",
            "Class: 2.0\n",
            "Max Value 2.0\n",
            "------------------- [(2.0, 20)]\n",
            "Class: 2.0\n",
            "Max Value 2.0\n",
            "------------------- [(2.0, 20)]\n",
            "Class: 2.0\n",
            "Max Value 1.0\n",
            "------------------- [(1.0, 16)]\n",
            "Class: 1.0\n",
            "Max Value 1.0\n",
            "------------------- [(1.0, 19)]\n",
            "Class: 1.0\n",
            "Max Value 1.0\n",
            "------------------- [(1.0, 18)]\n",
            "Class: 1.0\n",
            "Max Value 1.0\n",
            "------------------- [(1.0, 13)]\n",
            "Class: 1.0\n",
            "Max Value 0.0\n",
            "------------------- [(0.0, 11)]\n",
            "Max Value 1.0\n",
            "------------------- [(1.0, 10)]\n",
            "Class: 1.0\n",
            "Max Value 1.0\n",
            "------------------- [(1.0, 19)]\n",
            "Class: 1.0\n",
            "Max Value 1.0\n",
            "------------------- [(1.0, 13)]\n",
            "Class: 1.0\n",
            "Max Value 1.0\n",
            "------------------- [(1.0, 19)]\n",
            "Class: 1.0\n",
            "Max Value 1.0\n",
            "------------------- [(1.0, 15)]\n",
            "Class: 1.0\n",
            "Max Value 1.0\n",
            "------------------- [(1.0, 19)]\n",
            "Class: 1.0\n",
            "Max Value 1.0\n",
            "------------------- [(1.0, 16)]\n",
            "Class: 1.0\n",
            "Max Value 0.0\n",
            "------------------- [(0.0, 18)]\n",
            "Class: 0.0\n",
            "Max Value 0.0\n",
            "------------------- [(0.0, 20)]\n",
            "Class: 0.0\n",
            "Max Value 0.0\n",
            "------------------- [(0.0, 13)]\n",
            "Class: 0.0\n",
            "Max Value 0.0\n",
            "------------------- [(0.0, 20)]\n",
            "Class: 0.0\n",
            "Max Value 0.0\n",
            "------------------- [(0.0, 18)]\n",
            "Class: 0.0\n",
            "Max Value 0.0\n",
            "------------------- [(0.0, 20)]\n",
            "Class: 0.0\n",
            "Max Value 0.0\n",
            "------------------- [(0.0, 19)]\n",
            "Class: 0.0\n",
            "Max Value 0.0\n",
            "------------------- [(0.0, 19)]\n",
            "Class: 0.0\n",
            "Accuracy For Classification :  113.04347826086956\n"
          ],
          "name": "stdout"
        }
      ]
    },
    {
      "cell_type": "markdown",
      "metadata": {
        "id": "DNJQbwqNv_FF"
      },
      "source": [
        "Regression\n"
      ]
    },
    {
      "cell_type": "code",
      "metadata": {
        "id": "-RwwEZEYwBKn",
        "colab": {
          "resources": {
            "http://localhost:8080/nbextensions/google.colab/files.js": {
              "data": "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",
              "ok": true,
              "headers": [
                [
                  "content-type",
                  "application/javascript"
                ]
              ],
              "status": 200,
              "status_text": ""
            }
          },
          "base_uri": "https://localhost:8080/",
          "height": 72
        },
        "outputId": "24b5fea7-b93a-4e69-d4cf-812087021526"
      },
      "source": [
        "#Dataset Uploading Diabetes.csv Dataset\n",
        "from google.colab import files\n",
        "uploaded = files.upload() "
      ],
      "execution_count": 47,
      "outputs": [
        {
          "output_type": "display_data",
          "data": {
            "text/html": [
              "\n",
              "     <input type=\"file\" id=\"files-960bda73-9d2d-4983-b58e-889a5e1aac79\" name=\"files[]\" multiple disabled\n",
              "        style=\"border:none\" />\n",
              "     <output id=\"result-960bda73-9d2d-4983-b58e-889a5e1aac79\">\n",
              "      Upload widget is only available when the cell has been executed in the\n",
              "      current browser session. Please rerun this cell to enable.\n",
              "      </output>\n",
              "      <script src=\"/nbextensions/google.colab/files.js\"></script> "
            ],
            "text/plain": [
              "<IPython.core.display.HTML object>"
            ]
          },
          "metadata": {
            "tags": []
          }
        },
        {
          "output_type": "stream",
          "text": [
            "Saving diabetes.csv to diabetes (1).csv\n"
          ],
          "name": "stdout"
        }
      ]
    },
    {
      "cell_type": "code",
      "metadata": {
        "colab": {
          "base_uri": "https://localhost:8080/"
        },
        "id": "Zvr4H7nab4fx",
        "outputId": "10ce2aef-2ec4-468e-d56c-ed792851704d"
      },
      "source": [
        "!ls"
      ],
      "execution_count": 48,
      "outputs": [
        {
          "output_type": "stream",
          "text": [
            "'diabetes (1).csv'   diabetes.csv   iris.csv   sample_data\n"
          ],
          "name": "stdout"
        }
      ]
    },
    {
      "cell_type": "code",
      "metadata": {
        "colab": {
          "base_uri": "https://localhost:8080/"
        },
        "id": "N5UTn-wkPsyo",
        "outputId": "e7451c24-126c-4263-fe00-91a1dc4d0f99"
      },
      "source": [
        "#Printing the  Diabetes Dataset\n",
        "lines=[]\n",
        "\n",
        "with open('diabetes.csv') as f:\n",
        "    lines = f.read().splitlines()\n",
        "    \n",
        "print(lines[0:])"
      ],
      "execution_count": 49,
      "outputs": [
        {
          "output_type": "stream",
          "text": [
            "['0.0380759064334241,0.0506801187398187,0.0616962065186885,0.0218723549949558,-0.0442234984244464,-0.0348207628376986,-0.0434008456520269,-0.00259226199818282,0.0199084208763183,-0.0176461251598052,151.0', '-0.00188201652779104,-0.044641636506989,-0.0514740612388061,-0.0263278347173518,-0.00844872411121698,-0.019163339748222,0.0744115640787594,-0.0394933828740919,-0.0683297436244215,-0.09220404962683,75.0', '0.0852989062966783,0.0506801187398187,0.0444512133365941,-0.00567061055493425,-0.0455994512826475,-0.0341944659141195,-0.0323559322397657,-0.00259226199818282,0.00286377051894013,-0.0259303389894746,141.0', '-0.0890629393522603,-0.044641636506989,-0.0115950145052127,-0.0366564467985606,0.0121905687618,0.0249905933641021,-0.0360375700438527,0.0343088588777263,0.0226920225667445,-0.0093619113301358,206.0', '0.00538306037424807,-0.044641636506989,-0.0363846922044735,0.0218723549949558,0.00393485161259318,0.0155961395104161,0.0081420836051921,-0.00259226199818282,-0.0319914449413559,-0.0466408735636482,135.0', '-0.0926954778032799,-0.044641636506989,-0.0406959404999971,-0.0194420933298793,-0.0689906498720667,-0.0792878444118122,0.0412768238419757,-0.076394503750001,-0.0411803851880079,-0.0963461565416647,97.0', '-0.0454724779400257,0.0506801187398187,-0.0471628129432825,-0.015999222636143,-0.040095639849843,-0.0248000120604336,0.000778807997017968,-0.0394933828740919,-0.0629129499162512,-0.0383566597339788,138.0', '0.063503675590561,0.0506801187398187,-0.00189470584028465,0.0666296740135272,0.0906198816792644,0.108914381123697,0.0228686348215404,0.0177033544835672,-0.0358167281015492,0.00306440941436832,63.0', '0.0417084448844436,0.0506801187398187,0.0616962065186885,-0.0400993174922969,-0.0139525355440215,0.00620168565673016,-0.0286742944356786,-0.00259226199818282,-0.0149564750249113,0.0113486232440377,110.0', '-0.0709002470971626,-0.044641636506989,0.0390621529671896,-0.0332135761048244,-0.0125765826858204,-0.034507614375909,-0.0249926566315915,-0.00259226199818282,0.0677363261102861,-0.0135040182449705,310.0', '-0.0963280162542995,-0.044641636506989,-0.0838084234552331,0.0081008722200108,-0.103389471327095,-0.0905611890362353,-0.0139477432193303,-0.076394503750001,-0.0629129499162512,-0.0342145528191441,101.0', '0.0271782910803654,0.0506801187398187,0.0175059114895716,-0.0332135761048244,-0.00707277125301585,0.0459715403040008,-0.0654906724765493,0.0712099797536354,-0.096433222891784,-0.0590671943081523,69.0', '0.0162806757273067,-0.044641636506989,-0.0288400076873072,-0.00911348124867051,-0.00432086553661359,-0.00976888589453599,0.0449584616460628,-0.0394933828740919,-0.0307512098645563,-0.0424987666488135,179.0', '0.00538306037424807,0.0506801187398187,-0.00189470584028465,0.0081008722200108,-0.00432086553661359,-0.0157187066685371,-0.0029028298070691,-0.00259226199818282,0.0383932482116977,-0.0135040182449705,185.0', '0.0453409833354632,-0.044641636506989,-0.0256065714656645,-0.0125563519424068,0.0176943801946045,-6.12835790604833e-05,0.0817748396869335,-0.0394933828740919,-0.0319914449413559,-0.0756356219674911,118.0', '-0.0527375548420648,0.0506801187398187,-0.0180618869484982,0.0804011567884723,0.0892439288210632,0.107661787276539,-0.0397192078479398,0.108111100629544,0.0360557900898319,-0.0424987666488135,171.0', '-0.00551455497881059,-0.044641636506989,0.0422955891888323,0.0494153205448459,0.0245741444856101,-0.0238605666750649,0.0744115640787594,-0.0394933828740919,0.0522799997967812,0.0279170509033766,166.0', '0.0707687524926,0.0506801187398187,0.0121168511201671,0.0563010619323185,0.034205814493018,0.0494161733836856,-0.0397192078479398,0.0343088588777263,0.027367707542609,-0.00107769750046639,144.0', '-0.0382074010379866,-0.044641636506989,-0.0105172024313319,-0.0366564467985606,-0.0373437341334407,-0.0194764882100115,-0.0286742944356786,-0.00259226199818282,-0.0181182673078967,-0.0176461251598052,97.0', '-0.0273097856849279,-0.044641636506989,-0.0180618869484982,-0.0400993174922969,-0.00294491267841247,-0.0113346282034837,0.0375951860378887,-0.0394933828740919,-0.0089440189577978,-0.0549250873933176,168.0', '-0.0491050163910452,-0.044641636506989,-0.0568631216082106,-0.0435421881860331,-0.0455994512826475,-0.043275771306016,0.000778807997017968,-0.0394933828740919,-0.0119006848015081,0.0154907301588724,68.0', '-0.0854304009012408,0.0506801187398187,-0.0223731352440218,0.00121513083253827,-0.0373437341334407,-0.0263657543693812,0.0155053592133662,-0.0394933828740919,-0.072128454601956,-0.0176461251598052,49.0', '-0.0854304009012408,-0.044641636506989,-0.00405032998804645,-0.00911348124867051,-0.00294491267841247,0.00776742796567782,0.0228686348215404,-0.0394933828740919,-0.0611765950943345,-0.0135040182449705,68.0', '0.0453409833354632,0.0506801187398187,0.0606183944448076,0.0310533436263482,0.0287020030602135,-0.0473467013092799,-0.0544457590642881,0.0712099797536354,0.133598980013008,0.135611830689079,245.0', '-0.0636351701951234,-0.044641636506989,0.0358287167455469,-0.0228849640236156,-0.0304639698424351,-0.0188501912864324,-0.00658446761115617,-0.00259226199818282,-0.0259524244351894,-0.0549250873933176,184.0', '-0.067267708646143,0.0506801187398187,-0.0126728265790937,-0.0400993174922969,-0.0153284884022226,0.0046359433477825,-0.0581273968683752,0.0343088588777263,0.0191990330785671,-0.0342145528191441,202.0', '-0.107225631607358,-0.044641636506989,-0.0773415510119477,-0.0263278347173518,-0.0896299427450836,-0.0961978613484469,0.0265502726256275,-0.076394503750001,-0.0425721049227942,-0.0052198044153011,137.0', '-0.0236772472339084,-0.044641636506989,0.0595405823709267,-0.0400993174922969,-0.0428475455662452,-0.0435889197678055,0.0118237214092792,-0.0394933828740919,-0.0159982677581387,0.0403433716478807,85.0', '0.0526060602375023,-0.044641636506989,-0.0212953231701409,-0.0745280244296595,-0.040095639849843,-0.0376390989938044,-0.00658446761115617,-0.0394933828740919,-0.000609254186102297,-0.0549250873933176,131.0', '0.0671362140415805,0.0506801187398187,-0.00620595413580824,0.063186803319791,-0.0428475455662452,-0.0958847128866574,0.052321737254237,-0.076394503750001,0.0594238004447941,0.0527696923923848,283.0', '-0.0600026317441039,-0.044641636506989,0.0444512133365941,-0.0194420933298793,-0.00982467696941811,-0.00757684666200928,0.0228686348215404,-0.0394933828740919,-0.0271286455543265,-0.0093619113301358,129.0', '-0.0236772472339084,-0.044641636506989,-0.0654856181992578,-0.081413765817132,-0.0387196869916418,-0.0536096705450705,0.0596850128624111,-0.076394503750001,-0.0371283460104736,-0.0424987666488135,59.0', '0.0344433679824045,0.0506801187398187,0.125287118877662,0.0287580963824284,-0.0538551684318543,-0.0129003705124313,-0.10230705051742,0.108111100629544,0.000271485727907132,0.0279170509033766,341.0', '0.030810829531385,-0.044641636506989,-0.0503962491649252,-0.00222773986119799,-0.0442234984244464,-0.0899348921126563,0.118591217727804,-0.076394503750001,-0.0181182673078967,0.00306440941436832,87.0', '0.0162806757273067,-0.044641636506989,-0.063329994051496,-0.0573136709609782,-0.0579830270064577,-0.0489124436182275,0.0081420836051921,-0.0394933828740919,-0.0594726974107223,-0.0673514081378217,65.0', '0.0489735217864827,0.0506801187398187,-0.030995631835069,-0.0492803060204031,0.0493412959332305,-0.00413221358232442,0.133317768944152,-0.0535158088069373,0.0213108465682448,0.0196328370737072,102.0', '0.0126481372762872,-0.044641636506989,0.0228949718589761,0.0528581912385822,0.00806271018719657,-0.0285577936019079,0.0375951860378887,-0.0394933828740919,0.0547240033481791,-0.0259303389894746,265.0', '-0.00914709342983014,-0.044641636506989,0.0110390390462862,-0.0573136709609782,-0.0249601584096305,-0.0429626228442264,0.0302319104297145,-0.0394933828740919,0.01703713241478,-0.0052198044153011,276.0', '-0.00188201652779104,0.0506801187398187,0.0713965151836166,0.0976155102571536,0.0878679759628621,0.0754074957122168,-0.0213110188275045,0.0712099797536354,0.0714240327805764,0.0237749439885419,252.0', '-0.00188201652779104,0.0506801187398187,0.0142724752679289,-0.0745280244296595,0.00255889875439205,0.00620168565673016,-0.0139477432193303,-0.00259226199818282,0.0191990330785671,0.00306440941436832,90.0', '0.00538306037424807,0.0506801187398187,-0.00836157828357004,0.0218723549949558,0.054845107366035,0.07321545647969,-0.0249926566315915,0.0343088588777263,0.0125531528133893,0.094190761540732,100.0', '-0.099960554705319,-0.044641636506989,-0.0676412423470196,-0.108956731367022,-0.0744944613048712,-0.072711726714232,0.0155053592133662,-0.0394933828740919,-0.0498684677352306,-0.0093619113301358,55.0', '-0.0600026317441039,0.0506801187398187,-0.0105172024313319,-0.0148515990830405,-0.0497273098572509,-0.0235474182132754,-0.0581273968683752,0.0158582984397717,-0.00991895736315477,-0.0342145528191441,61.0', '0.0199132141783263,-0.044641636506989,-0.0234509473179027,-0.0710851537359232,0.0204462859110067,-0.0100820343563255,0.118591217727804,-0.076394503750001,-0.0425721049227942,0.0734802269665584,92.0', '0.0453409833354632,0.0506801187398187,0.068163078961974,0.0081008722200108,-0.0167044412604238,0.0046359433477825,-0.0765355858888105,0.0712099797536354,0.0324332257796019,-0.0176461251598052,259.0', '0.0271782910803654,0.0506801187398187,-0.0353068801305926,0.0322009670761646,-0.0112006298276192,0.00150445872988718,-0.0102661054152432,-0.00259226199818282,-0.0149564750249113,-0.0507829804784829,53.0', '-0.0563700932930843,-0.044641636506989,-0.0115950145052127,-0.0332135761048244,-0.0469754041408486,-0.0476598497710694,0.00446044580110504,-0.0394933828740919,-0.00797939755454164,-0.0880619427119953,190.0', '-0.0781653239992017,-0.044641636506989,-0.0730303027164241,-0.0573136709609782,-0.0841261313122791,-0.0742774690231797,-0.0249926566315915,-0.0394933828740919,-0.0181182673078967,-0.0839198357971606,142.0', '0.0671362140415805,0.0506801187398187,-0.041773752573878,0.0115437429137471,0.00255889875439205,0.00588853719494063,0.0412768238419757,-0.0394933828740919,-0.0594726974107223,-0.0217882320746399,75.0', '-0.0418399394890061,0.0506801187398187,0.0142724752679289,-0.00567061055493425,-0.0125765826858204,0.00620168565673016,-0.0728539480847234,0.0712099797536354,0.0354619386607697,-0.0135040182449705,142.0', '0.0344433679824045,-0.044641636506989,-0.00728376620968916,0.0149866136074833,-0.0442234984244464,-0.0373259505320149,-0.0029028298070691,-0.0394933828740919,-0.02139368094036,0.00720651632920303,155.0', '0.0598711371395414,0.0506801187398187,0.0164280994156907,0.0287580963824284,-0.0414715927080441,-0.029184090525487,-0.0286742944356786,-0.00259226199818282,-0.00239668149341427,-0.0217882320746399,225.0', '-0.0527375548420648,-0.044641636506989,-0.00943939035745095,-0.00567061055493425,0.0397096259258226,0.0447189464568426,0.0265502726256275,-0.00259226199818282,-0.0181182673078967,-0.0135040182449705,59.0', '-0.00914709342983014,-0.044641636506989,-0.0159062628007364,0.0700725447072635,0.0121905687618,0.0221722572079963,0.0155053592133662,-0.00259226199818282,-0.0332487872476258,0.0486275854775501,104.0', '-0.0491050163910452,-0.044641636506989,0.0250505960067379,0.0081008722200108,0.0204462859110067,0.0177881787429428,0.052321737254237,-0.0394933828740919,-0.0411803851880079,0.00720651632920303,182.0', '-0.0418399394890061,-0.044641636506989,-0.0493184370910443,-0.0366564467985606,-0.00707277125301585,-0.0226079728279068,0.0854564774910206,-0.0394933828740919,-0.0664881482228354,0.00720651632920303,128.0', '-0.0418399394890061,-0.044641636506989,0.0412177771149514,-0.0263278347173518,-0.0318399227006362,-0.0304366843726451,-0.0360375700438527,0.00294290613320356,0.0336568129023847,-0.0176461251598052,52.0', '-0.0273097856849279,-0.044641636506989,-0.063329994051496,-0.0504279295735057,-0.0896299427450836,-0.104339721354975,0.052321737254237,-0.076394503750001,-0.0561575730950062,-0.0673514081378217,37.0', '0.0417084448844436,-0.044641636506989,-0.064407806125377,0.0356438377699009,0.0121905687618,-0.057993749010124,0.181179060397284,-0.076394503750001,-0.000609254186102297,-0.0507829804784829,170.0', '0.063503675590561,0.0506801187398187,-0.0256065714656645,0.0115437429137471,0.0644767773734429,0.048476727998317,0.0302319104297145,-0.00259226199818282,0.0383932482116977,0.0196328370737072,170.0', '-0.0709002470971626,-0.044641636506989,-0.00405032998804645,-0.0400993174922969,-0.0662387441556644,-0.0786615474882331,0.052321737254237,-0.076394503750001,-0.0514005352605825,-0.0342145528191441,61.0', '-0.0418399394890061,0.0506801187398187,0.00457216660300077,-0.0538708002672419,-0.0442234984244464,-0.0273051997547498,-0.0802172236928976,0.0712099797536354,0.0366457977933988,0.0196328370737072,144.0', '-0.0273097856849279,0.0506801187398187,-0.00728376620968916,-0.0400993174922969,-0.0112006298276192,-0.0138398158977999,0.0596850128624111,-0.0394933828740919,-0.0823814832581028,-0.0259303389894746,52.0', '-0.034574862586967,-0.044641636506989,-0.0374625042783544,-0.0607565416547144,0.0204462859110067,0.0434663526096845,-0.0139477432193303,-0.00259226199818282,-0.0307512098645563,-0.0714935150526564,128.0', '0.0671362140415805,0.0506801187398187,-0.0256065714656645,-0.0400993174922969,-0.0634868384392622,-0.0598726397808612,-0.0029028298070691,-0.0394933828740919,-0.0191970476139445,0.0113486232440377,71.0', '-0.0454724779400257,0.0506801187398187,-0.0245287593917836,0.0597439326260547,0.00531080447079431,0.0149698425868371,-0.0544457590642881,0.0712099797536354,0.0423448954496075,0.0154907301588724,163.0', '-0.00914709342983014,0.0506801187398187,-0.0180618869484982,-0.0332135761048244,-0.0208322998350272,0.0121515064307313,-0.0728539480847234,0.0712099797536354,0.000271485727907132,0.0196328370737072,150.0', '0.0417084448844436,0.0506801187398187,-0.0148284507268555,-0.0171468461892456,-0.00569681839481472,0.00839372488925688,-0.0139477432193303,-0.00185423958066465,-0.0119006848015081,0.00306440941436832,97.0', '0.0380759064334241,0.0506801187398187,-0.0299178197611881,-0.0400993174922969,-0.0332158755588373,-0.0241737151368545,-0.0102661054152432,-0.00259226199818282,-0.0129079422541688,0.00306440941436832,160.0', '0.0162806757273067,-0.044641636506989,-0.0460850008694016,-0.00567061055493425,-0.0758704141630723,-0.0614383820898088,-0.0139477432193303,-0.0394933828740919,-0.0514005352605825,0.0196328370737072,178.0', '-0.00188201652779104,-0.044641636506989,-0.0697968664947814,-0.0125563519424068,-0.000193006962010205,-0.00914258897095694,0.0707299262746723,-0.0394933828740919,-0.0629129499162512,0.0403433716478807,48.0', '-0.00188201652779104,-0.044641636506989,0.0336730925977851,0.125158475807044,0.0245741444856101,0.0262431872112602,-0.0102661054152432,-0.00259226199818282,0.0267142576335128,0.0610539062220542,270.0', '0.063503675590561,0.0506801187398187,-0.00405032998804645,-0.0125563519424068,0.103003457403075,0.0487898764601065,0.056003375058324,-0.00259226199818282,0.0844952822124031,-0.0176461251598052,202.0', '0.0126481372762872,0.0506801187398187,-0.02021751109626,-0.00222773986119799,0.0383336730676214,0.05317395492516,-0.00658446761115617,0.0343088588777263,-0.00514530798026311,-0.0093619113301358,111.0', '0.0126481372762872,0.0506801187398187,0.00241654245523897,0.0563010619323185,0.0273260502020124,0.0171618818193638,0.0412768238419757,-0.0394933828740919,0.00371173823343597,0.0734802269665584,85.0', '-0.00914709342983014,0.0506801187398187,-0.030995631835069,-0.0263278347173518,-0.0112006298276192,-0.00100072896442909,-0.0213110188275045,-0.00259226199818282,0.0062093156165054,0.0279170509033766,42.0', '-0.0309423241359475,0.0506801187398187,0.0282840322283806,0.0700725447072635,-0.126780669916514,-0.106844909049291,-0.0544457590642881,-0.047980640675551,-0.0307512098645563,0.0154907301588724,170.0', '-0.0963280162542995,-0.044641636506989,-0.0363846922044735,-0.0745280244296595,-0.0387196869916418,-0.0276183482165393,0.0155053592133662,-0.0394933828740919,-0.0740888714915354,-0.00107769750046639,200.0', '0.00538306037424807,-0.044641636506989,-0.0579409336820915,-0.0228849640236156,-0.0676146970138656,-0.0683276482491785,-0.0544457590642881,-0.00259226199818282,0.0428956878925287,-0.0839198357971606,252.0', '-0.103593093156339,-0.044641636506989,-0.0374625042783544,-0.0263278347173518,0.00255889875439205,0.0199802179754696,0.0118237214092792,-0.00259226199818282,-0.0683297436244215,-0.0259303389894746,113.0', '0.0707687524926,-0.044641636506989,0.0121168511201671,0.0425295791573734,0.0713565416644485,0.0534871033869495,0.052321737254237,-0.00259226199818282,0.0253931349154494,-0.0052198044153011,143.0', '0.0126481372762872,0.0506801187398187,-0.0223731352440218,-0.0297707054110881,0.0108146159035988,0.0284352264437869,-0.0213110188275045,0.0343088588777263,-0.00608024819631442,-0.00107769750046639,51.0', '-0.0164121703318693,-0.044641636506989,-0.0353068801305926,-0.0263278347173518,0.0328298616348169,0.0171618818193638,0.100183028707369,-0.0394933828740919,-0.0702093127286876,-0.0797777288823259,52.0', '-0.0382074010379866,-0.044641636506989,0.00996122697240527,-0.0469850588797694,-0.0593589798646588,-0.0529833736214915,-0.0102661054152432,-0.0394933828740919,-0.0159982677581387,-0.0424987666488135,210.0', '0.00175052192322852,-0.044641636506989,-0.0396181284261162,-0.100923366426447,-0.0290880169842339,-0.0301235359108556,0.0449584616460628,-0.0501947079281055,-0.0683297436244215,-0.129483011860342,65.0', '0.0453409833354632,-0.044641636506989,0.0713965151836166,0.00121513083253827,-0.00982467696941811,-0.00100072896442909,0.0155053592133662,-0.0394933828740919,-0.0411803851880079,-0.0714935150526564,141.0', '-0.0709002470971626,0.0506801187398187,-0.0751859268641859,-0.0400993174922969,-0.051103262715452,-0.015092409744958,-0.0397192078479398,-0.00259226199818282,-0.096433222891784,-0.0342145528191441,55.0', '0.0453409833354632,-0.044641636506989,-0.00620595413580824,0.0115437429137471,0.0631008245152418,0.0162224364339952,0.0965013909032818,-0.0394933828740919,0.0428956878925287,-0.0383566597339788,134.0', '-0.0527375548420648,0.0506801187398187,-0.0406959404999971,-0.067642283042187,-0.0318399227006362,-0.0370128020702253,0.0375951860378887,-0.0394933828740919,-0.0345237153303495,0.0693381200517237,42.0', '-0.0454724779400257,-0.044641636506989,-0.0482406250171634,-0.0194420933298793,-0.000193006962010205,-0.0160318551303266,0.0670482884705852,-0.0394933828740919,-0.0247911874324607,0.0196328370737072,111.0', '0.0126481372762872,-0.044641636506989,-0.0256065714656645,-0.0400993174922969,-0.0304639698424351,-0.0451546620767532,0.0780932018828464,-0.076394503750001,-0.072128454601956,0.0113486232440377,98.0', '0.0453409833354632,-0.044641636506989,0.0519958978537604,-0.0538708002672419,0.0631008245152418,0.0647604480113727,-0.0102661054152432,0.0343088588777263,0.0372320112089689,0.0196328370737072,164.0', '-0.0200447087828888,-0.044641636506989,0.00457216660300077,0.0976155102571536,0.00531080447079431,-0.0207290820571696,0.0633666506664982,-0.0394933828740919,0.0125531528133893,0.0113486232440377,48.0', '-0.0491050163910452,-0.044641636506989,-0.064407806125377,-0.10207098997955,-0.00294491267841247,-0.0154055582067476,0.0633666506664982,-0.0472426182580328,-0.0332487872476258,-0.0549250873933176,96.0', '-0.0781653239992017,-0.044641636506989,-0.0169840748746173,-0.0125563519424068,-0.000193006962010205,-0.0135266674360104,0.0707299262746723,-0.0394933828740919,-0.0411803851880079,-0.09220404962683,90.0', '-0.0709002470971626,-0.044641636506989,-0.0579409336820915,-0.081413765817132,-0.0455994512826475,-0.0288709420636975,-0.0434008456520269,-0.00259226199818282,0.00114379737951254,-0.0052198044153011,162.0', '0.0562385986885218,0.0506801187398187,0.00996122697240527,0.0494153205448459,-0.00432086553661359,-0.0122740735888523,-0.0434008456520269,0.0343088588777263,0.060787754150744,0.0320591578182113,150.0', '-0.0273097856849279,-0.044641636506989,0.088641508365711,-0.0251802111642493,0.0218222387692079,0.0425269072243159,-0.0323559322397657,0.0343088588777263,0.00286377051894013,0.0776223338813931,279.0', '0.00175052192322852,0.0506801187398187,-0.00512814206192736,-0.0125563519424068,-0.0153284884022226,-0.0138398158977999,0.0081420836051921,-0.0394933828740919,-0.00608024819631442,-0.0673514081378217,92.0', '-0.00188201652779104,-0.044641636506989,-0.064407806125377,0.0115437429137471,0.0273260502020124,0.0375165318356834,-0.0139477432193303,0.0343088588777263,0.0117839003835759,-0.0549250873933176,83.0', '0.0162806757273067,-0.044641636506989,0.0175059114895716,-0.0228849640236156,0.0603489187988395,0.0444057979950531,0.0302319104297145,-0.00259226199818282,0.0372320112089689,-0.00107769750046639,128.0', '0.0162806757273067,0.0506801187398187,-0.0450071887955207,0.063186803319791,0.0108146159035988,-0.00037443204085002,0.0633666506664982,-0.0394933828740919,-0.0307512098645563,0.036201264733046,102.0', '-0.0926954778032799,-0.044641636506989,0.0282840322283806,-0.015999222636143,0.0369577202094203,0.0249905933641021,0.056003375058324,-0.0394933828740919,-0.00514530798026311,-0.00107769750046639,302.0', '0.0598711371395414,0.0506801187398187,0.0412177771149514,0.0115437429137471,0.0410855787840237,0.0707102687853738,-0.0360375700438527,0.0343088588777263,-0.0109044358473771,-0.0300724459043093,198.0', '-0.0273097856849279,-0.044641636506989,0.0649296427403312,-0.00222773986119799,-0.0249601584096305,-0.0172844489774848,0.0228686348215404,-0.0394933828740919,-0.0611765950943345,-0.063209301222987,95.0', '0.0235457526293458,0.0506801187398187,-0.0320734439089499,-0.0400993174922969,-0.0318399227006362,-0.0216685274425382,-0.0139477432193303,-0.00259226199818282,-0.0109044358473771,0.0196328370737072,53.0', '-0.0963280162542995,-0.044641636506989,-0.0762637389380668,-0.0435421881860331,-0.0455994512826475,-0.0348207628376986,0.0081420836051921,-0.0394933828740919,-0.0594726974107223,-0.0839198357971606,134.0', '0.0271782910803654,-0.044641636506989,0.0498402737059986,-0.0550184238203444,-0.00294491267841247,0.0406480164535787,-0.0581273968683752,0.0527594193156808,-0.0529587932392004,-0.0052198044153011,144.0', '0.0199132141783263,0.0506801187398187,0.045529025410475,0.0299057198322448,-0.062110885581061,-0.0558017097775973,-0.0728539480847234,0.0269286347025444,0.0456008084141249,0.0403433716478807,232.0', '0.0380759064334241,0.0506801187398187,-0.00943939035745095,0.0023627543856408,0.00118294589619092,0.0375165318356834,-0.0544457590642881,0.0501763408543672,-0.0259524244351894,0.106617082285236,81.0', '0.0417084448844436,0.0506801187398187,-0.0320734439089499,-0.0228849640236156,-0.0497273098572509,-0.0401442866881206,0.0302319104297145,-0.0394933828740919,-0.126097385560409,0.0154907301588724,104.0', '0.0199132141783263,-0.044641636506989,0.00457216660300077,-0.0263278347173518,0.023198191627409,0.0102726156599941,0.0670482884705852,-0.0394933828740919,-0.0236445575721341,-0.0466408735636482,59.0', '-0.0854304009012408,-0.044641636506989,0.0207393477112143,-0.0263278347173518,0.00531080447079431,0.01966706951368,-0.0029028298070691,-0.00259226199818282,-0.0236445575721341,0.00306440941436832,246.0', '0.0199132141783263,0.0506801187398187,0.0142724752679289,0.063186803319791,0.0149424744782022,0.0202933664372591,-0.0470824834561139,0.0343088588777263,0.0466607723568145,0.0900486546258972,297.0', '0.0235457526293458,-0.044641636506989,0.110197749843329,0.063186803319791,0.0135665216200011,-0.0329418720669614,-0.0249926566315915,0.0206554441536399,0.09924022573399,0.0237749439885419,258.0', '-0.0309423241359475,0.0506801187398187,0.00133873038135806,-0.00567061055493425,0.0644767773734429,0.0494161733836856,-0.0470824834561139,0.108111100629544,0.0837967663655224,0.00306440941436832,229.0', '0.0489735217864827,0.0506801187398187,0.0584627702970458,0.0700725447072635,0.0135665216200011,0.0206065148990486,-0.0213110188275045,0.0343088588777263,0.0220040504561505,0.0279170509033766,275.0', '0.0598711371395414,-0.044641636506989,-0.0212953231701409,0.0872868981759448,0.0452134373586271,0.0315667110616823,-0.0470824834561139,0.0712099797536354,0.0791210813896579,0.135611830689079,281.0', '-0.0563700932930843,0.0506801187398187,-0.0105172024313319,0.0253152256886921,0.023198191627409,0.0400217195299996,-0.0397192078479398,0.0343088588777263,0.0206123307213641,0.0569117993072195,179.0', '0.0162806757273067,-0.044641636506989,-0.0471628129432825,-0.00222773986119799,-0.019456346976826,-0.0429626228442264,0.0339135482338016,-0.0394933828740919,0.027367707542609,0.0279170509033766,200.0', '-0.0491050163910452,-0.044641636506989,0.00457216660300077,0.0115437429137471,-0.0373437341334407,-0.0185370428246429,-0.0176293810234174,-0.00259226199818282,-0.0398095943643375,-0.0217882320746399,200.0', '0.063503675590561,-0.044641636506989,0.0175059114895716,0.0218723549949558,0.00806271018719657,0.0215459602844172,-0.0360375700438527,0.0343088588777263,0.0199084208763183,0.0113486232440377,173.0', '0.0489735217864827,0.0506801187398187,0.0810968238485447,0.0218723549949558,0.0438374845004259,0.0641341510877936,-0.0544457590642881,0.0712099797536354,0.0324332257796019,0.0486275854775501,180.0', '0.00538306037424807,0.0506801187398187,0.034750904671666,-0.00108011630809546,0.152537760298315,0.198787989657293,-0.0618090346724622,0.185234443260194,0.0155668445407018,0.0734802269665584,84.0', '-0.00551455497881059,-0.044641636506989,0.023972783932857,0.0081008722200108,-0.0345918284170385,-0.0388916928409625,0.0228686348215404,-0.0394933828740919,-0.0159982677581387,-0.0135040182449705,121.0', '-0.00551455497881059,0.0506801187398187,-0.00836157828357004,-0.00222773986119799,-0.0332158755588373,-0.0636304213223356,-0.0360375700438527,-0.00259226199818282,0.0805854642386665,0.00720651632920303,161.0', '-0.0890629393522603,-0.044641636506989,-0.0611743699037342,-0.0263278347173518,-0.0552311212900554,-0.0545491159304391,0.0412768238419757,-0.076394503750001,-0.0939356455087147,-0.0549250873933176,99.0', '0.0344433679824045,0.0506801187398187,-0.00189470584028465,-0.0125563519424068,0.0383336730676214,0.0137172487396789,0.0780932018828464,-0.0394933828740919,0.00455189046612778,-0.0963461565416647,109.0', '-0.0527375548420648,-0.044641636506989,-0.0622521819776151,-0.0263278347173518,-0.00569681839481472,-0.005071658967693,0.0302319104297145,-0.0394933828740919,-0.0307512098645563,-0.0714935150526564,115.0', '0.00901559882526763,-0.044641636506989,0.0164280994156907,0.00465800152627453,0.0094386630453977,0.0105857641217836,-0.0286742944356786,0.0343088588777263,0.0389683660308856,0.11904340302974,268.0', '-0.0636351701951234,0.0506801187398187,0.0961861928828773,0.104501251644626,-0.00294491267841247,-0.00475851050590347,-0.00658446761115617,-0.00259226199818282,0.0226920225667445,0.0734802269665584,274.0', '-0.0963280162542995,-0.044641636506989,-0.0697968664947814,-0.067642283042187,-0.019456346976826,-0.0107083312799046,0.0155053592133662,-0.0394933828740919,-0.0468794828442166,-0.0797777288823259,158.0', '0.0162806757273067,0.0506801187398187,-0.0212953231701409,-0.00911348124867051,0.034205814493018,0.047850431074738,0.000778807997017968,-0.00259226199818282,-0.0129079422541688,0.0237749439885419,107.0', '-0.0418399394890061,0.0506801187398187,-0.0536296853865679,-0.0400993174922969,-0.0841261313122791,-0.0717722813288634,-0.0029028298070691,-0.0394933828740919,-0.072128454601956,-0.0300724459043093,83.0', '-0.0745327855481821,-0.044641636506989,0.0433734012627132,-0.0332135761048244,0.0121905687618,0.000251864882729031,0.0633666506664982,-0.0394933828740919,-0.0271286455543265,-0.0466408735636482,103.0', '-0.00551455497881059,-0.044641636506989,0.056307146149284,-0.0366564467985606,-0.0483513569990498,-0.0429626228442264,-0.0728539480847234,0.0379989709653172,0.0507815133629732,0.0569117993072195,272.0', '-0.0926954778032799,-0.044641636506989,-0.0816527993074713,-0.0573136709609782,-0.0607349327228599,-0.068014499787389,0.0486400994501499,-0.076394503750001,-0.0664881482228354,-0.0217882320746399,85.0', '0.00538306037424807,-0.044641636506989,0.0498402737059986,0.0976155102571536,-0.0153284884022226,-0.0163450035921162,-0.00658446761115617,-0.00259226199818282,0.01703713241478,-0.0135040182449705,280.0', '0.0344433679824045,0.0506801187398187,0.11127556191721,0.076958286094736,-0.0318399227006362,-0.03388131745233,-0.0213110188275045,-0.00259226199818282,0.028016506523264,0.0734802269665584,336.0', '0.0235457526293458,-0.044641636506989,0.0616962065186885,0.0528581912385822,-0.0345918284170385,-0.0489124436182275,-0.0286742944356786,-0.00259226199818282,0.0547240033481791,-0.0052198044153011,281.0', '0.0417084448844436,0.0506801187398187,0.0142724752679289,0.0425295791573734,-0.0304639698424351,-0.00131387742621863,-0.0434008456520269,-0.00259226199818282,-0.0332487872476258,0.0154907301588724,118.0', '-0.0273097856849279,-0.044641636506989,0.0476846495582368,-0.0469850588797694,0.034205814493018,0.0572448849284239,-0.0802172236928976,0.13025177315509,0.0450661683362615,0.131469723774244,317.0', '0.0417084448844436,0.0506801187398187,0.0121168511201671,0.0390867084636372,0.054845107366035,0.0444057979950531,0.00446044580110504,-0.00259226199818282,0.0456008084141249,-0.00107769750046639,235.0', '-0.0309423241359475,-0.044641636506989,0.00564997867688165,-0.00911348124867051,0.0190703330528056,0.00682798258030921,0.0744115640787594,-0.0394933828740919,-0.0411803851880079,-0.0424987666488135,60.0', '0.030810829531385,0.0506801187398187,0.0466068374843559,-0.015999222636143,0.0204462859110067,0.0506687672308438,-0.0581273968683752,0.0712099797536354,0.0062093156165054,0.00720651632920303,174.0', '-0.0418399394890061,-0.044641636506989,0.128520555099304,0.063186803319791,-0.0332158755588373,-0.0326287236051719,0.0118237214092792,-0.0394933828740919,-0.0159982677581387,-0.0507829804784829,259.0', '-0.0309423241359475,0.0506801187398187,0.0595405823709267,0.00121513083253827,0.0121905687618,0.0315667110616823,-0.0434008456520269,0.0343088588777263,0.0148227108412663,0.00720651632920303,178.0', '-0.0563700932930843,-0.044641636506989,0.0929527566612346,-0.0194420933298793,0.0149424744782022,0.0234248510551544,-0.0286742944356786,0.0254525898675081,0.0260560896336847,0.0403433716478807,128.0', '-0.0600026317441039,0.0506801187398187,0.0153502873418098,-0.0194420933298793,0.0369577202094203,0.0481635795365275,0.0191869970174533,-0.00259226199818282,-0.0307512098645563,-0.00107769750046639,96.0', '-0.0491050163910452,0.0506801187398187,-0.00512814206192736,-0.0469850588797694,-0.0208322998350272,-0.0204159335953801,-0.0691723102806364,0.0712099797536354,0.061237907519701,-0.0383566597339788,126.0', '0.0235457526293458,-0.044641636506989,0.0703187031097357,0.0253152256886921,-0.0345918284170385,-0.014466112821379,-0.0323559322397657,-0.00259226199818282,-0.0191970476139445,-0.0093619113301358,288.0', '0.00175052192322852,-0.044641636506989,-0.00405032998804645,-0.00567061055493425,-0.00844872411121698,-0.0238605666750649,0.052321737254237,-0.0394933828740919,-0.0089440189577978,-0.0135040182449705,88.0', '-0.034574862586967,0.0506801187398187,-0.000816893766403737,0.0700725447072635,0.0397096259258226,0.0669524872438994,-0.0654906724765493,0.108111100629544,0.0267142576335128,0.0734802269665584,292.0', '0.0417084448844436,0.0506801187398187,-0.0439293767216398,0.063186803319791,-0.00432086553661359,0.0162224364339952,-0.0139477432193303,-0.00259226199818282,-0.0345237153303495,0.0113486232440377,71.0', '0.0671362140415805,0.0506801187398187,0.0207393477112143,-0.00567061055493425,0.0204462859110067,0.0262431872112602,-0.0029028298070691,-0.00259226199818282,0.00864028293306308,0.00306440941436832,197.0', '-0.0273097856849279,0.0506801187398187,0.0606183944448076,0.0494153205448459,0.0851160702464598,0.0863676918748504,-0.0029028298070691,0.0343088588777263,0.0378144788263439,0.0486275854775501,186.0', '-0.0164121703318693,-0.044641636506989,-0.0105172024313319,0.00121513083253827,-0.0373437341334407,-0.0357602082230672,0.0118237214092792,-0.0394933828740919,-0.02139368094036,-0.0342145528191441,25.0', '-0.00188201652779104,0.0506801187398187,-0.0331512559828308,-0.0182944697767768,0.0314539087766158,0.0428400556861055,-0.0139477432193303,0.0199174217361217,0.0102256424049578,0.0279170509033766,84.0', '-0.0127796318808497,-0.044641636506989,-0.0654856181992578,-0.0699375301828207,0.00118294589619092,0.0168487333575743,-0.0029028298070691,-0.00702039650329191,-0.0307512098645563,-0.0507829804784829,96.0', '-0.00551455497881059,-0.044641636506989,0.0433734012627132,0.0872868981759448,0.0135665216200011,0.00714113104209875,-0.0139477432193303,-0.00259226199818282,0.0423448954496075,-0.0176461251598052,195.0', '-0.00914709342983014,-0.044641636506989,-0.0622521819776151,-0.0745280244296595,-0.0235842055514294,-0.0132135189742209,0.00446044580110504,-0.0394933828740919,-0.0358167281015492,-0.0466408735636482,53.0', '-0.0454724779400257,0.0506801187398187,0.0638518306664503,0.0700725447072635,0.133274420283499,0.131461070372543,-0.0397192078479398,0.108111100629544,0.0757375884575476,0.0859065477110625,217.0', '-0.0527375548420648,-0.044641636506989,0.0304396563761424,-0.0745280244296595,-0.0235842055514294,-0.0113346282034837,-0.0029028298070691,-0.00259226199818282,-0.0307512098645563,-0.00107769750046639,172.0', '0.0162806757273067,0.0506801187398187,0.0724743272574975,0.076958286094736,-0.00844872411121698,0.00557538873315109,-0.00658446761115617,-0.00259226199818282,-0.0236445575721341,0.0610539062220542,131.0', '0.0453409833354632,-0.044641636506989,-0.019139699022379,0.0218723549949558,0.0273260502020124,-0.0135266674360104,0.100183028707369,-0.0394933828740919,0.0177634778671173,-0.0135040182449705,214.0', '-0.0418399394890061,-0.044641636506989,-0.0665634302731387,-0.0469850588797694,-0.0373437341334407,-0.043275771306016,0.0486400994501499,-0.0394933828740919,-0.0561575730950062,-0.0135040182449705,59.0', '-0.0563700932930843,0.0506801187398187,-0.0600965578298533,-0.0366564467985606,-0.0882539898868825,-0.0708328359434948,-0.0139477432193303,-0.0394933828740919,-0.0781409106690696,-0.104630370371334,70.0', '0.0707687524926,-0.044641636506989,0.0692408910358548,0.0379390850138207,0.0218222387692079,0.00150445872988718,-0.0360375700438527,0.0391060045915944,0.0776327891955595,0.106617082285236,220.0', '0.00175052192322852,0.0506801187398187,0.0595405823709267,-0.00222773986119799,0.0617248716570406,0.063194705702425,-0.0581273968683752,0.108111100629544,0.0689822116363026,0.12732761685941,268.0', '-0.00188201652779104,-0.044641636506989,-0.0266843835395454,0.0494153205448459,0.0589729659406384,-0.0160318551303266,-0.0470824834561139,0.0712099797536354,0.133598980013008,0.0196328370737072,152.0', '0.0235457526293458,0.0506801187398187,-0.02021751109626,-0.0366564467985606,-0.0139525355440215,-0.015092409744958,0.0596850128624111,-0.0394933828740919,-0.096433222891784,-0.0176461251598052,47.0', '-0.0200447087828888,-0.044641636506989,-0.0460850008694016,-0.0986281192858133,-0.0758704141630723,-0.0598726397808612,-0.0176293810234174,-0.0394933828740919,-0.0514005352605825,-0.0466408735636482,74.0', '0.0417084448844436,0.0506801187398187,0.0713965151836166,0.0081008722200108,0.0383336730676214,0.0159092879722056,-0.0176293810234174,0.0343088588777263,0.0734100780491161,0.0859065477110625,295.0', '-0.0636351701951234,0.0506801187398187,-0.0794971751597095,-0.00567061055493425,-0.071742555588469,-0.0664487574784414,-0.0102661054152432,-0.0394933828740919,-0.0181182673078967,-0.0549250873933176,101.0', '0.0162806757273067,0.0506801187398187,0.00996122697240527,-0.0435421881860331,-0.0965097070360893,-0.0946321190394993,-0.0397192078479398,-0.0394933828740919,0.01703713241478,0.00720651632920303,151.0', '0.0671362140415805,-0.044641636506989,-0.0385403163522353,-0.0263278347173518,-0.0318399227006362,-0.0263657543693812,0.0081420836051921,-0.0394933828740919,-0.0271286455543265,0.00306440941436832,127.0', '0.0453409833354632,0.0506801187398187,0.0196615356373334,0.0390867084636372,0.0204462859110067,0.0259300387494707,0.0081420836051921,-0.00259226199818282,-0.003303712578677,0.0196328370737072,237.0', '0.0489735217864827,-0.044641636506989,0.0272062201544997,-0.0251802111642493,0.023198191627409,0.0184144756665219,-0.0618090346724622,0.0800662487638535,0.0722236508199124,0.0320591578182113,225.0', '0.0417084448844436,-0.044641636506989,-0.00836157828357004,-0.0263278347173518,0.0245741444856101,0.0162224364339952,0.0707299262746723,-0.0394933828740919,-0.0483617248028919,-0.0300724459043093,81.0', '-0.0236772472339084,-0.044641636506989,-0.0159062628007364,-0.0125563519424068,0.0204462859110067,0.0412743133771578,-0.0434008456520269,0.0343088588777263,0.0140724525157685,-0.0093619113301358,151.0', '-0.0382074010379866,0.0506801187398187,0.00457216660300077,0.0356438377699009,-0.0112006298276192,0.00588853719494063,-0.0470824834561139,0.0343088588777263,0.0163049527999418,-0.00107769750046639,107.0', '0.0489735217864827,-0.044641636506989,-0.0428515646477589,-0.0538708002672419,0.0452134373586271,0.0500424703072647,0.0339135482338016,-0.00259226199818282,-0.0259524244351894,-0.063209301222987,64.0', '0.0453409833354632,0.0506801187398187,0.00564997867688165,0.0563010619323185,0.0644767773734429,0.0891860280309562,-0.0397192078479398,0.0712099797536354,0.0155668445407018,-0.0093619113301358,138.0', '0.0453409833354632,0.0506801187398187,-0.0353068801305926,0.063186803319791,-0.00432086553661359,-0.00162702588800815,-0.0102661054152432,-0.00259226199818282,0.0155668445407018,0.0569117993072195,185.0', '0.0162806757273067,-0.044641636506989,0.023972783932857,-0.0228849640236156,-0.0249601584096305,-0.0260526059075917,-0.0323559322397657,-0.00259226199818282,0.0372320112089689,0.0320591578182113,265.0', '-0.0745327855481821,0.0506801187398187,-0.0180618869484982,0.0081008722200108,-0.019456346976826,-0.0248000120604336,-0.0654906724765493,0.0343088588777263,0.0673172179146849,-0.0176461251598052,101.0', '-0.0817978624502212,0.0506801187398187,0.0422955891888323,-0.0194420933298793,0.0397096259258226,0.0575580333902134,-0.0691723102806364,0.108111100629544,0.0471861678860197,-0.0383566597339788,137.0', '-0.067267708646143,-0.044641636506989,-0.0547074974604488,-0.0263278347173518,-0.0758704141630723,-0.082106180567918,0.0486400994501499,-0.076394503750001,-0.0868289932162924,-0.104630370371334,143.0', '0.00538306037424807,-0.044641636506989,-0.00297251791416553,0.0494153205448459,0.0741084473808508,0.0707102687853738,0.0449584616460628,-0.00259226199818282,-0.00149858682029207,-0.0093619113301358,141.0', '-0.00188201652779104,-0.044641636506989,-0.0665634302731387,0.00121513083253827,-0.00294491267841247,0.00307020103883484,0.0118237214092792,-0.00259226199818282,-0.0202887477516296,-0.0259303389894746,79.0', '0.00901559882526763,-0.044641636506989,-0.0126728265790937,0.0287580963824284,-0.0180803941186249,-0.005071658967693,-0.0470824834561139,0.0343088588777263,0.0233748412798208,-0.0052198044153011,292.0', '-0.00551455497881059,0.0506801187398187,-0.041773752573878,-0.0435421881860331,-0.0799982727376757,-0.0761563597939169,-0.0323559322397657,-0.0394933828740919,0.0102256424049578,-0.0093619113301358,178.0', '0.0562385986885218,0.0506801187398187,-0.030995631835069,0.0081008722200108,0.0190703330528056,0.0212328118226277,0.0339135482338016,-0.0394933828740919,-0.0295276227417736,-0.0590671943081523,91.0', '0.00901559882526763,0.0506801187398187,-0.00512814206192736,-0.0641994123484507,0.0699805888062474,0.0838625041805342,-0.0397192078479398,0.0712099797536354,0.0395398780720242,0.0196328370737072,116.0', '-0.067267708646143,-0.044641636506989,-0.0590187457559724,0.0322009670761646,-0.051103262715452,-0.0495387405418066,-0.0102661054152432,-0.0394933828740919,0.00200784054982379,0.0237749439885419,86.0', '0.0271782910803654,0.0506801187398187,0.0250505960067379,0.0149866136074833,0.0259500973438113,0.048476727998317,-0.0397192078479398,0.0343088588777263,0.00783714230182385,0.0237749439885419,122.0', '-0.0236772472339084,-0.044641636506989,-0.0460850008694016,-0.0332135761048244,0.0328298616348169,0.0362639379885253,0.0375951860378887,-0.00259226199818282,-0.0332487872476258,0.0113486232440377,72.0', '0.0489735217864827,0.0506801187398187,0.00349435452911985,0.0700725447072635,-0.00844872411121698,0.0134041002778894,-0.0544457590642881,0.0343088588777263,0.0133159679089277,0.036201264733046,129.0', '-0.0527375548420648,-0.044641636506989,0.0541515220015222,-0.0263278347173518,-0.0552311212900554,-0.03388131745233,-0.0139477432193303,-0.0394933828740919,-0.0740888714915354,-0.0590671943081523,142.0', '0.0417084448844436,-0.044641636506989,-0.0450071887955207,0.0344962143200845,0.0438374845004259,-0.0157187066685371,0.0375951860378887,-0.0144006206784737,0.089898693277671,0.00720651632920303,90.0', '0.0562385986885218,-0.044641636506989,-0.0579409336820915,-0.00796585769556799,0.0520932016496327,0.0491030249218961,0.056003375058324,-0.0214118336448964,-0.0283202425479987,0.0444854785627154,158.0', '-0.034574862586967,0.0506801187398187,-0.0557853095343297,-0.015999222636143,-0.00982467696941811,-0.00788999512379879,0.0375951860378887,-0.0394933828740919,-0.0529587932392004,0.0279170509033766,39.0', '0.0816663678456587,0.0506801187398187,0.00133873038135806,0.0356438377699009,0.126394655992494,0.0910649188016934,0.0191869970174533,0.0343088588777263,0.0844952822124031,-0.0300724459043093,196.0', '-0.00188201652779104,0.0506801187398187,0.0304396563761424,0.0528581912385822,0.0397096259258226,0.0566185880048449,-0.0397192078479398,0.0712099797536354,0.0253931349154494,0.0279170509033766,222.0', '0.110726675453815,0.0506801187398187,0.00672779075076256,0.0287580963824284,-0.0277120641260328,-0.00726369820021974,-0.0470824834561139,0.0343088588777263,0.00200784054982379,0.0776223338813931,277.0', '-0.0309423241359475,-0.044641636506989,0.0466068374843559,0.0149866136074833,-0.0167044412604238,-0.0470335528474903,0.000778807997017968,-0.00259226199818282,0.0634559213720654,-0.0259303389894746,99.0', '0.00175052192322852,0.0506801187398187,0.0261284080806188,-0.00911348124867051,0.0245741444856101,0.038455977221052,-0.0213110188275045,0.0343088588777263,0.00943640914607987,0.00306440941436832,196.0', '0.00901559882526763,-0.044641636506989,0.045529025410475,0.0287580963824284,0.0121905687618,-0.0138398158977999,0.0265502726256275,-0.0394933828740919,0.0461323310394148,0.036201264733046,202.0', '0.030810829531385,-0.044641636506989,0.0401399650410705,0.076958286094736,0.0176943801946045,0.0378296802974729,-0.0286742944356786,0.0343088588777263,-0.00149858682029207,0.11904340302974,155.0', '0.0380759064334241,0.0506801187398187,-0.0180618869484982,0.0666296740135272,-0.051103262715452,-0.0166581520539057,-0.0765355858888105,0.0343088588777263,-0.0119006848015081,-0.0135040182449705,77.0', '0.00901559882526763,-0.044641636506989,0.0142724752679289,0.0149866136074833,0.054845107366035,0.0472241341511589,0.0707299262746723,-0.0394933828740919,-0.0332487872476258,-0.0590671943081523,191.0', '0.0925639831987174,-0.044641636506989,0.0369065288194278,0.0218723549949558,-0.0249601584096305,-0.0166581520539057,0.000778807997017968,-0.0394933828740919,-0.0225121719296605,-0.0217882320746399,70.0', '0.0671362140415805,-0.044641636506989,0.00349435452911985,0.0356438377699009,0.0493412959332305,0.0312535625998928,0.0707299262746723,-0.0394933828740919,-0.000609254186102297,0.0196328370737072,73.0', '0.00175052192322852,-0.044641636506989,-0.0708746785686623,-0.0228849640236156,-0.00156895982021134,-0.00100072896442909,0.0265502726256275,-0.0394933828740919,-0.0225121719296605,0.00720651632920303,49.0', '0.030810829531385,-0.044641636506989,-0.0331512559828308,-0.0228849640236156,-0.0469754041408486,-0.0811667351825494,0.103864666511456,-0.076394503750001,-0.0398095943643375,-0.0549250873933176,65.0', '0.0271782910803654,0.0506801187398187,0.0940305687351156,0.0976155102571536,-0.0345918284170385,-0.0320024266815928,-0.0434008456520269,-0.00259226199818282,0.0366457977933988,0.106617082285236,263.0', '0.0126481372762872,0.0506801187398187,0.0358287167455469,0.0494153205448459,0.0534691545078339,0.0741549018650587,-0.0691723102806364,0.145012221505454,0.0456008084141249,0.0486275854775501,248.0', '0.0744012909436196,-0.044641636506989,0.0315174684500233,0.10105838095089,0.0465893902168282,0.0368902349121043,0.0155053592133662,-0.00259226199818282,0.0336568129023847,0.0444854785627154,296.0', '-0.0418399394890061,-0.044641636506989,-0.0654856181992578,-0.0400993174922969,-0.00569681839481472,0.014343545663258,-0.0434008456520269,0.0343088588777263,0.00702686254915195,-0.0135040182449705,214.0', '-0.0890629393522603,-0.044641636506989,-0.041773752573878,-0.0194420933298793,-0.0662387441556644,-0.0742774690231797,0.0081420836051921,-0.0394933828740919,0.00114379737951254,-0.0300724459043093,185.0', '0.0235457526293458,0.0506801187398187,-0.0396181284261162,-0.00567061055493425,-0.0483513569990498,-0.0332550205287509,0.0118237214092792,-0.0394933828740919,-0.101643547945512,-0.0673514081378217,78.0', '-0.0454724779400257,-0.044641636506989,-0.0385403163522353,-0.0263278347173518,-0.0153284884022226,0.000878161806308105,-0.0323559322397657,-0.00259226199818282,0.00114379737951254,-0.0383566597339788,93.0', '-0.0236772472339084,0.0506801187398187,-0.0256065714656645,0.0425295791573734,-0.0538551684318543,-0.0476598497710694,-0.0213110188275045,-0.0394933828740919,0.00114379737951254,0.0196328370737072,252.0', '-0.099960554705319,-0.044641636506989,-0.0234509473179027,-0.0641994123484507,-0.0579830270064577,-0.0601857882426507,0.0118237214092792,-0.0394933828740919,-0.0181182673078967,-0.0507829804784829,150.0', '-0.0273097856849279,-0.044641636506989,-0.0665634302731387,-0.112399602060758,-0.0497273098572509,-0.0413968805352788,0.000778807997017968,-0.0394933828740919,-0.0358167281015492,-0.0093619113301358,77.0', '0.030810829531385,0.0506801187398187,0.0325952805239042,0.0494153205448459,-0.040095639849843,-0.0435889197678055,-0.0691723102806364,0.0343088588777263,0.0630166151147464,0.00306440941436832,208.0', '-0.103593093156339,0.0506801187398187,-0.0460850008694016,-0.0263278347173518,-0.0249601584096305,-0.0248000120604336,0.0302319104297145,-0.0394933828740919,-0.0398095943643375,-0.0549250873933176,77.0', '0.0671362140415805,0.0506801187398187,-0.0299178197611881,0.0574486853821349,-0.000193006962010205,-0.0157187066685371,0.0744115640787594,-0.0505637191368646,-0.0384591123013538,0.00720651632920303,108.0', '-0.0527375548420648,-0.044641636506989,-0.0126728265790937,-0.0607565416547144,-0.000193006962010205,0.00808057642746734,0.0118237214092792,-0.00259226199818282,-0.0271286455543265,-0.0507829804784829,160.0', '-0.0273097856849279,0.0506801187398187,-0.0159062628007364,-0.0297707054110881,0.00393485161259318,-0.000687580502639557,0.0412768238419757,-0.0394933828740919,-0.0236445575721341,0.0113486232440377,53.0', '-0.0382074010379866,0.0506801187398187,0.0713965151836166,-0.0573136709609782,0.153913713156516,0.155886650392127,0.000778807997017968,0.0719480021711535,0.0502764933899896,0.0693381200517237,220.0', '0.00901559882526763,-0.044641636506989,-0.030995631835069,0.0218723549949558,0.00806271018719657,0.00870687335104641,0.00446044580110504,-0.00259226199818282,0.00943640914607987,0.0113486232440377,154.0', '0.0126481372762872,0.0506801187398187,0.000260918307477141,-0.0114087283893043,0.0397096259258226,0.0572448849284239,-0.0397192078479398,0.0560805201945126,0.024052583226893,0.0320591578182113,259.0', '0.0671362140415805,-0.044641636506989,0.0369065288194278,-0.0504279295735057,-0.0235842055514294,-0.034507614375909,0.0486400994501499,-0.0394933828740919,-0.0259524244351894,-0.0383566597339788,90.0', '0.0453409833354632,-0.044641636506989,0.0390621529671896,0.0459724498511097,0.00668675732899544,-0.0241737151368545,0.0081420836051921,-0.0125555646346783,0.0643282330236709,0.0569117993072195,246.0', '0.0671362140415805,0.0506801187398187,-0.0148284507268555,0.0585963091762383,-0.0593589798646588,-0.034507614375909,-0.0618090346724622,0.012906208769699,-0.00514530798026311,0.0486275854775501,124.0', '0.0271782910803654,-0.044641636506989,0.00672779075076256,0.0356438377699009,0.0796122588136553,0.0707102687853738,0.0155053592133662,0.0343088588777263,0.0406722637144977,0.0113486232440377,67.0', '0.0562385986885218,-0.044641636506989,-0.0687190544209005,-0.0687899065952895,-0.000193006962010205,-0.00100072896442909,0.0449584616460628,-0.0376483268302965,-0.0483617248028919,-0.00107769750046639,72.0', '0.0344433679824045,0.0506801187398187,-0.00943939035745095,0.0597439326260547,-0.0359677812752396,-0.00757684666200928,-0.0765355858888105,0.0712099797536354,0.0110081010458725,-0.0217882320746399,257.0', '0.0235457526293458,-0.044641636506989,0.0196615356373334,-0.0125563519424068,0.0837401173882587,0.0387691256828415,0.0633666506664982,-0.00259226199818282,0.0660482061630984,0.0486275854775501,262.0', '0.0489735217864827,0.0506801187398187,0.0746299514052593,0.0666296740135272,-0.00982467696941811,-0.00225332281158722,-0.0434008456520269,0.0343088588777263,0.0336568129023847,0.0196328370737072,275.0', '0.030810829531385,0.0506801187398187,-0.00836157828357004,0.00465800152627453,0.0149424744782022,0.0274957810584184,0.0081420836051921,-0.00812743012956918,-0.0295276227417736,0.0569117993072195,177.0', '-0.103593093156339,0.0506801187398187,-0.0234509473179027,-0.0228849640236156,-0.0868780370286814,-0.0677013513255995,-0.0176293810234174,-0.0394933828740919,-0.0781409106690696,-0.0714935150526564,71.0', '0.0162806757273067,0.0506801187398187,-0.0460850008694016,0.0115437429137471,-0.0332158755588373,-0.0160318551303266,-0.0102661054152432,-0.00259226199818282,-0.0439854025655911,-0.0424987666488135,47.0', '-0.0600026317441039,0.0506801187398187,0.0541515220015222,-0.0194420933298793,-0.0497273098572509,-0.0489124436182275,0.0228686348215404,-0.0394933828740919,-0.0439854025655911,-0.0052198044153011,187.0', '-0.0273097856849279,-0.044641636506989,-0.0353068801305926,-0.0297707054110881,-0.0566070741482565,-0.058620045933703,0.0302319104297145,-0.0394933828740919,-0.0498684677352306,-0.129483011860342,125.0', '0.0417084448844436,-0.044641636506989,-0.0320734439089499,-0.061904165207817,0.0796122588136553,0.0509819156926333,0.056003375058324,-0.00997248617336464,0.0450661683362615,-0.0590671943081523,78.0', '-0.0817978624502212,-0.044641636506989,-0.0816527993074713,-0.0400993174922969,0.00255889875439205,-0.0185370428246429,0.0707299262746723,-0.0394933828740919,-0.0109044358473771,-0.09220404962683,51.0', '-0.0418399394890061,-0.044641636506989,0.0476846495582368,0.0597439326260547,0.127770608850695,0.128016437292858,-0.0249926566315915,0.108111100629544,0.0638931206368394,0.0403433716478807,258.0', '-0.0127796318808497,-0.044641636506989,0.0606183944448076,0.0528581912385822,0.0479653430750293,0.0293746718291555,-0.0176293810234174,0.0343088588777263,0.0702112981933102,0.00720651632920303,215.0', '0.0671362140415805,-0.044641636506989,0.056307146149284,0.0735154154009998,-0.0139525355440215,-0.039204841302752,-0.0323559322397657,-0.00259226199818282,0.0757375884575476,0.036201264733046,303.0', '-0.0527375548420648,0.0506801187398187,0.098341817030639,0.0872868981759448,0.0603489187988395,0.0487898764601065,-0.0581273968683752,0.108111100629544,0.0844952822124031,0.0403433716478807,243.0', '0.00538306037424807,-0.044641636506989,0.0595405823709267,-0.0561660474078757,0.0245741444856101,0.0528608064633705,-0.0434008456520269,0.0509143632718854,-0.00421985970694603,-0.0300724459043093,91.0', '0.0816663678456587,-0.044641636506989,0.0336730925977851,0.0081008722200108,0.0520932016496327,0.0566185880048449,-0.0176293810234174,0.0343088588777263,0.0348641930961596,0.0693381200517237,150.0', '0.030810829531385,0.0506801187398187,0.056307146149284,0.076958286094736,0.0493412959332305,-0.0122740735888523,-0.0360375700438527,0.0712099797536354,0.120053382001538,0.0900486546258972,310.0', '0.00175052192322852,-0.044641636506989,-0.0654856181992578,-0.00567061055493425,-0.00707277125301585,-0.0194764882100115,0.0412768238419757,-0.0394933828740919,-0.003303712578677,0.00720651632920303,153.0', '-0.0491050163910452,-0.044641636506989,0.160854917315731,-0.0469850588797694,-0.0290880169842339,-0.019789636671801,-0.0470824834561139,0.0343088588777263,0.028016506523264,0.0113486232440377,346.0', '-0.0273097856849279,0.0506801187398187,-0.0557853095343297,0.0253152256886921,-0.00707277125301585,-0.0235474182132754,0.052321737254237,-0.0394933828740919,-0.00514530798026311,-0.0507829804784829,63.0', '0.0780338293946392,0.0506801187398187,-0.0245287593917836,-0.0423945646329306,0.00668675732899544,0.0528608064633705,-0.0691723102806364,0.0808042711813717,-0.0371283460104736,0.0569117993072195,89.0', '0.0126481372762872,-0.044641636506989,-0.0363846922044735,0.0425295791573734,-0.0139525355440215,0.0129343775852051,-0.0268334755336351,0.00515697338575809,-0.0439854025655911,0.00720651632920303,50.0', '0.0417084448844436,-0.044641636506989,-0.00836157828357004,-0.0573136709609782,0.00806271018719657,-0.0313761297580137,0.151725957964588,-0.076394503750001,-0.0802365402489018,-0.0176461251598052,39.0', '0.0489735217864827,-0.044641636506989,-0.041773752573878,0.104501251644626,0.0355817673512192,-0.0257394574458021,0.177497422593197,-0.076394503750001,-0.0129079422541688,0.0154907301588724,103.0', '-0.0164121703318693,0.0506801187398187,0.127442743025423,0.0976155102571536,0.0163184273364034,0.0174750302811533,-0.0213110188275045,0.0343088588777263,0.0348641930961596,0.00306440941436832,308.0', '-0.0745327855481821,0.0506801187398187,-0.0773415510119477,-0.0469850588797694,-0.0469754041408486,-0.0326287236051719,0.00446044580110504,-0.0394933828740919,-0.072128454601956,-0.0176461251598052,116.0', '0.0344433679824045,0.0506801187398187,0.0282840322283806,-0.0332135761048244,-0.0455994512826475,-0.00976888589453599,-0.050764121260201,-0.00259226199818282,-0.0594726974107223,-0.0217882320746399,145.0', '-0.034574862586967,0.0506801187398187,-0.0256065714656645,-0.0171468461892456,0.00118294589619092,-0.00287961973516629,0.0081420836051921,-0.015507654304751,0.0148227108412663,0.0403433716478807,74.0', '-0.0527375548420648,0.0506801187398187,-0.0622521819776151,0.0115437429137471,-0.00844872411121698,-0.0366996536084358,0.122272855531891,-0.076394503750001,-0.0868289932162924,0.00306440941436832,45.0', '0.0598711371395414,-0.044641636506989,-0.000816893766403737,-0.0848566365108683,0.075484400239052,0.0794784257154807,0.00446044580110504,0.0343088588777263,0.0233748412798208,0.0279170509033766,115.0', '0.063503675590561,0.0506801187398187,0.088641508365711,0.0700725447072635,0.0204462859110067,0.0375165318356834,-0.050764121260201,0.0712099797536354,0.0293004132685869,0.0734802269665584,264.0', '0.00901559882526763,-0.044641636506989,-0.0320734439089499,-0.0263278347173518,0.0424615316422248,-0.0103951828181151,0.159089233572762,-0.076394503750001,-0.0119006848015081,-0.0383566597339788,87.0', '0.00538306037424807,0.0506801187398187,0.0304396563761424,0.0838440274822086,-0.0373437341334407,-0.0473467013092799,0.0155053592133662,-0.0394933828740919,0.00864028293306308,0.0154907301588724,202.0', '0.0380759064334241,0.0506801187398187,0.00888341489852436,0.0425295791573734,-0.0428475455662452,-0.0210422305189592,-0.0397192078479398,-0.00259226199818282,-0.0181182673078967,0.00720651632920303,127.0', '0.0126481372762872,-0.044641636506989,0.00672779075076256,-0.0561660474078757,-0.0758704141630723,-0.0664487574784414,-0.0213110188275045,-0.0376483268302965,-0.0181182673078967,-0.09220404962683,182.0', '0.0744012909436196,0.0506801187398187,-0.02021751109626,0.0459724498511097,0.0741084473808508,0.0328193049088404,-0.0360375700438527,0.0712099797536354,0.106354276741726,0.036201264733046,241.0', '0.0162806757273067,-0.044641636506989,-0.0245287593917836,0.0356438377699009,-0.00707277125301585,-0.00319276819695581,-0.0139477432193303,-0.00259226199818282,0.0155668445407018,0.0154907301588724,66.0', '-0.00551455497881059,0.0506801187398187,-0.0115950145052127,0.0115437429137471,-0.0222082526932283,-0.0154055582067476,-0.0213110188275045,-0.00259226199818282,0.0110081010458725,0.0693381200517237,94.0', '0.0126481372762872,-0.044641636506989,0.0261284080806188,0.063186803319791,0.125018703134293,0.0916912157252725,0.0633666506664982,-0.00259226199818282,0.057572856202426,-0.0217882320746399,283.0', '-0.034574862586967,-0.044641636506989,-0.0590187457559724,0.00121513083253827,-0.0538551684318543,-0.078035250564654,0.0670482884705852,-0.076394503750001,-0.02139368094036,0.0154907301588724,64.0', '0.0671362140415805,0.0506801187398187,-0.0363846922044735,-0.0848566365108683,-0.00707277125301585,0.01966706951368,-0.0544457590642881,0.0343088588777263,0.00114379737951254,0.0320591578182113,102.0', '0.0380759064334241,0.0506801187398187,-0.0245287593917836,0.00465800152627453,-0.0263361112678317,-0.0263657543693812,0.0155053592133662,-0.0394933828740919,-0.0159982677581387,-0.0259303389894746,200.0', '0.00901559882526763,0.0506801187398187,0.0185837235634525,0.0390867084636372,0.0176943801946045,0.0105857641217836,0.0191869970174533,-0.00259226199818282,0.0163049527999418,-0.0176461251598052,265.0', '-0.0926954778032799,0.0506801187398187,-0.0902752958985185,-0.0573136709609782,-0.0249601584096305,-0.0304366843726451,-0.00658446761115617,-0.00259226199818282,0.024052583226893,0.00306440941436832,94.0', '0.0707687524926,-0.044641636506989,-0.00512814206192736,-0.00567061055493425,0.0878679759628621,0.102964560349696,0.0118237214092792,0.0343088588777263,-0.0089440189577978,0.0279170509033766,230.0', '-0.0164121703318693,-0.044641636506989,-0.052551873312687,-0.0332135761048244,-0.0442234984244464,-0.0363865051466462,0.0191869970174533,-0.0394933828740919,-0.0683297436244215,-0.0300724459043093,181.0', '0.0417084448844436,0.0506801187398187,-0.0223731352440218,0.0287580963824284,-0.0662387441556644,-0.0451546620767532,-0.0618090346724622,-0.00259226199818282,0.00286377051894013,-0.0549250873933176,156.0', '0.0126481372762872,-0.044641636506989,-0.02021751109626,-0.015999222636143,0.0121905687618,0.0212328118226277,-0.0765355858888105,0.108111100629544,0.0598807230654812,-0.0217882320746399,233.0', '-0.0382074010379866,-0.044641636506989,-0.0547074974604488,-0.0779708951233958,-0.0332158755588373,-0.0864902590329714,0.140681044552327,-0.076394503750001,-0.0191970476139445,-0.0052198044153011,60.0', '0.0453409833354632,-0.044641636506989,-0.00620595413580824,-0.015999222636143,0.125018703134293,0.125198101136752,0.0191869970174533,0.0343088588777263,0.0324332257796019,-0.0052198044153011,219.0', '0.0707687524926,0.0506801187398187,-0.0169840748746173,0.0218723549949558,0.0438374845004259,0.0563054395430553,0.0375951860378887,-0.00259226199818282,-0.0702093127286876,-0.0176461251598052,80.0', '-0.0745327855481821,0.0506801187398187,0.0552293340754031,-0.0400993174922969,0.0534691545078339,0.05317395492516,-0.0434008456520269,0.0712099797536354,0.061237907519701,-0.0342145528191441,68.0', '0.0598711371395414,0.0506801187398187,0.0767855755530211,0.0253152256886921,0.00118294589619092,0.0168487333575743,-0.0544457590642881,0.0343088588777263,0.0299356483965325,0.0444854785627154,332.0', '0.0744012909436196,-0.044641636506989,0.0185837235634525,0.063186803319791,0.0617248716570406,0.0428400556861055,0.0081420836051921,-0.00259226199818282,0.0580391276638951,-0.0590671943081523,248.0', '0.00901559882526763,-0.044641636506989,-0.0223731352440218,-0.0320659525517218,-0.0497273098572509,-0.0686407967109681,0.0780932018828464,-0.0708593356186146,-0.0629129499162512,-0.0383566597339788,84.0', '-0.0709002470971626,-0.044641636506989,0.0929527566612346,0.0126913664668496,0.0204462859110067,0.0425269072243159,0.000778807997017968,0.000359827671889909,-0.0545441527110952,-0.00107769750046639,200.0', '0.0235457526293458,0.0506801187398187,-0.030995631835069,-0.00567061055493425,-0.0167044412604238,0.0177881787429428,-0.0323559322397657,-0.00259226199818282,-0.0740888714915354,-0.0342145528191441,55.0', '-0.0527375548420648,0.0506801187398187,0.0390621529671896,-0.0400993174922969,-0.00569681839481472,-0.0129003705124313,0.0118237214092792,-0.0394933828740919,0.0163049527999418,0.00306440941436832,85.0', '0.0671362140415805,-0.044641636506989,-0.0611743699037342,-0.0400993174922969,-0.0263361112678317,-0.024486863598644,0.0339135482338016,-0.0394933828740919,-0.0561575730950062,-0.0590671943081523,89.0', '0.00175052192322852,-0.044641636506989,-0.00836157828357004,-0.0641994123484507,-0.0387196869916418,-0.024486863598644,0.00446044580110504,-0.0394933828740919,-0.0646830224644503,-0.0549250873933176,31.0', '0.0235457526293458,0.0506801187398187,-0.0374625042783544,-0.0469850588797694,-0.0910058956032848,-0.0755300628703378,-0.0323559322397657,-0.0394933828740919,-0.0307512098645563,-0.0135040182449705,129.0', '0.0380759064334241,0.0506801187398187,-0.0137506386529745,-0.015999222636143,-0.0359677812752396,-0.0219816759043277,-0.0139477432193303,-0.00259226199818282,-0.0259524244351894,-0.00107769750046639,83.0', '0.0162806757273067,-0.044641636506989,0.0735521393313785,-0.0412469410453994,-0.00432086553661359,-0.0135266674360104,-0.0139477432193303,-0.00111621716314646,0.0428956878925287,0.0444854785627154,275.0', '-0.00188201652779104,0.0506801187398187,-0.0245287593917836,0.0528581912385822,0.0273260502020124,0.0300009687527346,0.0302319104297145,-0.00259226199818282,-0.02139368094036,0.036201264733046,65.0', '0.0126481372762872,-0.044641636506989,0.0336730925977851,0.0333485905259811,0.0300779559184146,0.0271826325966288,-0.0029028298070691,0.00884708547334898,0.0311929907028023,0.0279170509033766,198.0', '0.0744012909436196,-0.044641636506989,0.034750904671666,0.0941726395634173,0.0575970130824372,0.0202933664372591,0.0228686348215404,-0.00259226199818282,0.0738021469200488,-0.0217882320746399,236.0', '0.0417084448844436,0.0506801187398187,-0.0385403163522353,0.0528581912385822,0.0768603530972531,0.116429944206646,-0.0397192078479398,0.0712099797536354,-0.0225121719296605,-0.0135040182449705,253.0', '-0.00914709342983014,0.0506801187398187,-0.0396181284261162,-0.0400993174922969,-0.00844872411121698,0.0162224364339952,-0.0654906724765493,0.0712099797536354,0.0177634778671173,-0.0673514081378217,124.0', '0.00901559882526763,0.0506801187398187,-0.00189470584028465,0.0218723549949558,-0.0387196869916418,-0.0248000120604336,-0.00658446761115617,-0.0394933828740919,-0.0398095943643375,-0.0135040182449705,44.0', '0.0671362140415805,0.0506801187398187,-0.030995631835069,0.00465800152627453,0.0245741444856101,0.0356376410649462,-0.0286742944356786,0.0343088588777263,0.0233748412798208,0.0817644407962278,172.0', '0.00175052192322852,-0.044641636506989,-0.0460850008694016,-0.0332135761048244,-0.07311850844667,-0.0814798836443389,0.0449584616460628,-0.0693832907835783,-0.0611765950943345,-0.0797777288823259,114.0', '-0.00914709342983014,0.0506801187398187,0.00133873038135806,-0.00222773986119799,0.0796122588136553,0.0700839718617947,0.0339135482338016,-0.00259226199818282,0.0267142576335128,0.0817644407962278,142.0', '-0.00551455497881059,-0.044641636506989,0.0649296427403312,0.0356438377699009,-0.00156895982021134,0.0149698425868371,-0.0139477432193303,0.000728838880648992,-0.0181182673078967,0.0320591578182113,109.0', '0.096196521649737,-0.044641636506989,0.0401399650410705,-0.0573136709609782,0.0452134373586271,0.0606895180081088,-0.0213110188275045,0.0361539149215217,0.0125531528133893,0.0237749439885419,180.0', '-0.0745327855481821,-0.044641636506989,-0.0234509473179027,-0.00567061055493425,-0.0208322998350272,-0.0141529643595894,0.0155053592133662,-0.0394933828740919,-0.0384591123013538,-0.0300724459043093,144.0', '0.0598711371395414,0.0506801187398187,0.0530737099276413,0.0528581912385822,0.0328298616348169,0.01966706951368,-0.0102661054152432,0.0343088588777263,0.0552050380896167,-0.00107769750046639,163.0', '-0.0236772472339084,-0.044641636506989,0.0401399650410705,-0.0125563519424068,-0.00982467696941811,-0.00100072896442909,-0.0029028298070691,-0.00259226199818282,-0.0119006848015081,-0.0383566597339788,147.0', '0.00901559882526763,-0.044641636506989,-0.02021751109626,-0.0538708002672419,0.0314539087766158,0.0206065148990486,0.056003375058324,-0.0394933828740919,-0.0109044358473771,-0.00107769750046639,97.0', '0.0162806757273067,0.0506801187398187,0.0142724752679289,0.00121513083253827,0.00118294589619092,-0.0213553789807487,-0.0323559322397657,0.0343088588777263,0.0749683360277342,0.0403433716478807,220.0', '0.0199132141783263,-0.044641636506989,-0.0342290680567117,0.055153438482502,0.0672286830898452,0.0741549018650587,-0.00658446761115617,0.0328328140426899,0.0247253233428045,0.0693381200517237,190.0', '0.0889314447476978,-0.044641636506989,0.00672779075076256,0.0253152256886921,0.0300779559184146,0.00870687335104641,0.0633666506664982,-0.0394933828740919,0.00943640914607987,0.0320591578182113,109.0', '0.0199132141783263,-0.044641636506989,0.00457216660300077,0.0459724498511097,-0.0180803941186249,-0.0545491159304391,0.0633666506664982,-0.0394933828740919,0.0286607203138089,0.0610539062220542,191.0', '-0.0236772472339084,-0.044641636506989,0.0304396563761424,-0.00567061055493425,0.0823641645300576,0.092004364187062,-0.0176293810234174,0.0712099797536354,0.0330470723549341,0.00306440941436832,122.0', '0.096196521649737,-0.044641636506989,0.0519958978537604,0.0792535333386559,0.054845107366035,0.0365770864503148,-0.0765355858888105,0.141322109417863,0.098646374304928,0.0610539062220542,230.0', '0.0235457526293458,0.0506801187398187,0.0616962065186885,0.0620391798699746,0.0245741444856101,-0.0360733566848567,-0.0912621371051588,0.155344535350708,0.133395733837469,0.0817644407962278,242.0', '0.0707687524926,0.0506801187398187,-0.00728376620968916,0.0494153205448459,0.0603489187988395,-0.00444536204411395,-0.0544457590642881,0.108111100629544,0.129019411600168,0.0569117993072195,248.0', '0.030810829531385,-0.044641636506989,0.00564997867688165,0.0115437429137471,0.0782363059554542,0.077912683406533,-0.0434008456520269,0.108111100629544,0.0660482061630984,0.0196328370737072,249.0', '-0.00188201652779104,-0.044641636506989,0.0541515220015222,-0.0664946594890845,0.0727324945226497,0.0566185880048449,-0.0434008456520269,0.0848633944777217,0.0844952822124031,0.0486275854775501,192.0', '0.0453409833354632,0.0506801187398187,-0.00836157828357004,-0.0332135761048244,-0.00707277125301585,0.00119131026809764,-0.0397192078479398,0.0343088588777263,0.0299356483965325,0.0279170509033766,131.0', '0.0744012909436196,-0.044641636506989,0.114508998138853,0.0287580963824284,0.0245741444856101,0.0249905933641021,0.0191869970174533,-0.00259226199818282,-0.000609254186102297,-0.0052198044153011,237.0', '-0.0382074010379866,-0.044641636506989,0.067085266888093,-0.0607565416547144,-0.0290880169842339,-0.0232342697514859,-0.0102661054152432,-0.00259226199818282,-0.00149858682029207,0.0196328370737072,78.0', '-0.0127796318808497,0.0506801187398187,-0.0557853095343297,-0.00222773986119799,-0.0277120641260328,-0.029184090525487,0.0191869970174533,-0.0394933828740919,-0.0170521046047435,0.0444854785627154,135.0', '0.00901559882526763,0.0506801187398187,0.0304396563761424,0.0425295791573734,-0.00294491267841247,0.0368902349121043,-0.0654906724765493,0.0712099797536354,-0.0236445575721341,0.0154907301588724,244.0', '0.0816663678456587,0.0506801187398187,-0.0256065714656645,-0.0366564467985606,-0.0703666027302678,-0.0464072559239113,-0.0397192078479398,-0.00259226199818282,-0.0411803851880079,-0.0052198044153011,199.0', '0.030810829531385,-0.044641636506989,0.104808689473925,0.076958286094736,-0.0112006298276192,-0.0113346282034837,-0.0581273968683752,0.0343088588777263,0.0571041874478439,0.036201264733046,270.0', '0.0271782910803654,0.0506801187398187,-0.00620595413580824,0.0287580963824284,-0.0167044412604238,-0.00162702588800815,-0.0581273968683752,0.0343088588777263,0.0293004132685869,0.0320591578182113,164.0', '-0.0600026317441039,0.0506801187398187,-0.0471628129432825,-0.0228849640236156,-0.071742555588469,-0.0576806005483345,-0.00658446761115617,-0.0394933828740919,-0.0629129499162512,-0.0549250873933176,72.0', '0.00538306037424807,-0.044641636506989,-0.0482406250171634,-0.0125563519424068,0.00118294589619092,-0.00663740127664067,0.0633666506664982,-0.0394933828740919,-0.0514005352605825,-0.0590671943081523,96.0', '-0.0200447087828888,-0.044641636506989,0.0854080721440683,-0.0366564467985606,0.0919958345374655,0.0894991764927457,-0.0618090346724622,0.145012221505454,0.0809479135112756,0.0527696923923848,306.0', '0.0199132141783263,0.0506801187398187,-0.0126728265790937,0.0700725447072635,-0.0112006298276192,0.00714113104209875,-0.0397192078479398,0.0343088588777263,0.00538436996854573,0.00306440941436832,91.0', '-0.0636351701951234,-0.044641636506989,-0.0331512559828308,-0.0332135761048244,0.00118294589619092,0.0240511479787335,-0.0249926566315915,-0.00259226199818282,-0.0225121719296605,-0.0590671943081523,214.0', '0.0271782910803654,-0.044641636506989,-0.00728376620968916,-0.0504279295735057,0.075484400239052,0.0566185880048449,0.0339135482338016,-0.00259226199818282,0.0434431722527813,0.0154907301588724,95.0', '-0.0164121703318693,-0.044641636506989,-0.0137506386529745,0.132044217194516,-0.00982467696941811,-0.00381906512053488,0.0191869970174533,-0.0394933828740919,-0.0358167281015492,-0.0300724459043093,216.0', '0.030810829531385,0.0506801187398187,0.0595405823709267,0.0563010619323185,-0.0222082526932283,0.00119131026809764,-0.0323559322397657,-0.00259226199818282,-0.0247911874324607,-0.0176461251598052,263.0', '0.0562385986885218,0.0506801187398187,0.0218171597850952,0.0563010619323185,-0.00707277125301585,0.0181013272047324,-0.0323559322397657,-0.00259226199818282,-0.0236445575721341,0.0237749439885419,178.0', '-0.0200447087828888,-0.044641636506989,0.0185837235634525,0.090729768869681,0.00393485161259318,0.00870687335104641,0.0375951860378887,-0.0394933828740919,-0.0578000656756125,0.00720651632920303,113.0', '-0.107225631607358,-0.044641636506989,-0.0115950145052127,-0.0400993174922969,0.0493412959332305,0.0644472995495832,-0.0139477432193303,0.0343088588777263,0.00702686254915195,-0.0300724459043093,200.0', '0.0816663678456587,0.0506801187398187,-0.00297251791416553,-0.0332135761048244,0.0424615316422248,0.057871181852003,-0.0102661054152432,0.0343088588777263,-0.000609254186102297,-0.00107769750046639,139.0', '0.00538306037424807,0.0506801187398187,0.0175059114895716,0.0322009670761646,0.127770608850695,0.127390140369279,-0.0213110188275045,0.0712099797536354,0.062575181458056,0.0154907301588724,139.0', '0.0380759064334241,0.0506801187398187,-0.0299178197611881,-0.0745280244296595,-0.0125765826858204,-0.0125872220506418,0.00446044580110504,-0.00259226199818282,0.00371173823343597,-0.0300724459043093,88.0', '0.030810829531385,-0.044641636506989,-0.02021751109626,-0.00567061055493425,-0.00432086553661359,-0.0294972389872765,0.0780932018828464,-0.0394933828740919,-0.0109044358473771,-0.00107769750046639,148.0', '0.00175052192322852,0.0506801187398187,-0.0579409336820915,-0.0435421881860331,-0.0965097070360893,-0.0470335528474903,-0.098625412713333,0.0343088588777263,-0.0611765950943345,-0.0714935150526564,88.0', '-0.0273097856849279,0.0506801187398187,0.0606183944448076,0.107944122338362,0.0121905687618,-0.0175975974392743,-0.0029028298070691,-0.00259226199818282,0.0702112981933102,0.135611830689079,243.0', '-0.0854304009012408,0.0506801187398187,-0.0406959404999971,-0.0332135761048244,-0.0813742255958769,-0.0695802420963367,-0.00658446761115617,-0.0394933828740919,-0.0578000656756125,-0.0424987666488135,71.0', '0.0126481372762872,0.0506801187398187,-0.0719524906425432,-0.0469850588797694,-0.051103262715452,-0.0971373067338155,0.118591217727804,-0.076394503750001,-0.0202887477516296,-0.0383566597339788,77.0', '-0.0527375548420648,-0.044641636506989,-0.0557853095343297,-0.0366564467985606,0.0892439288210632,-0.00319276819695581,0.0081420836051921,0.0343088588777263,0.132372649338676,0.00306440941436832,109.0', '-0.0236772472339084,0.0506801187398187,0.045529025410475,0.0218723549949558,0.10988322169408,0.0888728795691667,0.000778807997017968,0.0343088588777263,0.0741925366900307,0.0610539062220542,272.0', '-0.0745327855481821,0.0506801187398187,-0.00943939035745095,0.0149866136074833,-0.0373437341334407,-0.0216685274425382,-0.0139477432193303,-0.00259226199818282,-0.0332487872476258,0.0113486232440377,60.0', '-0.00551455497881059,0.0506801187398187,-0.0331512559828308,-0.015999222636143,0.00806271018719657,0.0162224364339952,0.0155053592133662,-0.00259226199818282,-0.0283202425479987,-0.0756356219674911,54.0', '-0.0600026317441039,0.0506801187398187,0.0498402737059986,0.0184294843012196,-0.0167044412604238,-0.0301235359108556,-0.0176293810234174,-0.00259226199818282,0.049768659920749,-0.0590671943081523,221.0', '-0.0200447087828888,-0.044641636506989,-0.084886235529114,-0.0263278347173518,-0.0359677812752396,-0.0341944659141195,0.0412768238419757,-0.0516707527631419,-0.0823814832581028,-0.0466408735636482,90.0', '0.0380759064334241,0.0506801187398187,0.00564997867688165,0.0322009670761646,0.00668675732899544,0.0174750302811533,-0.0249926566315915,0.0343088588777263,0.0148227108412663,0.0610539062220542,311.0', '0.0162806757273067,-0.044641636506989,0.0207393477112143,0.0218723549949558,-0.0139525355440215,-0.0132135189742209,-0.00658446761115617,-0.00259226199818282,0.0133159679089277,0.0403433716478807,281.0', '0.0417084448844436,-0.044641636506989,-0.00728376620968916,0.0287580963824284,-0.0428475455662452,-0.0482861466946485,0.052321737254237,-0.076394503750001,-0.072128454601956,0.0237749439885419,182.0', '0.0199132141783263,0.0506801187398187,0.104808689473925,0.0700725447072635,-0.0359677812752396,-0.0266789028311707,-0.0249926566315915,-0.00259226199818282,0.00371173823343597,0.0403433716478807,321.0', '-0.0491050163910452,0.0506801187398187,-0.0245287593917836,6.75072794357462e-05,-0.0469754041408486,-0.0282446451401184,-0.0654906724765493,0.0284046795375808,0.0191990330785671,0.0113486232440377,58.0', '0.00175052192322852,0.0506801187398187,-0.00620595413580824,-0.0194420933298793,-0.00982467696941811,0.00494909180957202,-0.0397192078479398,0.0343088588777263,0.0148227108412663,0.0983328684555666,262.0', '0.0344433679824045,-0.044641636506989,-0.0385403163522353,-0.0125563519424068,0.0094386630453977,0.00526224027136155,-0.00658446761115617,-0.00259226199818282,0.0311929907028023,0.0983328684555666,206.0', '-0.0454724779400257,0.0506801187398187,0.137143051690352,-0.015999222636143,0.0410855787840237,0.0318798595234718,-0.0434008456520269,0.0712099797536354,0.0710215779459822,0.0486275854775501,233.0', '-0.00914709342983014,0.0506801187398187,0.17055522598066,0.0149866136074833,0.0300779559184146,0.033758750294209,-0.0213110188275045,0.0343088588777263,0.0336568129023847,0.0320591578182113,242.0', '-0.0164121703318693,0.0506801187398187,0.00241654245523897,0.0149866136074833,0.0218222387692079,-0.0100820343563255,-0.0249926566315915,0.0343088588777263,0.085533121187439,0.0817644407962278,123.0', '-0.00914709342983014,-0.044641636506989,0.0379843408933087,-0.0400993174922969,-0.0249601584096305,-0.00381906512053488,-0.0434008456520269,0.0158582984397717,-0.00514530798026311,0.0279170509033766,167.0', '0.0199132141783263,-0.044641636506989,-0.0579409336820915,-0.0573136709609782,-0.00156895982021134,-0.0125872220506418,0.0744115640787594,-0.0394933828740919,-0.0611765950943345,-0.0756356219674911,63.0', '0.0526060602375023,0.0506801187398187,-0.00943939035745095,0.0494153205448459,0.0507172487914316,-0.019163339748222,-0.0139477432193303,0.0343088588777263,0.119343994203787,-0.0176461251598052,197.0', '-0.0273097856849279,0.0506801187398187,-0.0234509473179027,-0.015999222636143,0.0135665216200011,0.0127778033543103,0.0265502726256275,-0.00259226199818282,-0.0109044358473771,-0.0217882320746399,71.0', '-0.0745327855481821,-0.044641636506989,-0.0105172024313319,-0.00567061055493425,-0.0662387441556644,-0.0570543036247554,-0.0029028298070691,-0.0394933828740919,-0.0425721049227942,-0.00107769750046639,168.0', '-0.107225631607358,-0.044641636506989,-0.0342290680567117,-0.067642283042187,-0.0634868384392622,-0.0705196874817053,0.0081420836051921,-0.0394933828740919,-0.000609254186102297,-0.0797777288823259,140.0', '0.0453409833354632,0.0506801187398187,-0.00297251791416553,0.107944122338362,0.0355817673512192,0.0224854056697859,0.0265502726256275,-0.00259226199818282,0.028016506523264,0.0196328370737072,217.0', '-0.00188201652779104,-0.044641636506989,0.068163078961974,-0.00567061055493425,0.119514891701488,0.130208476525385,-0.0249926566315915,0.0867084505215172,0.0461323310394148,-0.00107769750046639,121.0', '0.0199132141783263,0.0506801187398187,0.00996122697240527,0.0184294843012196,0.0149424744782022,0.0447189464568426,-0.0618090346724622,0.0712099797536354,0.00943640914607987,-0.063209301222987,235.0', '0.0162806757273067,0.0506801187398187,0.00241654245523897,-0.00567061055493425,-0.00569681839481472,0.0108989125835731,-0.050764121260201,0.0343088588777263,0.0226920225667445,-0.0383566597339788,245.0', '-0.00188201652779104,-0.044641636506989,-0.0385403163522353,0.0218723549949558,-0.108893282759899,-0.115613065979398,0.0228686348215404,-0.076394503750001,-0.0468794828442166,0.0237749439885419,40.0', '0.0162806757273067,-0.044641636506989,0.0261284080806188,0.0585963091762383,-0.0607349327228599,-0.0442152166913845,-0.0139477432193303,-0.0339582147427055,-0.0514005352605825,-0.0259303389894746,52.0', '-0.0709002470971626,0.0506801187398187,-0.0891974838246376,-0.0745280244296595,-0.0428475455662452,-0.0257394574458021,-0.0323559322397657,-0.00259226199818282,-0.0129079422541688,-0.0549250873933176,104.0', '0.0489735217864827,-0.044641636506989,0.0606183944448076,-0.0228849640236156,-0.0235842055514294,-0.072711726714232,-0.0434008456520269,-0.00259226199818282,0.104137611358979,0.036201264733046,132.0', '0.00538306037424807,0.0506801187398187,-0.0288400076873072,-0.00911348124867051,-0.0318399227006362,-0.0288709420636975,0.0081420836051921,-0.0394933828740919,-0.0181182673078967,0.00720651632920303,88.0', '0.0344433679824045,0.0506801187398187,-0.0299178197611881,0.00465800152627453,0.0933717873956666,0.0869939887984295,0.0339135482338016,-0.00259226199818282,0.024052583226893,-0.0383566597339788,69.0', '0.0235457526293458,0.0506801187398187,-0.019139699022379,0.0494153205448459,-0.0634868384392622,-0.0611252336280193,0.00446044580110504,-0.0394933828740919,-0.0259524244351894,-0.0135040182449705,219.0', '0.0199132141783263,-0.044641636506989,-0.0406959404999971,-0.015999222636143,-0.00844872411121698,-0.0175975974392743,0.052321737254237,-0.0394933828740919,-0.0307512098645563,0.00306440941436832,72.0', '-0.0454724779400257,-0.044641636506989,0.0153502873418098,-0.0745280244296595,-0.0497273098572509,-0.0172844489774848,-0.0286742944356786,-0.00259226199818282,-0.104364820832166,-0.0756356219674911,201.0', '0.0526060602375023,0.0506801187398187,-0.0245287593917836,0.0563010619323185,-0.00707277125301585,-0.005071658967693,-0.0213110188275045,-0.00259226199818282,0.0267142576335128,-0.0383566597339788,110.0', '-0.00551455497881059,0.0506801187398187,0.00133873038135806,-0.0848566365108683,-0.0112006298276192,-0.0166581520539057,0.0486400994501499,-0.0394933828740919,-0.0411803851880079,-0.0880619427119953,51.0', '0.00901559882526763,0.0506801187398187,0.0692408910358548,0.0597439326260547,0.0176943801946045,-0.0232342697514859,-0.0470824834561139,0.0343088588777263,0.103292264911524,0.0734802269665584,277.0', '-0.0236772472339084,-0.044641636506989,-0.0697968664947814,-0.0641994123484507,-0.0593589798646588,-0.0504781859271752,0.0191869970174533,-0.0394933828740919,-0.0891368600793477,-0.0507829804784829,63.0', '-0.0418399394890061,0.0506801187398187,-0.0299178197611881,-0.00222773986119799,0.0218222387692079,0.0365770864503148,0.0118237214092792,-0.00259226199818282,-0.0411803851880079,0.065196013136889,118.0', '-0.0745327855481821,-0.044641636506989,-0.0460850008694016,-0.0435421881860331,-0.0290880169842339,-0.0232342697514859,0.0155053592133662,-0.0394933828740919,-0.0398095943643375,-0.0217882320746399,69.0', '0.0344433679824045,-0.044641636506989,0.0185837235634525,0.0563010619323185,0.0121905687618,-0.0545491159304391,-0.0691723102806364,0.0712099797536354,0.130080609521753,0.00720651632920303,273.0', '-0.0600026317441039,-0.044641636506989,0.00133873038135806,-0.0297707054110881,-0.00707277125301585,-0.0216685274425382,0.0118237214092792,-0.00259226199818282,0.0318152175007986,-0.0549250873933176,258.0', '-0.0854304009012408,0.0506801187398187,-0.030995631835069,-0.0228849640236156,-0.0634868384392622,-0.0542359674686496,0.0191869970174533,-0.0394933828740919,-0.096433222891784,-0.0342145528191441,43.0', '0.0526060602375023,-0.044641636506989,-0.00405032998804645,-0.0309183289641906,-0.0469754041408486,-0.0583068974719135,-0.0139477432193303,-0.0258399681500055,0.0360557900898319,0.0237749439885419,198.0', '0.0126481372762872,-0.044641636506989,0.0153502873418098,-0.0332135761048244,0.0410855787840237,0.0321930079852613,-0.0029028298070691,-0.00259226199818282,0.0450661683362615,-0.0673514081378217,242.0', '0.0598711371395414,0.0506801187398187,0.0228949718589761,0.0494153205448459,0.0163184273364034,0.0118383579689417,-0.0139477432193303,-0.00259226199818282,0.0395398780720242,0.0196328370737072,232.0', '-0.0236772472339084,-0.044641636506989,0.045529025410475,0.090729768869681,-0.0180803941186249,-0.0354470597612776,0.0707299262746723,-0.0394933828740919,-0.0345237153303495,-0.0093619113301358,175.0', '0.0162806757273067,-0.044641636506989,-0.0450071887955207,-0.0573136709609782,-0.0345918284170385,-0.05392281900686,0.0744115640787594,-0.076394503750001,-0.0425721049227942,0.0403433716478807,93.0', '0.110726675453815,0.0506801187398187,-0.0331512559828308,-0.0228849640236156,-0.00432086553661359,0.0202933664372591,-0.0618090346724622,0.0712099797536354,0.0155668445407018,0.0444854785627154,168.0', '-0.0200447087828888,-0.044641636506989,0.0972640049567582,-0.00567061055493425,-0.00569681839481472,-0.0238605666750649,-0.0213110188275045,-0.00259226199818282,0.0616858488238662,0.0403433716478807,275.0', '-0.0164121703318693,-0.044641636506989,0.0541515220015222,0.0700725447072635,-0.0332158755588373,-0.0279314966783289,0.0081420836051921,-0.0394933828740919,-0.0271286455543265,-0.0093619113301358,293.0', '0.0489735217864827,0.0506801187398187,0.1231314947299,0.0838440274822086,-0.104765424185296,-0.10089508827529,-0.0691723102806364,-0.00259226199818282,0.0366457977933988,-0.0300724459043093,281.0', '-0.0563700932930843,-0.044641636506989,-0.0805749872335904,-0.0848566365108683,-0.0373437341334407,-0.0370128020702253,0.0339135482338016,-0.0394933828740919,-0.0561575730950062,-0.137767225690012,72.0', '0.0271782910803654,-0.044641636506989,0.0929527566612346,-0.0527231767141394,0.00806271018719657,0.0397085710682101,-0.0286742944356786,0.021024455362399,-0.0483617248028919,0.0196328370737072,140.0', '0.063503675590561,-0.044641636506989,-0.0503962491649252,0.107944122338362,0.0314539087766158,0.0193539210518905,-0.0176293810234174,0.0236075338237126,0.0580391276638951,0.0403433716478807,189.0', '-0.0527375548420648,0.0506801187398187,-0.0115950145052127,0.0563010619323185,0.0562210602242361,0.0729023080179005,-0.0397192078479398,0.0712099797536354,0.0305664873984148,-0.0052198044153011,181.0', '-0.00914709342983014,0.0506801187398187,-0.0277621956134263,0.0081008722200108,0.0479653430750293,0.0372033833738938,-0.0286742944356786,0.0343088588777263,0.0660482061630984,-0.0424987666488135,209.0', '0.00538306037424807,-0.044641636506989,0.0584627702970458,-0.0435421881860331,-0.07311850844667,-0.0723985782524425,0.0191869970174533,-0.076394503750001,-0.0514005352605825,-0.0259303389894746,136.0', '0.0744012909436196,-0.044641636506989,0.0854080721440683,0.063186803319791,0.0149424744782022,0.0130909518160999,0.0155053592133662,-0.00259226199818282,0.0062093156165054,0.0859065477110625,261.0', '-0.0527375548420648,-0.044641636506989,-0.000816893766403737,-0.0263278347173518,0.0108146159035988,0.00714113104209875,0.0486400994501499,-0.0394933828740919,-0.0358167281015492,0.0196328370737072,113.0', '0.0816663678456587,0.0506801187398187,0.00672779075076256,-0.00452298700183173,0.10988322169408,0.117056241130225,-0.0323559322397657,0.0918746074441444,0.0547240033481791,0.00720651632920303,131.0', '-0.00551455497881059,-0.044641636506989,0.00888341489852436,-0.0504279295735057,0.0259500973438113,0.0472241341511589,-0.0434008456520269,0.0712099797536354,0.0148227108412663,0.00306440941436832,174.0', '-0.0273097856849279,-0.044641636506989,0.0800190117746638,0.09876313370697,-0.00294491267841247,0.0181013272047324,-0.0176293810234174,0.00331191734196264,-0.0295276227417736,0.036201264733046,257.0', '-0.0527375548420648,-0.044641636506989,0.0713965151836166,-0.0745280244296595,-0.0153284884022226,-0.00131387742621863,0.00446044580110504,-0.0214118336448964,-0.0468794828442166,0.00306440941436832,55.0', '0.00901559882526763,-0.044641636506989,-0.0245287593917836,-0.0263278347173518,0.0988755988284711,0.0941964034195887,0.0707299262746723,-0.00259226199818282,-0.02139368094036,0.00720651632920303,84.0', '-0.0200447087828888,-0.044641636506989,-0.0547074974604488,-0.0538708002672419,-0.0662387441556644,-0.0573674520865449,0.0118237214092792,-0.0394933828740919,-0.0740888714915354,-0.0052198044153011,42.0', '0.0235457526293458,-0.044641636506989,-0.0363846922044735,6.75072794357462e-05,0.00118294589619092,0.0346981956795776,-0.0434008456520269,0.0343088588777263,-0.0332487872476258,0.0610539062220542,146.0', '0.0380759064334241,0.0506801187398187,0.0164280994156907,0.0218723549949558,0.0397096259258226,0.0450320949186321,-0.0434008456520269,0.0712099797536354,0.049768659920749,0.0154907301588724,212.0', '-0.0781653239992017,0.0506801187398187,0.077863387626902,0.0528581912385822,0.0782363059554542,0.0644472995495832,0.0265502726256275,-0.00259226199818282,0.0406722637144977,-0.0093619113301358,233.0', '0.00901559882526763,0.0506801187398187,-0.0396181284261162,0.0287580963824284,0.0383336730676214,0.0735286049414796,-0.0728539480847234,0.108111100629544,0.0155668445407018,-0.0466408735636482,91.0', '0.00175052192322852,0.0506801187398187,0.0110390390462862,-0.0194420933298793,-0.0167044412604238,-0.00381906512053488,-0.0470824834561139,0.0343088588777263,0.024052583226893,0.0237749439885419,111.0', '-0.0781653239992017,-0.044641636506989,-0.0406959404999971,-0.081413765817132,-0.100637565610693,-0.112794729823292,0.0228686348215404,-0.076394503750001,-0.0202887477516296,-0.0507829804784829,152.0', '0.030810829531385,0.0506801187398187,-0.0342290680567117,0.0436772026071898,0.0575970130824372,0.0688313780146366,-0.0323559322397657,0.057556565029549,0.0354619386607697,0.0859065477110625,120.0', '-0.034574862586967,0.0506801187398187,0.00564997867688165,-0.00567061055493425,-0.07311850844667,-0.062690975936967,-0.00658446761115617,-0.0394933828740919,-0.045420957777041,0.0320591578182113,67.0', '0.0489735217864827,0.0506801187398187,0.088641508365711,0.0872868981759448,0.0355817673512192,0.0215459602844172,-0.0249926566315915,0.0343088588777263,0.0660482061630984,0.131469723774244,310.0', '-0.0418399394890061,-0.044641636506989,-0.0331512559828308,-0.0228849640236156,0.0465893902168282,0.0415874618389473,0.056003375058324,-0.0247329345237283,-0.0259524244351894,-0.0383566597339788,94.0', '-0.00914709342983014,-0.044641636506989,-0.0568631216082106,-0.0504279295735057,0.0218222387692079,0.0453452433804217,-0.0286742944356786,0.0343088588777263,-0.00991895736315477,-0.0176461251598052,183.0', '0.0707687524926,0.0506801187398187,-0.030995631835069,0.0218723549949558,-0.0373437341334407,-0.0470335528474903,0.0339135482338016,-0.0394933828740919,-0.0149564750249113,-0.00107769750046639,66.0', '0.00901559882526763,-0.044641636506989,0.0552293340754031,-0.00567061055493425,0.0575970130824372,0.0447189464568426,-0.0029028298070691,0.0232385226149535,0.0556835477026737,0.106617082285236,173.0', '-0.0273097856849279,-0.044641636506989,-0.0600965578298533,-0.0297707054110881,0.0465893902168282,0.0199802179754696,0.122272855531891,-0.0394933828740919,-0.0514005352605825,-0.0093619113301358,72.0', '0.0162806757273067,-0.044641636506989,0.00133873038135806,0.0081008722200108,0.00531080447079431,0.0108989125835731,0.0302319104297145,-0.0394933828740919,-0.045420957777041,0.0320591578182113,49.0', '-0.0127796318808497,-0.044641636506989,-0.0234509473179027,-0.0400993174922969,-0.0167044412604238,0.0046359433477825,-0.0176293810234174,-0.00259226199818282,-0.0384591123013538,-0.0383566597339788,64.0', '-0.0563700932930843,-0.044641636506989,-0.074108114790305,-0.0504279295735057,-0.0249601584096305,-0.0470335528474903,0.0928197530991947,-0.076394503750001,-0.0611765950943345,-0.0466408735636482,48.0', '0.0417084448844436,0.0506801187398187,0.0196615356373334,0.0597439326260547,-0.00569681839481472,-0.00256647127337676,-0.0286742944356786,-0.00259226199818282,0.0311929907028023,0.00720651632920303,178.0', '-0.00551455497881059,0.0506801187398187,-0.0159062628007364,-0.067642283042187,0.0493412959332305,0.0791652772536912,-0.0286742944356786,0.0343088588777263,-0.0181182673078967,0.0444854785627154,104.0', '0.0417084448844436,0.0506801187398187,-0.0159062628007364,0.0172818607481171,-0.0373437341334407,-0.0138398158977999,-0.0249926566315915,-0.0110795197996419,-0.0468794828442166,0.0154907301588724,132.0', '-0.0454724779400257,-0.044641636506989,0.0390621529671896,0.00121513083253827,0.0163184273364034,0.0152829910486266,-0.0286742944356786,0.0265596234937854,0.0445283740214053,-0.0259303389894746,220.0', '-0.0454724779400257,-0.044641636506989,-0.0730303027164241,-0.081413765817132,0.0837401173882587,0.0278089295202079,0.17381578478911,-0.0394933828740919,-0.00421985970694603,0.00306440941436832,57.0']\n"
          ],
          "name": "stdout"
        }
      ]
    },
    {
      "cell_type": "code",
      "metadata": {
        "colab": {
          "base_uri": "https://localhost:8080/"
        },
        "id": "qAbj_eDeQzGm",
        "outputId": "a13040fe-f6d8-4f71-f6f2-6ed9b120d332"
      },
      "source": [
        "#Spliting the Dataset Based on Comma in 2D List\n",
        "wanted_lines = []\n",
        "for i in range(0,len(lines)):\n",
        "  line = lines[i].split(\",\")\n",
        "  wanted_lines.append(line)\n",
        "  \n",
        "print(wanted_lines[0:])"
      ],
      "execution_count": 50,
      "outputs": [
        {
          "output_type": "stream",
          "text": [
            "[['0.0380759064334241', '0.0506801187398187', '0.0616962065186885', '0.0218723549949558', '-0.0442234984244464', '-0.0348207628376986', '-0.0434008456520269', '-0.00259226199818282', '0.0199084208763183', '-0.0176461251598052', '151.0'], ['-0.00188201652779104', '-0.044641636506989', '-0.0514740612388061', '-0.0263278347173518', '-0.00844872411121698', '-0.019163339748222', '0.0744115640787594', '-0.0394933828740919', '-0.0683297436244215', '-0.09220404962683', '75.0'], ['0.0852989062966783', '0.0506801187398187', '0.0444512133365941', '-0.00567061055493425', '-0.0455994512826475', '-0.0341944659141195', '-0.0323559322397657', '-0.00259226199818282', '0.00286377051894013', '-0.0259303389894746', '141.0'], ['-0.0890629393522603', '-0.044641636506989', '-0.0115950145052127', '-0.0366564467985606', '0.0121905687618', '0.0249905933641021', '-0.0360375700438527', '0.0343088588777263', '0.0226920225667445', '-0.0093619113301358', '206.0'], ['0.00538306037424807', '-0.044641636506989', '-0.0363846922044735', '0.0218723549949558', '0.00393485161259318', '0.0155961395104161', '0.0081420836051921', '-0.00259226199818282', '-0.0319914449413559', '-0.0466408735636482', '135.0'], ['-0.0926954778032799', '-0.044641636506989', '-0.0406959404999971', '-0.0194420933298793', '-0.0689906498720667', '-0.0792878444118122', '0.0412768238419757', '-0.076394503750001', '-0.0411803851880079', '-0.0963461565416647', '97.0'], ['-0.0454724779400257', '0.0506801187398187', '-0.0471628129432825', '-0.015999222636143', '-0.040095639849843', '-0.0248000120604336', '0.000778807997017968', '-0.0394933828740919', '-0.0629129499162512', '-0.0383566597339788', '138.0'], ['0.063503675590561', '0.0506801187398187', '-0.00189470584028465', '0.0666296740135272', '0.0906198816792644', '0.108914381123697', '0.0228686348215404', '0.0177033544835672', '-0.0358167281015492', '0.00306440941436832', '63.0'], ['0.0417084448844436', '0.0506801187398187', '0.0616962065186885', '-0.0400993174922969', '-0.0139525355440215', '0.00620168565673016', '-0.0286742944356786', '-0.00259226199818282', '-0.0149564750249113', '0.0113486232440377', '110.0'], ['-0.0709002470971626', '-0.044641636506989', '0.0390621529671896', '-0.0332135761048244', '-0.0125765826858204', '-0.034507614375909', '-0.0249926566315915', '-0.00259226199818282', '0.0677363261102861', '-0.0135040182449705', '310.0'], ['-0.0963280162542995', '-0.044641636506989', '-0.0838084234552331', '0.0081008722200108', '-0.103389471327095', '-0.0905611890362353', '-0.0139477432193303', '-0.076394503750001', '-0.0629129499162512', '-0.0342145528191441', '101.0'], ['0.0271782910803654', '0.0506801187398187', '0.0175059114895716', '-0.0332135761048244', '-0.00707277125301585', '0.0459715403040008', '-0.0654906724765493', '0.0712099797536354', '-0.096433222891784', '-0.0590671943081523', '69.0'], ['0.0162806757273067', '-0.044641636506989', '-0.0288400076873072', '-0.00911348124867051', '-0.00432086553661359', '-0.00976888589453599', '0.0449584616460628', '-0.0394933828740919', '-0.0307512098645563', '-0.0424987666488135', '179.0'], ['0.00538306037424807', '0.0506801187398187', '-0.00189470584028465', '0.0081008722200108', '-0.00432086553661359', '-0.0157187066685371', '-0.0029028298070691', '-0.00259226199818282', '0.0383932482116977', '-0.0135040182449705', '185.0'], ['0.0453409833354632', '-0.044641636506989', '-0.0256065714656645', '-0.0125563519424068', '0.0176943801946045', '-6.12835790604833e-05', '0.0817748396869335', '-0.0394933828740919', '-0.0319914449413559', '-0.0756356219674911', '118.0'], ['-0.0527375548420648', '0.0506801187398187', '-0.0180618869484982', '0.0804011567884723', '0.0892439288210632', '0.107661787276539', '-0.0397192078479398', '0.108111100629544', '0.0360557900898319', '-0.0424987666488135', '171.0'], ['-0.00551455497881059', '-0.044641636506989', '0.0422955891888323', '0.0494153205448459', '0.0245741444856101', '-0.0238605666750649', '0.0744115640787594', '-0.0394933828740919', '0.0522799997967812', '0.0279170509033766', '166.0'], ['0.0707687524926', '0.0506801187398187', '0.0121168511201671', '0.0563010619323185', '0.034205814493018', '0.0494161733836856', '-0.0397192078479398', '0.0343088588777263', '0.027367707542609', '-0.00107769750046639', '144.0'], ['-0.0382074010379866', '-0.044641636506989', '-0.0105172024313319', '-0.0366564467985606', '-0.0373437341334407', '-0.0194764882100115', '-0.0286742944356786', '-0.00259226199818282', '-0.0181182673078967', '-0.0176461251598052', '97.0'], ['-0.0273097856849279', '-0.044641636506989', '-0.0180618869484982', '-0.0400993174922969', '-0.00294491267841247', '-0.0113346282034837', '0.0375951860378887', '-0.0394933828740919', '-0.0089440189577978', '-0.0549250873933176', '168.0'], ['-0.0491050163910452', '-0.044641636506989', '-0.0568631216082106', '-0.0435421881860331', '-0.0455994512826475', '-0.043275771306016', '0.000778807997017968', '-0.0394933828740919', '-0.0119006848015081', '0.0154907301588724', '68.0'], ['-0.0854304009012408', '0.0506801187398187', '-0.0223731352440218', '0.00121513083253827', '-0.0373437341334407', '-0.0263657543693812', '0.0155053592133662', '-0.0394933828740919', '-0.072128454601956', '-0.0176461251598052', '49.0'], ['-0.0854304009012408', '-0.044641636506989', '-0.00405032998804645', '-0.00911348124867051', '-0.00294491267841247', '0.00776742796567782', '0.0228686348215404', '-0.0394933828740919', '-0.0611765950943345', '-0.0135040182449705', '68.0'], ['0.0453409833354632', '0.0506801187398187', '0.0606183944448076', '0.0310533436263482', '0.0287020030602135', '-0.0473467013092799', '-0.0544457590642881', '0.0712099797536354', '0.133598980013008', '0.135611830689079', '245.0'], ['-0.0636351701951234', '-0.044641636506989', '0.0358287167455469', '-0.0228849640236156', '-0.0304639698424351', '-0.0188501912864324', '-0.00658446761115617', '-0.00259226199818282', '-0.0259524244351894', '-0.0549250873933176', '184.0'], ['-0.067267708646143', '0.0506801187398187', '-0.0126728265790937', '-0.0400993174922969', '-0.0153284884022226', '0.0046359433477825', '-0.0581273968683752', '0.0343088588777263', '0.0191990330785671', '-0.0342145528191441', '202.0'], ['-0.107225631607358', '-0.044641636506989', '-0.0773415510119477', '-0.0263278347173518', '-0.0896299427450836', '-0.0961978613484469', '0.0265502726256275', '-0.076394503750001', '-0.0425721049227942', '-0.0052198044153011', '137.0'], ['-0.0236772472339084', '-0.044641636506989', '0.0595405823709267', '-0.0400993174922969', '-0.0428475455662452', '-0.0435889197678055', '0.0118237214092792', '-0.0394933828740919', '-0.0159982677581387', '0.0403433716478807', '85.0'], ['0.0526060602375023', '-0.044641636506989', '-0.0212953231701409', '-0.0745280244296595', '-0.040095639849843', '-0.0376390989938044', '-0.00658446761115617', '-0.0394933828740919', '-0.000609254186102297', '-0.0549250873933176', '131.0'], ['0.0671362140415805', '0.0506801187398187', '-0.00620595413580824', '0.063186803319791', '-0.0428475455662452', '-0.0958847128866574', '0.052321737254237', '-0.076394503750001', '0.0594238004447941', '0.0527696923923848', '283.0'], ['-0.0600026317441039', '-0.044641636506989', '0.0444512133365941', '-0.0194420933298793', '-0.00982467696941811', '-0.00757684666200928', '0.0228686348215404', '-0.0394933828740919', '-0.0271286455543265', '-0.0093619113301358', '129.0'], ['-0.0236772472339084', '-0.044641636506989', '-0.0654856181992578', '-0.081413765817132', '-0.0387196869916418', '-0.0536096705450705', '0.0596850128624111', '-0.076394503750001', '-0.0371283460104736', '-0.0424987666488135', '59.0'], ['0.0344433679824045', '0.0506801187398187', '0.125287118877662', '0.0287580963824284', '-0.0538551684318543', '-0.0129003705124313', '-0.10230705051742', '0.108111100629544', '0.000271485727907132', '0.0279170509033766', '341.0'], ['0.030810829531385', '-0.044641636506989', '-0.0503962491649252', '-0.00222773986119799', '-0.0442234984244464', '-0.0899348921126563', '0.118591217727804', '-0.076394503750001', '-0.0181182673078967', '0.00306440941436832', '87.0'], ['0.0162806757273067', '-0.044641636506989', '-0.063329994051496', '-0.0573136709609782', '-0.0579830270064577', '-0.0489124436182275', '0.0081420836051921', '-0.0394933828740919', '-0.0594726974107223', '-0.0673514081378217', '65.0'], ['0.0489735217864827', '0.0506801187398187', '-0.030995631835069', '-0.0492803060204031', '0.0493412959332305', '-0.00413221358232442', '0.133317768944152', '-0.0535158088069373', '0.0213108465682448', '0.0196328370737072', '102.0'], ['0.0126481372762872', '-0.044641636506989', '0.0228949718589761', '0.0528581912385822', '0.00806271018719657', '-0.0285577936019079', '0.0375951860378887', '-0.0394933828740919', '0.0547240033481791', '-0.0259303389894746', '265.0'], ['-0.00914709342983014', '-0.044641636506989', '0.0110390390462862', '-0.0573136709609782', '-0.0249601584096305', '-0.0429626228442264', '0.0302319104297145', '-0.0394933828740919', '0.01703713241478', '-0.0052198044153011', '276.0'], ['-0.00188201652779104', '0.0506801187398187', '0.0713965151836166', '0.0976155102571536', '0.0878679759628621', '0.0754074957122168', '-0.0213110188275045', '0.0712099797536354', '0.0714240327805764', '0.0237749439885419', '252.0'], ['-0.00188201652779104', '0.0506801187398187', '0.0142724752679289', '-0.0745280244296595', '0.00255889875439205', '0.00620168565673016', '-0.0139477432193303', '-0.00259226199818282', '0.0191990330785671', '0.00306440941436832', '90.0'], ['0.00538306037424807', '0.0506801187398187', '-0.00836157828357004', '0.0218723549949558', '0.054845107366035', '0.07321545647969', '-0.0249926566315915', '0.0343088588777263', '0.0125531528133893', '0.094190761540732', '100.0'], ['-0.099960554705319', '-0.044641636506989', '-0.0676412423470196', '-0.108956731367022', '-0.0744944613048712', '-0.072711726714232', '0.0155053592133662', '-0.0394933828740919', '-0.0498684677352306', '-0.0093619113301358', '55.0'], ['-0.0600026317441039', '0.0506801187398187', '-0.0105172024313319', '-0.0148515990830405', '-0.0497273098572509', '-0.0235474182132754', '-0.0581273968683752', '0.0158582984397717', '-0.00991895736315477', '-0.0342145528191441', '61.0'], ['0.0199132141783263', '-0.044641636506989', '-0.0234509473179027', '-0.0710851537359232', '0.0204462859110067', '-0.0100820343563255', '0.118591217727804', '-0.076394503750001', '-0.0425721049227942', '0.0734802269665584', '92.0'], ['0.0453409833354632', '0.0506801187398187', '0.068163078961974', '0.0081008722200108', '-0.0167044412604238', '0.0046359433477825', '-0.0765355858888105', '0.0712099797536354', '0.0324332257796019', '-0.0176461251598052', '259.0'], ['0.0271782910803654', '0.0506801187398187', '-0.0353068801305926', '0.0322009670761646', '-0.0112006298276192', '0.00150445872988718', '-0.0102661054152432', '-0.00259226199818282', '-0.0149564750249113', '-0.0507829804784829', '53.0'], ['-0.0563700932930843', '-0.044641636506989', '-0.0115950145052127', '-0.0332135761048244', '-0.0469754041408486', '-0.0476598497710694', '0.00446044580110504', '-0.0394933828740919', '-0.00797939755454164', '-0.0880619427119953', '190.0'], ['-0.0781653239992017', '-0.044641636506989', '-0.0730303027164241', '-0.0573136709609782', '-0.0841261313122791', '-0.0742774690231797', '-0.0249926566315915', '-0.0394933828740919', '-0.0181182673078967', '-0.0839198357971606', '142.0'], ['0.0671362140415805', '0.0506801187398187', '-0.041773752573878', '0.0115437429137471', '0.00255889875439205', '0.00588853719494063', '0.0412768238419757', '-0.0394933828740919', '-0.0594726974107223', '-0.0217882320746399', '75.0'], ['-0.0418399394890061', '0.0506801187398187', '0.0142724752679289', '-0.00567061055493425', '-0.0125765826858204', '0.00620168565673016', '-0.0728539480847234', '0.0712099797536354', '0.0354619386607697', '-0.0135040182449705', '142.0'], ['0.0344433679824045', '-0.044641636506989', '-0.00728376620968916', '0.0149866136074833', '-0.0442234984244464', '-0.0373259505320149', '-0.0029028298070691', '-0.0394933828740919', '-0.02139368094036', '0.00720651632920303', '155.0'], ['0.0598711371395414', '0.0506801187398187', '0.0164280994156907', '0.0287580963824284', '-0.0414715927080441', '-0.029184090525487', '-0.0286742944356786', '-0.00259226199818282', '-0.00239668149341427', '-0.0217882320746399', '225.0'], ['-0.0527375548420648', '-0.044641636506989', '-0.00943939035745095', '-0.00567061055493425', '0.0397096259258226', '0.0447189464568426', '0.0265502726256275', '-0.00259226199818282', '-0.0181182673078967', '-0.0135040182449705', '59.0'], ['-0.00914709342983014', '-0.044641636506989', '-0.0159062628007364', '0.0700725447072635', '0.0121905687618', '0.0221722572079963', '0.0155053592133662', '-0.00259226199818282', '-0.0332487872476258', '0.0486275854775501', '104.0'], ['-0.0491050163910452', '-0.044641636506989', '0.0250505960067379', '0.0081008722200108', '0.0204462859110067', '0.0177881787429428', '0.052321737254237', '-0.0394933828740919', '-0.0411803851880079', '0.00720651632920303', '182.0'], ['-0.0418399394890061', '-0.044641636506989', '-0.0493184370910443', '-0.0366564467985606', '-0.00707277125301585', '-0.0226079728279068', '0.0854564774910206', '-0.0394933828740919', '-0.0664881482228354', '0.00720651632920303', '128.0'], ['-0.0418399394890061', '-0.044641636506989', '0.0412177771149514', '-0.0263278347173518', '-0.0318399227006362', '-0.0304366843726451', '-0.0360375700438527', '0.00294290613320356', '0.0336568129023847', '-0.0176461251598052', '52.0'], ['-0.0273097856849279', '-0.044641636506989', '-0.063329994051496', '-0.0504279295735057', '-0.0896299427450836', '-0.104339721354975', '0.052321737254237', '-0.076394503750001', '-0.0561575730950062', '-0.0673514081378217', '37.0'], ['0.0417084448844436', '-0.044641636506989', '-0.064407806125377', '0.0356438377699009', '0.0121905687618', '-0.057993749010124', '0.181179060397284', '-0.076394503750001', '-0.000609254186102297', '-0.0507829804784829', '170.0'], ['0.063503675590561', '0.0506801187398187', '-0.0256065714656645', '0.0115437429137471', '0.0644767773734429', '0.048476727998317', '0.0302319104297145', '-0.00259226199818282', '0.0383932482116977', '0.0196328370737072', '170.0'], ['-0.0709002470971626', '-0.044641636506989', '-0.00405032998804645', '-0.0400993174922969', '-0.0662387441556644', '-0.0786615474882331', '0.052321737254237', '-0.076394503750001', '-0.0514005352605825', '-0.0342145528191441', '61.0'], ['-0.0418399394890061', '0.0506801187398187', '0.00457216660300077', '-0.0538708002672419', '-0.0442234984244464', '-0.0273051997547498', '-0.0802172236928976', '0.0712099797536354', '0.0366457977933988', '0.0196328370737072', '144.0'], ['-0.0273097856849279', '0.0506801187398187', '-0.00728376620968916', '-0.0400993174922969', '-0.0112006298276192', '-0.0138398158977999', '0.0596850128624111', '-0.0394933828740919', '-0.0823814832581028', '-0.0259303389894746', '52.0'], ['-0.034574862586967', '-0.044641636506989', '-0.0374625042783544', '-0.0607565416547144', '0.0204462859110067', '0.0434663526096845', '-0.0139477432193303', '-0.00259226199818282', '-0.0307512098645563', '-0.0714935150526564', '128.0'], ['0.0671362140415805', '0.0506801187398187', '-0.0256065714656645', '-0.0400993174922969', '-0.0634868384392622', '-0.0598726397808612', '-0.0029028298070691', '-0.0394933828740919', '-0.0191970476139445', '0.0113486232440377', '71.0'], ['-0.0454724779400257', '0.0506801187398187', '-0.0245287593917836', '0.0597439326260547', '0.00531080447079431', '0.0149698425868371', '-0.0544457590642881', '0.0712099797536354', '0.0423448954496075', '0.0154907301588724', '163.0'], ['-0.00914709342983014', '0.0506801187398187', '-0.0180618869484982', '-0.0332135761048244', '-0.0208322998350272', '0.0121515064307313', '-0.0728539480847234', '0.0712099797536354', '0.000271485727907132', '0.0196328370737072', '150.0'], ['0.0417084448844436', '0.0506801187398187', '-0.0148284507268555', '-0.0171468461892456', '-0.00569681839481472', '0.00839372488925688', '-0.0139477432193303', '-0.00185423958066465', '-0.0119006848015081', '0.00306440941436832', '97.0'], ['0.0380759064334241', '0.0506801187398187', '-0.0299178197611881', '-0.0400993174922969', '-0.0332158755588373', '-0.0241737151368545', '-0.0102661054152432', '-0.00259226199818282', '-0.0129079422541688', '0.00306440941436832', '160.0'], ['0.0162806757273067', '-0.044641636506989', '-0.0460850008694016', '-0.00567061055493425', '-0.0758704141630723', '-0.0614383820898088', '-0.0139477432193303', '-0.0394933828740919', '-0.0514005352605825', '0.0196328370737072', '178.0'], ['-0.00188201652779104', '-0.044641636506989', '-0.0697968664947814', '-0.0125563519424068', '-0.000193006962010205', '-0.00914258897095694', '0.0707299262746723', '-0.0394933828740919', '-0.0629129499162512', '0.0403433716478807', '48.0'], ['-0.00188201652779104', '-0.044641636506989', '0.0336730925977851', '0.125158475807044', '0.0245741444856101', '0.0262431872112602', '-0.0102661054152432', '-0.00259226199818282', '0.0267142576335128', '0.0610539062220542', '270.0'], ['0.063503675590561', '0.0506801187398187', '-0.00405032998804645', '-0.0125563519424068', '0.103003457403075', '0.0487898764601065', '0.056003375058324', '-0.00259226199818282', '0.0844952822124031', '-0.0176461251598052', '202.0'], ['0.0126481372762872', '0.0506801187398187', '-0.02021751109626', '-0.00222773986119799', '0.0383336730676214', '0.05317395492516', '-0.00658446761115617', '0.0343088588777263', '-0.00514530798026311', '-0.0093619113301358', '111.0'], ['0.0126481372762872', '0.0506801187398187', '0.00241654245523897', '0.0563010619323185', '0.0273260502020124', '0.0171618818193638', '0.0412768238419757', '-0.0394933828740919', '0.00371173823343597', '0.0734802269665584', '85.0'], ['-0.00914709342983014', '0.0506801187398187', '-0.030995631835069', '-0.0263278347173518', '-0.0112006298276192', '-0.00100072896442909', '-0.0213110188275045', '-0.00259226199818282', '0.0062093156165054', '0.0279170509033766', '42.0'], ['-0.0309423241359475', '0.0506801187398187', '0.0282840322283806', '0.0700725447072635', '-0.126780669916514', '-0.106844909049291', '-0.0544457590642881', '-0.047980640675551', '-0.0307512098645563', '0.0154907301588724', '170.0'], ['-0.0963280162542995', '-0.044641636506989', '-0.0363846922044735', '-0.0745280244296595', '-0.0387196869916418', '-0.0276183482165393', '0.0155053592133662', '-0.0394933828740919', '-0.0740888714915354', '-0.00107769750046639', '200.0'], ['0.00538306037424807', '-0.044641636506989', '-0.0579409336820915', '-0.0228849640236156', '-0.0676146970138656', '-0.0683276482491785', '-0.0544457590642881', '-0.00259226199818282', '0.0428956878925287', '-0.0839198357971606', '252.0'], ['-0.103593093156339', '-0.044641636506989', '-0.0374625042783544', '-0.0263278347173518', '0.00255889875439205', '0.0199802179754696', '0.0118237214092792', '-0.00259226199818282', '-0.0683297436244215', '-0.0259303389894746', '113.0'], ['0.0707687524926', '-0.044641636506989', '0.0121168511201671', '0.0425295791573734', '0.0713565416644485', '0.0534871033869495', '0.052321737254237', '-0.00259226199818282', '0.0253931349154494', '-0.0052198044153011', '143.0'], ['0.0126481372762872', '0.0506801187398187', '-0.0223731352440218', '-0.0297707054110881', '0.0108146159035988', '0.0284352264437869', '-0.0213110188275045', '0.0343088588777263', '-0.00608024819631442', '-0.00107769750046639', '51.0'], ['-0.0164121703318693', '-0.044641636506989', '-0.0353068801305926', '-0.0263278347173518', '0.0328298616348169', '0.0171618818193638', '0.100183028707369', '-0.0394933828740919', '-0.0702093127286876', '-0.0797777288823259', '52.0'], ['-0.0382074010379866', '-0.044641636506989', '0.00996122697240527', '-0.0469850588797694', '-0.0593589798646588', '-0.0529833736214915', '-0.0102661054152432', '-0.0394933828740919', '-0.0159982677581387', '-0.0424987666488135', '210.0'], ['0.00175052192322852', '-0.044641636506989', '-0.0396181284261162', '-0.100923366426447', '-0.0290880169842339', '-0.0301235359108556', '0.0449584616460628', '-0.0501947079281055', '-0.0683297436244215', '-0.129483011860342', '65.0'], ['0.0453409833354632', '-0.044641636506989', '0.0713965151836166', '0.00121513083253827', '-0.00982467696941811', '-0.00100072896442909', '0.0155053592133662', '-0.0394933828740919', '-0.0411803851880079', '-0.0714935150526564', '141.0'], ['-0.0709002470971626', '0.0506801187398187', '-0.0751859268641859', '-0.0400993174922969', '-0.051103262715452', '-0.015092409744958', '-0.0397192078479398', '-0.00259226199818282', '-0.096433222891784', '-0.0342145528191441', '55.0'], ['0.0453409833354632', '-0.044641636506989', '-0.00620595413580824', '0.0115437429137471', '0.0631008245152418', '0.0162224364339952', '0.0965013909032818', '-0.0394933828740919', '0.0428956878925287', '-0.0383566597339788', '134.0'], ['-0.0527375548420648', '0.0506801187398187', '-0.0406959404999971', '-0.067642283042187', '-0.0318399227006362', '-0.0370128020702253', '0.0375951860378887', '-0.0394933828740919', '-0.0345237153303495', '0.0693381200517237', '42.0'], ['-0.0454724779400257', '-0.044641636506989', '-0.0482406250171634', '-0.0194420933298793', '-0.000193006962010205', '-0.0160318551303266', '0.0670482884705852', '-0.0394933828740919', '-0.0247911874324607', '0.0196328370737072', '111.0'], ['0.0126481372762872', '-0.044641636506989', '-0.0256065714656645', '-0.0400993174922969', '-0.0304639698424351', '-0.0451546620767532', '0.0780932018828464', '-0.076394503750001', '-0.072128454601956', '0.0113486232440377', '98.0'], ['0.0453409833354632', '-0.044641636506989', '0.0519958978537604', '-0.0538708002672419', '0.0631008245152418', '0.0647604480113727', '-0.0102661054152432', '0.0343088588777263', '0.0372320112089689', '0.0196328370737072', '164.0'], ['-0.0200447087828888', '-0.044641636506989', '0.00457216660300077', '0.0976155102571536', '0.00531080447079431', '-0.0207290820571696', '0.0633666506664982', '-0.0394933828740919', '0.0125531528133893', '0.0113486232440377', '48.0'], ['-0.0491050163910452', '-0.044641636506989', '-0.064407806125377', '-0.10207098997955', '-0.00294491267841247', '-0.0154055582067476', '0.0633666506664982', '-0.0472426182580328', '-0.0332487872476258', '-0.0549250873933176', '96.0'], ['-0.0781653239992017', '-0.044641636506989', '-0.0169840748746173', '-0.0125563519424068', '-0.000193006962010205', '-0.0135266674360104', '0.0707299262746723', '-0.0394933828740919', '-0.0411803851880079', '-0.09220404962683', '90.0'], ['-0.0709002470971626', '-0.044641636506989', '-0.0579409336820915', '-0.081413765817132', '-0.0455994512826475', '-0.0288709420636975', '-0.0434008456520269', '-0.00259226199818282', '0.00114379737951254', '-0.0052198044153011', '162.0'], ['0.0562385986885218', '0.0506801187398187', '0.00996122697240527', '0.0494153205448459', '-0.00432086553661359', '-0.0122740735888523', '-0.0434008456520269', '0.0343088588777263', '0.060787754150744', '0.0320591578182113', '150.0'], ['-0.0273097856849279', '-0.044641636506989', '0.088641508365711', '-0.0251802111642493', '0.0218222387692079', '0.0425269072243159', '-0.0323559322397657', '0.0343088588777263', '0.00286377051894013', '0.0776223338813931', '279.0'], ['0.00175052192322852', '0.0506801187398187', '-0.00512814206192736', '-0.0125563519424068', '-0.0153284884022226', '-0.0138398158977999', '0.0081420836051921', '-0.0394933828740919', '-0.00608024819631442', '-0.0673514081378217', '92.0'], ['-0.00188201652779104', '-0.044641636506989', '-0.064407806125377', '0.0115437429137471', '0.0273260502020124', '0.0375165318356834', '-0.0139477432193303', '0.0343088588777263', '0.0117839003835759', '-0.0549250873933176', '83.0'], ['0.0162806757273067', '-0.044641636506989', '0.0175059114895716', '-0.0228849640236156', '0.0603489187988395', '0.0444057979950531', '0.0302319104297145', '-0.00259226199818282', '0.0372320112089689', '-0.00107769750046639', '128.0'], ['0.0162806757273067', '0.0506801187398187', '-0.0450071887955207', '0.063186803319791', '0.0108146159035988', '-0.00037443204085002', '0.0633666506664982', '-0.0394933828740919', '-0.0307512098645563', '0.036201264733046', '102.0'], ['-0.0926954778032799', '-0.044641636506989', '0.0282840322283806', '-0.015999222636143', '0.0369577202094203', '0.0249905933641021', '0.056003375058324', '-0.0394933828740919', '-0.00514530798026311', '-0.00107769750046639', '302.0'], ['0.0598711371395414', '0.0506801187398187', '0.0412177771149514', '0.0115437429137471', '0.0410855787840237', '0.0707102687853738', '-0.0360375700438527', '0.0343088588777263', '-0.0109044358473771', '-0.0300724459043093', '198.0'], ['-0.0273097856849279', '-0.044641636506989', '0.0649296427403312', '-0.00222773986119799', '-0.0249601584096305', '-0.0172844489774848', '0.0228686348215404', '-0.0394933828740919', '-0.0611765950943345', '-0.063209301222987', '95.0'], ['0.0235457526293458', '0.0506801187398187', '-0.0320734439089499', '-0.0400993174922969', '-0.0318399227006362', '-0.0216685274425382', '-0.0139477432193303', '-0.00259226199818282', '-0.0109044358473771', '0.0196328370737072', '53.0'], ['-0.0963280162542995', '-0.044641636506989', '-0.0762637389380668', '-0.0435421881860331', '-0.0455994512826475', '-0.0348207628376986', '0.0081420836051921', '-0.0394933828740919', '-0.0594726974107223', '-0.0839198357971606', '134.0'], ['0.0271782910803654', '-0.044641636506989', '0.0498402737059986', '-0.0550184238203444', '-0.00294491267841247', '0.0406480164535787', '-0.0581273968683752', '0.0527594193156808', '-0.0529587932392004', '-0.0052198044153011', '144.0'], ['0.0199132141783263', '0.0506801187398187', '0.045529025410475', '0.0299057198322448', '-0.062110885581061', '-0.0558017097775973', '-0.0728539480847234', '0.0269286347025444', '0.0456008084141249', '0.0403433716478807', '232.0'], ['0.0380759064334241', '0.0506801187398187', '-0.00943939035745095', '0.0023627543856408', '0.00118294589619092', '0.0375165318356834', '-0.0544457590642881', '0.0501763408543672', '-0.0259524244351894', '0.106617082285236', '81.0'], ['0.0417084448844436', '0.0506801187398187', '-0.0320734439089499', '-0.0228849640236156', '-0.0497273098572509', '-0.0401442866881206', '0.0302319104297145', '-0.0394933828740919', '-0.126097385560409', '0.0154907301588724', '104.0'], ['0.0199132141783263', '-0.044641636506989', '0.00457216660300077', '-0.0263278347173518', '0.023198191627409', '0.0102726156599941', '0.0670482884705852', '-0.0394933828740919', '-0.0236445575721341', '-0.0466408735636482', '59.0'], ['-0.0854304009012408', '-0.044641636506989', '0.0207393477112143', '-0.0263278347173518', '0.00531080447079431', '0.01966706951368', '-0.0029028298070691', '-0.00259226199818282', '-0.0236445575721341', '0.00306440941436832', '246.0'], ['0.0199132141783263', '0.0506801187398187', '0.0142724752679289', '0.063186803319791', '0.0149424744782022', '0.0202933664372591', '-0.0470824834561139', '0.0343088588777263', '0.0466607723568145', '0.0900486546258972', '297.0'], ['0.0235457526293458', '-0.044641636506989', '0.110197749843329', '0.063186803319791', '0.0135665216200011', '-0.0329418720669614', '-0.0249926566315915', '0.0206554441536399', '0.09924022573399', '0.0237749439885419', '258.0'], ['-0.0309423241359475', '0.0506801187398187', '0.00133873038135806', '-0.00567061055493425', '0.0644767773734429', '0.0494161733836856', '-0.0470824834561139', '0.108111100629544', '0.0837967663655224', '0.00306440941436832', '229.0'], ['0.0489735217864827', '0.0506801187398187', '0.0584627702970458', '0.0700725447072635', '0.0135665216200011', '0.0206065148990486', '-0.0213110188275045', '0.0343088588777263', '0.0220040504561505', '0.0279170509033766', '275.0'], ['0.0598711371395414', '-0.044641636506989', '-0.0212953231701409', '0.0872868981759448', '0.0452134373586271', '0.0315667110616823', '-0.0470824834561139', '0.0712099797536354', '0.0791210813896579', '0.135611830689079', '281.0'], ['-0.0563700932930843', '0.0506801187398187', '-0.0105172024313319', '0.0253152256886921', '0.023198191627409', '0.0400217195299996', '-0.0397192078479398', '0.0343088588777263', '0.0206123307213641', '0.0569117993072195', '179.0'], ['0.0162806757273067', '-0.044641636506989', '-0.0471628129432825', '-0.00222773986119799', '-0.019456346976826', '-0.0429626228442264', '0.0339135482338016', '-0.0394933828740919', '0.027367707542609', '0.0279170509033766', '200.0'], ['-0.0491050163910452', '-0.044641636506989', '0.00457216660300077', '0.0115437429137471', '-0.0373437341334407', '-0.0185370428246429', '-0.0176293810234174', '-0.00259226199818282', '-0.0398095943643375', '-0.0217882320746399', '200.0'], ['0.063503675590561', '-0.044641636506989', '0.0175059114895716', '0.0218723549949558', '0.00806271018719657', '0.0215459602844172', '-0.0360375700438527', '0.0343088588777263', '0.0199084208763183', '0.0113486232440377', '173.0'], ['0.0489735217864827', '0.0506801187398187', '0.0810968238485447', '0.0218723549949558', '0.0438374845004259', '0.0641341510877936', '-0.0544457590642881', '0.0712099797536354', '0.0324332257796019', '0.0486275854775501', '180.0'], ['0.00538306037424807', '0.0506801187398187', '0.034750904671666', '-0.00108011630809546', '0.152537760298315', '0.198787989657293', '-0.0618090346724622', '0.185234443260194', '0.0155668445407018', '0.0734802269665584', '84.0'], ['-0.00551455497881059', '-0.044641636506989', '0.023972783932857', '0.0081008722200108', '-0.0345918284170385', '-0.0388916928409625', '0.0228686348215404', '-0.0394933828740919', '-0.0159982677581387', '-0.0135040182449705', '121.0'], ['-0.00551455497881059', '0.0506801187398187', '-0.00836157828357004', '-0.00222773986119799', '-0.0332158755588373', '-0.0636304213223356', '-0.0360375700438527', '-0.00259226199818282', '0.0805854642386665', '0.00720651632920303', '161.0'], ['-0.0890629393522603', '-0.044641636506989', '-0.0611743699037342', '-0.0263278347173518', '-0.0552311212900554', '-0.0545491159304391', '0.0412768238419757', '-0.076394503750001', '-0.0939356455087147', '-0.0549250873933176', '99.0'], ['0.0344433679824045', '0.0506801187398187', '-0.00189470584028465', '-0.0125563519424068', '0.0383336730676214', '0.0137172487396789', '0.0780932018828464', '-0.0394933828740919', '0.00455189046612778', '-0.0963461565416647', '109.0'], ['-0.0527375548420648', '-0.044641636506989', '-0.0622521819776151', '-0.0263278347173518', '-0.00569681839481472', '-0.005071658967693', '0.0302319104297145', '-0.0394933828740919', '-0.0307512098645563', '-0.0714935150526564', '115.0'], ['0.00901559882526763', '-0.044641636506989', '0.0164280994156907', '0.00465800152627453', '0.0094386630453977', '0.0105857641217836', '-0.0286742944356786', '0.0343088588777263', '0.0389683660308856', '0.11904340302974', '268.0'], ['-0.0636351701951234', '0.0506801187398187', '0.0961861928828773', '0.104501251644626', '-0.00294491267841247', '-0.00475851050590347', '-0.00658446761115617', '-0.00259226199818282', '0.0226920225667445', '0.0734802269665584', '274.0'], ['-0.0963280162542995', '-0.044641636506989', '-0.0697968664947814', '-0.067642283042187', '-0.019456346976826', '-0.0107083312799046', '0.0155053592133662', '-0.0394933828740919', '-0.0468794828442166', '-0.0797777288823259', '158.0'], ['0.0162806757273067', '0.0506801187398187', '-0.0212953231701409', '-0.00911348124867051', '0.034205814493018', '0.047850431074738', '0.000778807997017968', '-0.00259226199818282', '-0.0129079422541688', '0.0237749439885419', '107.0'], ['-0.0418399394890061', '0.0506801187398187', '-0.0536296853865679', '-0.0400993174922969', '-0.0841261313122791', '-0.0717722813288634', '-0.0029028298070691', '-0.0394933828740919', '-0.072128454601956', '-0.0300724459043093', '83.0'], ['-0.0745327855481821', '-0.044641636506989', '0.0433734012627132', '-0.0332135761048244', '0.0121905687618', '0.000251864882729031', '0.0633666506664982', '-0.0394933828740919', '-0.0271286455543265', '-0.0466408735636482', '103.0'], ['-0.00551455497881059', '-0.044641636506989', '0.056307146149284', '-0.0366564467985606', '-0.0483513569990498', '-0.0429626228442264', '-0.0728539480847234', '0.0379989709653172', '0.0507815133629732', '0.0569117993072195', '272.0'], ['-0.0926954778032799', '-0.044641636506989', '-0.0816527993074713', '-0.0573136709609782', '-0.0607349327228599', '-0.068014499787389', '0.0486400994501499', '-0.076394503750001', '-0.0664881482228354', '-0.0217882320746399', '85.0'], ['0.00538306037424807', '-0.044641636506989', '0.0498402737059986', '0.0976155102571536', '-0.0153284884022226', '-0.0163450035921162', '-0.00658446761115617', '-0.00259226199818282', '0.01703713241478', '-0.0135040182449705', '280.0'], ['0.0344433679824045', '0.0506801187398187', '0.11127556191721', '0.076958286094736', '-0.0318399227006362', '-0.03388131745233', '-0.0213110188275045', '-0.00259226199818282', '0.028016506523264', '0.0734802269665584', '336.0'], ['0.0235457526293458', '-0.044641636506989', '0.0616962065186885', '0.0528581912385822', '-0.0345918284170385', '-0.0489124436182275', '-0.0286742944356786', '-0.00259226199818282', '0.0547240033481791', '-0.0052198044153011', '281.0'], ['0.0417084448844436', '0.0506801187398187', '0.0142724752679289', '0.0425295791573734', '-0.0304639698424351', '-0.00131387742621863', '-0.0434008456520269', '-0.00259226199818282', '-0.0332487872476258', '0.0154907301588724', '118.0'], ['-0.0273097856849279', '-0.044641636506989', '0.0476846495582368', '-0.0469850588797694', '0.034205814493018', '0.0572448849284239', '-0.0802172236928976', '0.13025177315509', '0.0450661683362615', '0.131469723774244', '317.0'], ['0.0417084448844436', '0.0506801187398187', '0.0121168511201671', '0.0390867084636372', '0.054845107366035', '0.0444057979950531', '0.00446044580110504', '-0.00259226199818282', '0.0456008084141249', '-0.00107769750046639', '235.0'], ['-0.0309423241359475', '-0.044641636506989', '0.00564997867688165', '-0.00911348124867051', '0.0190703330528056', '0.00682798258030921', '0.0744115640787594', '-0.0394933828740919', '-0.0411803851880079', '-0.0424987666488135', '60.0'], ['0.030810829531385', '0.0506801187398187', '0.0466068374843559', '-0.015999222636143', '0.0204462859110067', '0.0506687672308438', '-0.0581273968683752', '0.0712099797536354', '0.0062093156165054', '0.00720651632920303', '174.0'], ['-0.0418399394890061', '-0.044641636506989', '0.128520555099304', '0.063186803319791', '-0.0332158755588373', '-0.0326287236051719', '0.0118237214092792', '-0.0394933828740919', '-0.0159982677581387', '-0.0507829804784829', '259.0'], ['-0.0309423241359475', '0.0506801187398187', '0.0595405823709267', '0.00121513083253827', '0.0121905687618', '0.0315667110616823', '-0.0434008456520269', '0.0343088588777263', '0.0148227108412663', '0.00720651632920303', '178.0'], ['-0.0563700932930843', '-0.044641636506989', '0.0929527566612346', '-0.0194420933298793', '0.0149424744782022', '0.0234248510551544', '-0.0286742944356786', '0.0254525898675081', '0.0260560896336847', '0.0403433716478807', '128.0'], ['-0.0600026317441039', '0.0506801187398187', '0.0153502873418098', '-0.0194420933298793', '0.0369577202094203', '0.0481635795365275', '0.0191869970174533', '-0.00259226199818282', '-0.0307512098645563', '-0.00107769750046639', '96.0'], ['-0.0491050163910452', '0.0506801187398187', '-0.00512814206192736', '-0.0469850588797694', '-0.0208322998350272', '-0.0204159335953801', '-0.0691723102806364', '0.0712099797536354', '0.061237907519701', '-0.0383566597339788', '126.0'], ['0.0235457526293458', '-0.044641636506989', '0.0703187031097357', '0.0253152256886921', '-0.0345918284170385', '-0.014466112821379', '-0.0323559322397657', '-0.00259226199818282', '-0.0191970476139445', '-0.0093619113301358', '288.0'], ['0.00175052192322852', '-0.044641636506989', '-0.00405032998804645', '-0.00567061055493425', '-0.00844872411121698', '-0.0238605666750649', '0.052321737254237', '-0.0394933828740919', '-0.0089440189577978', '-0.0135040182449705', '88.0'], ['-0.034574862586967', '0.0506801187398187', '-0.000816893766403737', '0.0700725447072635', '0.0397096259258226', '0.0669524872438994', '-0.0654906724765493', '0.108111100629544', '0.0267142576335128', '0.0734802269665584', '292.0'], ['0.0417084448844436', '0.0506801187398187', '-0.0439293767216398', '0.063186803319791', '-0.00432086553661359', '0.0162224364339952', '-0.0139477432193303', '-0.00259226199818282', '-0.0345237153303495', '0.0113486232440377', '71.0'], ['0.0671362140415805', '0.0506801187398187', '0.0207393477112143', '-0.00567061055493425', '0.0204462859110067', '0.0262431872112602', '-0.0029028298070691', '-0.00259226199818282', '0.00864028293306308', '0.00306440941436832', '197.0'], ['-0.0273097856849279', '0.0506801187398187', '0.0606183944448076', '0.0494153205448459', '0.0851160702464598', '0.0863676918748504', '-0.0029028298070691', '0.0343088588777263', '0.0378144788263439', '0.0486275854775501', '186.0'], ['-0.0164121703318693', '-0.044641636506989', '-0.0105172024313319', '0.00121513083253827', '-0.0373437341334407', '-0.0357602082230672', '0.0118237214092792', '-0.0394933828740919', '-0.02139368094036', '-0.0342145528191441', '25.0'], ['-0.00188201652779104', '0.0506801187398187', '-0.0331512559828308', '-0.0182944697767768', '0.0314539087766158', '0.0428400556861055', '-0.0139477432193303', '0.0199174217361217', '0.0102256424049578', '0.0279170509033766', '84.0'], ['-0.0127796318808497', '-0.044641636506989', '-0.0654856181992578', '-0.0699375301828207', '0.00118294589619092', '0.0168487333575743', '-0.0029028298070691', '-0.00702039650329191', '-0.0307512098645563', '-0.0507829804784829', '96.0'], ['-0.00551455497881059', '-0.044641636506989', '0.0433734012627132', '0.0872868981759448', '0.0135665216200011', '0.00714113104209875', '-0.0139477432193303', '-0.00259226199818282', '0.0423448954496075', '-0.0176461251598052', '195.0'], ['-0.00914709342983014', '-0.044641636506989', '-0.0622521819776151', '-0.0745280244296595', '-0.0235842055514294', '-0.0132135189742209', '0.00446044580110504', '-0.0394933828740919', '-0.0358167281015492', '-0.0466408735636482', '53.0'], ['-0.0454724779400257', '0.0506801187398187', '0.0638518306664503', '0.0700725447072635', '0.133274420283499', '0.131461070372543', '-0.0397192078479398', '0.108111100629544', '0.0757375884575476', '0.0859065477110625', '217.0'], ['-0.0527375548420648', '-0.044641636506989', '0.0304396563761424', '-0.0745280244296595', '-0.0235842055514294', '-0.0113346282034837', '-0.0029028298070691', '-0.00259226199818282', '-0.0307512098645563', '-0.00107769750046639', '172.0'], ['0.0162806757273067', '0.0506801187398187', '0.0724743272574975', '0.076958286094736', '-0.00844872411121698', '0.00557538873315109', '-0.00658446761115617', '-0.00259226199818282', '-0.0236445575721341', '0.0610539062220542', '131.0'], ['0.0453409833354632', '-0.044641636506989', '-0.019139699022379', '0.0218723549949558', '0.0273260502020124', '-0.0135266674360104', '0.100183028707369', '-0.0394933828740919', '0.0177634778671173', '-0.0135040182449705', '214.0'], ['-0.0418399394890061', '-0.044641636506989', '-0.0665634302731387', '-0.0469850588797694', '-0.0373437341334407', '-0.043275771306016', '0.0486400994501499', '-0.0394933828740919', '-0.0561575730950062', '-0.0135040182449705', '59.0'], ['-0.0563700932930843', '0.0506801187398187', '-0.0600965578298533', '-0.0366564467985606', '-0.0882539898868825', '-0.0708328359434948', '-0.0139477432193303', '-0.0394933828740919', '-0.0781409106690696', '-0.104630370371334', '70.0'], ['0.0707687524926', '-0.044641636506989', '0.0692408910358548', '0.0379390850138207', '0.0218222387692079', '0.00150445872988718', '-0.0360375700438527', '0.0391060045915944', '0.0776327891955595', '0.106617082285236', '220.0'], ['0.00175052192322852', '0.0506801187398187', '0.0595405823709267', '-0.00222773986119799', '0.0617248716570406', '0.063194705702425', '-0.0581273968683752', '0.108111100629544', '0.0689822116363026', '0.12732761685941', '268.0'], ['-0.00188201652779104', '-0.044641636506989', '-0.0266843835395454', '0.0494153205448459', '0.0589729659406384', '-0.0160318551303266', '-0.0470824834561139', '0.0712099797536354', '0.133598980013008', '0.0196328370737072', '152.0'], ['0.0235457526293458', '0.0506801187398187', '-0.02021751109626', '-0.0366564467985606', '-0.0139525355440215', '-0.015092409744958', '0.0596850128624111', '-0.0394933828740919', '-0.096433222891784', '-0.0176461251598052', '47.0'], ['-0.0200447087828888', '-0.044641636506989', '-0.0460850008694016', '-0.0986281192858133', '-0.0758704141630723', '-0.0598726397808612', '-0.0176293810234174', '-0.0394933828740919', '-0.0514005352605825', '-0.0466408735636482', '74.0'], ['0.0417084448844436', '0.0506801187398187', '0.0713965151836166', '0.0081008722200108', '0.0383336730676214', '0.0159092879722056', '-0.0176293810234174', '0.0343088588777263', '0.0734100780491161', '0.0859065477110625', '295.0'], ['-0.0636351701951234', '0.0506801187398187', '-0.0794971751597095', '-0.00567061055493425', '-0.071742555588469', '-0.0664487574784414', '-0.0102661054152432', '-0.0394933828740919', '-0.0181182673078967', '-0.0549250873933176', '101.0'], ['0.0162806757273067', '0.0506801187398187', '0.00996122697240527', '-0.0435421881860331', '-0.0965097070360893', '-0.0946321190394993', '-0.0397192078479398', '-0.0394933828740919', '0.01703713241478', '0.00720651632920303', '151.0'], ['0.0671362140415805', '-0.044641636506989', '-0.0385403163522353', '-0.0263278347173518', '-0.0318399227006362', '-0.0263657543693812', '0.0081420836051921', '-0.0394933828740919', '-0.0271286455543265', '0.00306440941436832', '127.0'], ['0.0453409833354632', '0.0506801187398187', '0.0196615356373334', '0.0390867084636372', '0.0204462859110067', '0.0259300387494707', '0.0081420836051921', '-0.00259226199818282', '-0.003303712578677', '0.0196328370737072', '237.0'], ['0.0489735217864827', '-0.044641636506989', '0.0272062201544997', '-0.0251802111642493', '0.023198191627409', '0.0184144756665219', '-0.0618090346724622', '0.0800662487638535', '0.0722236508199124', '0.0320591578182113', '225.0'], ['0.0417084448844436', '-0.044641636506989', '-0.00836157828357004', '-0.0263278347173518', '0.0245741444856101', '0.0162224364339952', '0.0707299262746723', '-0.0394933828740919', '-0.0483617248028919', '-0.0300724459043093', '81.0'], ['-0.0236772472339084', '-0.044641636506989', '-0.0159062628007364', '-0.0125563519424068', '0.0204462859110067', '0.0412743133771578', '-0.0434008456520269', '0.0343088588777263', '0.0140724525157685', '-0.0093619113301358', '151.0'], ['-0.0382074010379866', '0.0506801187398187', '0.00457216660300077', '0.0356438377699009', '-0.0112006298276192', '0.00588853719494063', '-0.0470824834561139', '0.0343088588777263', '0.0163049527999418', '-0.00107769750046639', '107.0'], ['0.0489735217864827', '-0.044641636506989', '-0.0428515646477589', '-0.0538708002672419', '0.0452134373586271', '0.0500424703072647', '0.0339135482338016', '-0.00259226199818282', '-0.0259524244351894', '-0.063209301222987', '64.0'], ['0.0453409833354632', '0.0506801187398187', '0.00564997867688165', '0.0563010619323185', '0.0644767773734429', '0.0891860280309562', '-0.0397192078479398', '0.0712099797536354', '0.0155668445407018', '-0.0093619113301358', '138.0'], ['0.0453409833354632', '0.0506801187398187', '-0.0353068801305926', '0.063186803319791', '-0.00432086553661359', '-0.00162702588800815', '-0.0102661054152432', '-0.00259226199818282', '0.0155668445407018', '0.0569117993072195', '185.0'], ['0.0162806757273067', '-0.044641636506989', '0.023972783932857', '-0.0228849640236156', '-0.0249601584096305', '-0.0260526059075917', '-0.0323559322397657', '-0.00259226199818282', '0.0372320112089689', '0.0320591578182113', '265.0'], ['-0.0745327855481821', '0.0506801187398187', '-0.0180618869484982', '0.0081008722200108', '-0.019456346976826', '-0.0248000120604336', '-0.0654906724765493', '0.0343088588777263', '0.0673172179146849', '-0.0176461251598052', '101.0'], ['-0.0817978624502212', '0.0506801187398187', '0.0422955891888323', '-0.0194420933298793', '0.0397096259258226', '0.0575580333902134', '-0.0691723102806364', '0.108111100629544', '0.0471861678860197', '-0.0383566597339788', '137.0'], ['-0.067267708646143', '-0.044641636506989', '-0.0547074974604488', '-0.0263278347173518', '-0.0758704141630723', '-0.082106180567918', '0.0486400994501499', '-0.076394503750001', '-0.0868289932162924', '-0.104630370371334', '143.0'], ['0.00538306037424807', '-0.044641636506989', '-0.00297251791416553', '0.0494153205448459', '0.0741084473808508', '0.0707102687853738', '0.0449584616460628', '-0.00259226199818282', '-0.00149858682029207', '-0.0093619113301358', '141.0'], ['-0.00188201652779104', '-0.044641636506989', '-0.0665634302731387', '0.00121513083253827', '-0.00294491267841247', '0.00307020103883484', '0.0118237214092792', '-0.00259226199818282', '-0.0202887477516296', '-0.0259303389894746', '79.0'], ['0.00901559882526763', '-0.044641636506989', '-0.0126728265790937', '0.0287580963824284', '-0.0180803941186249', '-0.005071658967693', '-0.0470824834561139', '0.0343088588777263', '0.0233748412798208', '-0.0052198044153011', '292.0'], ['-0.00551455497881059', '0.0506801187398187', '-0.041773752573878', '-0.0435421881860331', '-0.0799982727376757', '-0.0761563597939169', '-0.0323559322397657', '-0.0394933828740919', '0.0102256424049578', '-0.0093619113301358', '178.0'], ['0.0562385986885218', '0.0506801187398187', '-0.030995631835069', '0.0081008722200108', '0.0190703330528056', '0.0212328118226277', '0.0339135482338016', '-0.0394933828740919', '-0.0295276227417736', '-0.0590671943081523', '91.0'], ['0.00901559882526763', '0.0506801187398187', '-0.00512814206192736', '-0.0641994123484507', '0.0699805888062474', '0.0838625041805342', '-0.0397192078479398', '0.0712099797536354', '0.0395398780720242', '0.0196328370737072', '116.0'], ['-0.067267708646143', '-0.044641636506989', '-0.0590187457559724', '0.0322009670761646', '-0.051103262715452', '-0.0495387405418066', '-0.0102661054152432', '-0.0394933828740919', '0.00200784054982379', '0.0237749439885419', '86.0'], ['0.0271782910803654', '0.0506801187398187', '0.0250505960067379', '0.0149866136074833', '0.0259500973438113', '0.048476727998317', '-0.0397192078479398', '0.0343088588777263', '0.00783714230182385', '0.0237749439885419', '122.0'], ['-0.0236772472339084', '-0.044641636506989', '-0.0460850008694016', '-0.0332135761048244', '0.0328298616348169', '0.0362639379885253', '0.0375951860378887', '-0.00259226199818282', '-0.0332487872476258', '0.0113486232440377', '72.0'], ['0.0489735217864827', '0.0506801187398187', '0.00349435452911985', '0.0700725447072635', '-0.00844872411121698', '0.0134041002778894', '-0.0544457590642881', '0.0343088588777263', '0.0133159679089277', '0.036201264733046', '129.0'], ['-0.0527375548420648', '-0.044641636506989', '0.0541515220015222', '-0.0263278347173518', '-0.0552311212900554', '-0.03388131745233', '-0.0139477432193303', '-0.0394933828740919', '-0.0740888714915354', '-0.0590671943081523', '142.0'], ['0.0417084448844436', '-0.044641636506989', '-0.0450071887955207', '0.0344962143200845', '0.0438374845004259', '-0.0157187066685371', '0.0375951860378887', '-0.0144006206784737', '0.089898693277671', '0.00720651632920303', '90.0'], ['0.0562385986885218', '-0.044641636506989', '-0.0579409336820915', '-0.00796585769556799', '0.0520932016496327', '0.0491030249218961', '0.056003375058324', '-0.0214118336448964', '-0.0283202425479987', '0.0444854785627154', '158.0'], ['-0.034574862586967', '0.0506801187398187', '-0.0557853095343297', '-0.015999222636143', '-0.00982467696941811', '-0.00788999512379879', '0.0375951860378887', '-0.0394933828740919', '-0.0529587932392004', '0.0279170509033766', '39.0'], ['0.0816663678456587', '0.0506801187398187', '0.00133873038135806', '0.0356438377699009', '0.126394655992494', '0.0910649188016934', '0.0191869970174533', '0.0343088588777263', '0.0844952822124031', '-0.0300724459043093', '196.0'], ['-0.00188201652779104', '0.0506801187398187', '0.0304396563761424', '0.0528581912385822', '0.0397096259258226', '0.0566185880048449', '-0.0397192078479398', '0.0712099797536354', '0.0253931349154494', '0.0279170509033766', '222.0'], ['0.110726675453815', '0.0506801187398187', '0.00672779075076256', '0.0287580963824284', '-0.0277120641260328', '-0.00726369820021974', '-0.0470824834561139', '0.0343088588777263', '0.00200784054982379', '0.0776223338813931', '277.0'], ['-0.0309423241359475', '-0.044641636506989', '0.0466068374843559', '0.0149866136074833', '-0.0167044412604238', '-0.0470335528474903', '0.000778807997017968', '-0.00259226199818282', '0.0634559213720654', '-0.0259303389894746', '99.0'], ['0.00175052192322852', '0.0506801187398187', '0.0261284080806188', '-0.00911348124867051', '0.0245741444856101', '0.038455977221052', '-0.0213110188275045', '0.0343088588777263', '0.00943640914607987', '0.00306440941436832', '196.0'], ['0.00901559882526763', '-0.044641636506989', '0.045529025410475', '0.0287580963824284', '0.0121905687618', '-0.0138398158977999', '0.0265502726256275', '-0.0394933828740919', '0.0461323310394148', '0.036201264733046', '202.0'], ['0.030810829531385', '-0.044641636506989', '0.0401399650410705', '0.076958286094736', '0.0176943801946045', '0.0378296802974729', '-0.0286742944356786', '0.0343088588777263', '-0.00149858682029207', '0.11904340302974', '155.0'], ['0.0380759064334241', '0.0506801187398187', '-0.0180618869484982', '0.0666296740135272', '-0.051103262715452', '-0.0166581520539057', '-0.0765355858888105', '0.0343088588777263', '-0.0119006848015081', '-0.0135040182449705', '77.0'], ['0.00901559882526763', '-0.044641636506989', '0.0142724752679289', '0.0149866136074833', '0.054845107366035', '0.0472241341511589', '0.0707299262746723', '-0.0394933828740919', '-0.0332487872476258', '-0.0590671943081523', '191.0'], ['0.0925639831987174', '-0.044641636506989', '0.0369065288194278', '0.0218723549949558', '-0.0249601584096305', '-0.0166581520539057', '0.000778807997017968', '-0.0394933828740919', '-0.0225121719296605', '-0.0217882320746399', '70.0'], ['0.0671362140415805', '-0.044641636506989', '0.00349435452911985', '0.0356438377699009', '0.0493412959332305', '0.0312535625998928', '0.0707299262746723', '-0.0394933828740919', '-0.000609254186102297', '0.0196328370737072', '73.0'], ['0.00175052192322852', '-0.044641636506989', '-0.0708746785686623', '-0.0228849640236156', '-0.00156895982021134', '-0.00100072896442909', '0.0265502726256275', '-0.0394933828740919', '-0.0225121719296605', '0.00720651632920303', '49.0'], ['0.030810829531385', '-0.044641636506989', '-0.0331512559828308', '-0.0228849640236156', '-0.0469754041408486', '-0.0811667351825494', '0.103864666511456', '-0.076394503750001', '-0.0398095943643375', '-0.0549250873933176', '65.0'], ['0.0271782910803654', '0.0506801187398187', '0.0940305687351156', '0.0976155102571536', '-0.0345918284170385', '-0.0320024266815928', '-0.0434008456520269', '-0.00259226199818282', '0.0366457977933988', '0.106617082285236', '263.0'], ['0.0126481372762872', '0.0506801187398187', '0.0358287167455469', '0.0494153205448459', '0.0534691545078339', '0.0741549018650587', '-0.0691723102806364', '0.145012221505454', '0.0456008084141249', '0.0486275854775501', '248.0'], ['0.0744012909436196', '-0.044641636506989', '0.0315174684500233', '0.10105838095089', '0.0465893902168282', '0.0368902349121043', '0.0155053592133662', '-0.00259226199818282', '0.0336568129023847', '0.0444854785627154', '296.0'], ['-0.0418399394890061', '-0.044641636506989', '-0.0654856181992578', '-0.0400993174922969', '-0.00569681839481472', '0.014343545663258', '-0.0434008456520269', '0.0343088588777263', '0.00702686254915195', '-0.0135040182449705', '214.0'], ['-0.0890629393522603', '-0.044641636506989', '-0.041773752573878', '-0.0194420933298793', '-0.0662387441556644', '-0.0742774690231797', '0.0081420836051921', '-0.0394933828740919', '0.00114379737951254', '-0.0300724459043093', '185.0'], ['0.0235457526293458', '0.0506801187398187', '-0.0396181284261162', '-0.00567061055493425', '-0.0483513569990498', '-0.0332550205287509', '0.0118237214092792', '-0.0394933828740919', '-0.101643547945512', '-0.0673514081378217', '78.0'], ['-0.0454724779400257', '-0.044641636506989', '-0.0385403163522353', '-0.0263278347173518', '-0.0153284884022226', '0.000878161806308105', '-0.0323559322397657', '-0.00259226199818282', '0.00114379737951254', '-0.0383566597339788', '93.0'], ['-0.0236772472339084', '0.0506801187398187', '-0.0256065714656645', '0.0425295791573734', '-0.0538551684318543', '-0.0476598497710694', '-0.0213110188275045', '-0.0394933828740919', '0.00114379737951254', '0.0196328370737072', '252.0'], ['-0.099960554705319', '-0.044641636506989', '-0.0234509473179027', '-0.0641994123484507', '-0.0579830270064577', '-0.0601857882426507', '0.0118237214092792', '-0.0394933828740919', '-0.0181182673078967', '-0.0507829804784829', '150.0'], ['-0.0273097856849279', '-0.044641636506989', '-0.0665634302731387', '-0.112399602060758', '-0.0497273098572509', '-0.0413968805352788', '0.000778807997017968', '-0.0394933828740919', '-0.0358167281015492', '-0.0093619113301358', '77.0'], ['0.030810829531385', '0.0506801187398187', '0.0325952805239042', '0.0494153205448459', '-0.040095639849843', '-0.0435889197678055', '-0.0691723102806364', '0.0343088588777263', '0.0630166151147464', '0.00306440941436832', '208.0'], ['-0.103593093156339', '0.0506801187398187', '-0.0460850008694016', '-0.0263278347173518', '-0.0249601584096305', '-0.0248000120604336', '0.0302319104297145', '-0.0394933828740919', '-0.0398095943643375', '-0.0549250873933176', '77.0'], ['0.0671362140415805', '0.0506801187398187', '-0.0299178197611881', '0.0574486853821349', '-0.000193006962010205', '-0.0157187066685371', '0.0744115640787594', '-0.0505637191368646', '-0.0384591123013538', '0.00720651632920303', '108.0'], ['-0.0527375548420648', '-0.044641636506989', '-0.0126728265790937', '-0.0607565416547144', '-0.000193006962010205', '0.00808057642746734', '0.0118237214092792', '-0.00259226199818282', '-0.0271286455543265', '-0.0507829804784829', '160.0'], ['-0.0273097856849279', '0.0506801187398187', '-0.0159062628007364', '-0.0297707054110881', '0.00393485161259318', '-0.000687580502639557', '0.0412768238419757', '-0.0394933828740919', '-0.0236445575721341', '0.0113486232440377', '53.0'], ['-0.0382074010379866', '0.0506801187398187', '0.0713965151836166', '-0.0573136709609782', '0.153913713156516', '0.155886650392127', '0.000778807997017968', '0.0719480021711535', '0.0502764933899896', '0.0693381200517237', '220.0'], ['0.00901559882526763', '-0.044641636506989', '-0.030995631835069', '0.0218723549949558', '0.00806271018719657', '0.00870687335104641', '0.00446044580110504', '-0.00259226199818282', '0.00943640914607987', '0.0113486232440377', '154.0'], ['0.0126481372762872', '0.0506801187398187', '0.000260918307477141', '-0.0114087283893043', '0.0397096259258226', '0.0572448849284239', '-0.0397192078479398', '0.0560805201945126', '0.024052583226893', '0.0320591578182113', '259.0'], ['0.0671362140415805', '-0.044641636506989', '0.0369065288194278', '-0.0504279295735057', '-0.0235842055514294', '-0.034507614375909', '0.0486400994501499', '-0.0394933828740919', '-0.0259524244351894', '-0.0383566597339788', '90.0'], ['0.0453409833354632', '-0.044641636506989', '0.0390621529671896', '0.0459724498511097', '0.00668675732899544', '-0.0241737151368545', '0.0081420836051921', '-0.0125555646346783', '0.0643282330236709', '0.0569117993072195', '246.0'], ['0.0671362140415805', '0.0506801187398187', '-0.0148284507268555', '0.0585963091762383', '-0.0593589798646588', '-0.034507614375909', '-0.0618090346724622', '0.012906208769699', '-0.00514530798026311', '0.0486275854775501', '124.0'], ['0.0271782910803654', '-0.044641636506989', '0.00672779075076256', '0.0356438377699009', '0.0796122588136553', '0.0707102687853738', '0.0155053592133662', '0.0343088588777263', '0.0406722637144977', '0.0113486232440377', '67.0'], ['0.0562385986885218', '-0.044641636506989', '-0.0687190544209005', '-0.0687899065952895', '-0.000193006962010205', '-0.00100072896442909', '0.0449584616460628', '-0.0376483268302965', '-0.0483617248028919', '-0.00107769750046639', '72.0'], ['0.0344433679824045', '0.0506801187398187', '-0.00943939035745095', '0.0597439326260547', '-0.0359677812752396', '-0.00757684666200928', '-0.0765355858888105', '0.0712099797536354', '0.0110081010458725', '-0.0217882320746399', '257.0'], ['0.0235457526293458', '-0.044641636506989', '0.0196615356373334', '-0.0125563519424068', '0.0837401173882587', '0.0387691256828415', '0.0633666506664982', '-0.00259226199818282', '0.0660482061630984', '0.0486275854775501', '262.0'], ['0.0489735217864827', '0.0506801187398187', '0.0746299514052593', '0.0666296740135272', '-0.00982467696941811', '-0.00225332281158722', '-0.0434008456520269', '0.0343088588777263', '0.0336568129023847', '0.0196328370737072', '275.0'], ['0.030810829531385', '0.0506801187398187', '-0.00836157828357004', '0.00465800152627453', '0.0149424744782022', '0.0274957810584184', '0.0081420836051921', '-0.00812743012956918', '-0.0295276227417736', '0.0569117993072195', '177.0'], ['-0.103593093156339', '0.0506801187398187', '-0.0234509473179027', '-0.0228849640236156', '-0.0868780370286814', '-0.0677013513255995', '-0.0176293810234174', '-0.0394933828740919', '-0.0781409106690696', '-0.0714935150526564', '71.0'], ['0.0162806757273067', '0.0506801187398187', '-0.0460850008694016', '0.0115437429137471', '-0.0332158755588373', '-0.0160318551303266', '-0.0102661054152432', '-0.00259226199818282', '-0.0439854025655911', '-0.0424987666488135', '47.0'], ['-0.0600026317441039', '0.0506801187398187', '0.0541515220015222', '-0.0194420933298793', '-0.0497273098572509', '-0.0489124436182275', '0.0228686348215404', '-0.0394933828740919', '-0.0439854025655911', '-0.0052198044153011', '187.0'], ['-0.0273097856849279', '-0.044641636506989', '-0.0353068801305926', '-0.0297707054110881', '-0.0566070741482565', '-0.058620045933703', '0.0302319104297145', '-0.0394933828740919', '-0.0498684677352306', '-0.129483011860342', '125.0'], ['0.0417084448844436', '-0.044641636506989', '-0.0320734439089499', '-0.061904165207817', '0.0796122588136553', '0.0509819156926333', '0.056003375058324', '-0.00997248617336464', '0.0450661683362615', '-0.0590671943081523', '78.0'], ['-0.0817978624502212', '-0.044641636506989', '-0.0816527993074713', '-0.0400993174922969', '0.00255889875439205', '-0.0185370428246429', '0.0707299262746723', '-0.0394933828740919', '-0.0109044358473771', '-0.09220404962683', '51.0'], ['-0.0418399394890061', '-0.044641636506989', '0.0476846495582368', '0.0597439326260547', '0.127770608850695', '0.128016437292858', '-0.0249926566315915', '0.108111100629544', '0.0638931206368394', '0.0403433716478807', '258.0'], ['-0.0127796318808497', '-0.044641636506989', '0.0606183944448076', '0.0528581912385822', '0.0479653430750293', '0.0293746718291555', '-0.0176293810234174', '0.0343088588777263', '0.0702112981933102', '0.00720651632920303', '215.0'], ['0.0671362140415805', '-0.044641636506989', '0.056307146149284', '0.0735154154009998', '-0.0139525355440215', '-0.039204841302752', '-0.0323559322397657', '-0.00259226199818282', '0.0757375884575476', '0.036201264733046', '303.0'], ['-0.0527375548420648', '0.0506801187398187', '0.098341817030639', '0.0872868981759448', '0.0603489187988395', '0.0487898764601065', '-0.0581273968683752', '0.108111100629544', '0.0844952822124031', '0.0403433716478807', '243.0'], ['0.00538306037424807', '-0.044641636506989', '0.0595405823709267', '-0.0561660474078757', '0.0245741444856101', '0.0528608064633705', '-0.0434008456520269', '0.0509143632718854', '-0.00421985970694603', '-0.0300724459043093', '91.0'], ['0.0816663678456587', '-0.044641636506989', '0.0336730925977851', '0.0081008722200108', '0.0520932016496327', '0.0566185880048449', '-0.0176293810234174', '0.0343088588777263', '0.0348641930961596', '0.0693381200517237', '150.0'], ['0.030810829531385', '0.0506801187398187', '0.056307146149284', '0.076958286094736', '0.0493412959332305', '-0.0122740735888523', '-0.0360375700438527', '0.0712099797536354', '0.120053382001538', '0.0900486546258972', '310.0'], ['0.00175052192322852', '-0.044641636506989', '-0.0654856181992578', '-0.00567061055493425', '-0.00707277125301585', '-0.0194764882100115', '0.0412768238419757', '-0.0394933828740919', '-0.003303712578677', '0.00720651632920303', '153.0'], ['-0.0491050163910452', '-0.044641636506989', '0.160854917315731', '-0.0469850588797694', '-0.0290880169842339', '-0.019789636671801', '-0.0470824834561139', '0.0343088588777263', '0.028016506523264', '0.0113486232440377', '346.0'], ['-0.0273097856849279', '0.0506801187398187', '-0.0557853095343297', '0.0253152256886921', '-0.00707277125301585', '-0.0235474182132754', '0.052321737254237', '-0.0394933828740919', '-0.00514530798026311', '-0.0507829804784829', '63.0'], ['0.0780338293946392', '0.0506801187398187', '-0.0245287593917836', '-0.0423945646329306', '0.00668675732899544', '0.0528608064633705', '-0.0691723102806364', '0.0808042711813717', '-0.0371283460104736', '0.0569117993072195', '89.0'], ['0.0126481372762872', '-0.044641636506989', '-0.0363846922044735', '0.0425295791573734', '-0.0139525355440215', '0.0129343775852051', '-0.0268334755336351', '0.00515697338575809', '-0.0439854025655911', '0.00720651632920303', '50.0'], ['0.0417084448844436', '-0.044641636506989', '-0.00836157828357004', '-0.0573136709609782', '0.00806271018719657', '-0.0313761297580137', '0.151725957964588', '-0.076394503750001', '-0.0802365402489018', '-0.0176461251598052', '39.0'], ['0.0489735217864827', '-0.044641636506989', '-0.041773752573878', '0.104501251644626', '0.0355817673512192', '-0.0257394574458021', '0.177497422593197', '-0.076394503750001', '-0.0129079422541688', '0.0154907301588724', '103.0'], ['-0.0164121703318693', '0.0506801187398187', '0.127442743025423', '0.0976155102571536', '0.0163184273364034', '0.0174750302811533', '-0.0213110188275045', '0.0343088588777263', '0.0348641930961596', '0.00306440941436832', '308.0'], ['-0.0745327855481821', '0.0506801187398187', '-0.0773415510119477', '-0.0469850588797694', '-0.0469754041408486', '-0.0326287236051719', '0.00446044580110504', '-0.0394933828740919', '-0.072128454601956', '-0.0176461251598052', '116.0'], ['0.0344433679824045', '0.0506801187398187', '0.0282840322283806', '-0.0332135761048244', '-0.0455994512826475', '-0.00976888589453599', '-0.050764121260201', '-0.00259226199818282', '-0.0594726974107223', '-0.0217882320746399', '145.0'], ['-0.034574862586967', '0.0506801187398187', '-0.0256065714656645', '-0.0171468461892456', '0.00118294589619092', '-0.00287961973516629', '0.0081420836051921', '-0.015507654304751', '0.0148227108412663', '0.0403433716478807', '74.0'], ['-0.0527375548420648', '0.0506801187398187', '-0.0622521819776151', '0.0115437429137471', '-0.00844872411121698', '-0.0366996536084358', '0.122272855531891', '-0.076394503750001', '-0.0868289932162924', '0.00306440941436832', '45.0'], ['0.0598711371395414', '-0.044641636506989', '-0.000816893766403737', '-0.0848566365108683', '0.075484400239052', '0.0794784257154807', '0.00446044580110504', '0.0343088588777263', '0.0233748412798208', '0.0279170509033766', '115.0'], ['0.063503675590561', '0.0506801187398187', '0.088641508365711', '0.0700725447072635', '0.0204462859110067', '0.0375165318356834', '-0.050764121260201', '0.0712099797536354', '0.0293004132685869', '0.0734802269665584', '264.0'], ['0.00901559882526763', '-0.044641636506989', '-0.0320734439089499', '-0.0263278347173518', '0.0424615316422248', '-0.0103951828181151', '0.159089233572762', '-0.076394503750001', '-0.0119006848015081', '-0.0383566597339788', '87.0'], ['0.00538306037424807', '0.0506801187398187', '0.0304396563761424', '0.0838440274822086', '-0.0373437341334407', '-0.0473467013092799', '0.0155053592133662', '-0.0394933828740919', '0.00864028293306308', '0.0154907301588724', '202.0'], ['0.0380759064334241', '0.0506801187398187', '0.00888341489852436', '0.0425295791573734', '-0.0428475455662452', '-0.0210422305189592', '-0.0397192078479398', '-0.00259226199818282', '-0.0181182673078967', '0.00720651632920303', '127.0'], ['0.0126481372762872', '-0.044641636506989', '0.00672779075076256', '-0.0561660474078757', '-0.0758704141630723', '-0.0664487574784414', '-0.0213110188275045', '-0.0376483268302965', '-0.0181182673078967', '-0.09220404962683', '182.0'], ['0.0744012909436196', '0.0506801187398187', '-0.02021751109626', '0.0459724498511097', '0.0741084473808508', '0.0328193049088404', '-0.0360375700438527', '0.0712099797536354', '0.106354276741726', '0.036201264733046', '241.0'], ['0.0162806757273067', '-0.044641636506989', '-0.0245287593917836', '0.0356438377699009', '-0.00707277125301585', '-0.00319276819695581', '-0.0139477432193303', '-0.00259226199818282', '0.0155668445407018', '0.0154907301588724', '66.0'], ['-0.00551455497881059', '0.0506801187398187', '-0.0115950145052127', '0.0115437429137471', '-0.0222082526932283', '-0.0154055582067476', '-0.0213110188275045', '-0.00259226199818282', '0.0110081010458725', '0.0693381200517237', '94.0'], ['0.0126481372762872', '-0.044641636506989', '0.0261284080806188', '0.063186803319791', '0.125018703134293', '0.0916912157252725', '0.0633666506664982', '-0.00259226199818282', '0.057572856202426', '-0.0217882320746399', '283.0'], ['-0.034574862586967', '-0.044641636506989', '-0.0590187457559724', '0.00121513083253827', '-0.0538551684318543', '-0.078035250564654', '0.0670482884705852', '-0.076394503750001', '-0.02139368094036', '0.0154907301588724', '64.0'], ['0.0671362140415805', '0.0506801187398187', '-0.0363846922044735', '-0.0848566365108683', '-0.00707277125301585', '0.01966706951368', '-0.0544457590642881', '0.0343088588777263', '0.00114379737951254', '0.0320591578182113', '102.0'], ['0.0380759064334241', '0.0506801187398187', '-0.0245287593917836', '0.00465800152627453', '-0.0263361112678317', '-0.0263657543693812', '0.0155053592133662', '-0.0394933828740919', '-0.0159982677581387', '-0.0259303389894746', '200.0'], ['0.00901559882526763', '0.0506801187398187', '0.0185837235634525', '0.0390867084636372', '0.0176943801946045', '0.0105857641217836', '0.0191869970174533', '-0.00259226199818282', '0.0163049527999418', '-0.0176461251598052', '265.0'], ['-0.0926954778032799', '0.0506801187398187', '-0.0902752958985185', '-0.0573136709609782', '-0.0249601584096305', '-0.0304366843726451', '-0.00658446761115617', '-0.00259226199818282', '0.024052583226893', '0.00306440941436832', '94.0'], ['0.0707687524926', '-0.044641636506989', '-0.00512814206192736', '-0.00567061055493425', '0.0878679759628621', '0.102964560349696', '0.0118237214092792', '0.0343088588777263', '-0.0089440189577978', '0.0279170509033766', '230.0'], ['-0.0164121703318693', '-0.044641636506989', '-0.052551873312687', '-0.0332135761048244', '-0.0442234984244464', '-0.0363865051466462', '0.0191869970174533', '-0.0394933828740919', '-0.0683297436244215', '-0.0300724459043093', '181.0'], ['0.0417084448844436', '0.0506801187398187', '-0.0223731352440218', '0.0287580963824284', '-0.0662387441556644', '-0.0451546620767532', '-0.0618090346724622', '-0.00259226199818282', '0.00286377051894013', '-0.0549250873933176', '156.0'], ['0.0126481372762872', '-0.044641636506989', '-0.02021751109626', '-0.015999222636143', '0.0121905687618', '0.0212328118226277', '-0.0765355858888105', '0.108111100629544', '0.0598807230654812', '-0.0217882320746399', '233.0'], ['-0.0382074010379866', '-0.044641636506989', '-0.0547074974604488', '-0.0779708951233958', '-0.0332158755588373', '-0.0864902590329714', '0.140681044552327', '-0.076394503750001', '-0.0191970476139445', '-0.0052198044153011', '60.0'], ['0.0453409833354632', '-0.044641636506989', '-0.00620595413580824', '-0.015999222636143', '0.125018703134293', '0.125198101136752', '0.0191869970174533', '0.0343088588777263', '0.0324332257796019', '-0.0052198044153011', '219.0'], ['0.0707687524926', '0.0506801187398187', '-0.0169840748746173', '0.0218723549949558', '0.0438374845004259', '0.0563054395430553', '0.0375951860378887', '-0.00259226199818282', '-0.0702093127286876', '-0.0176461251598052', '80.0'], ['-0.0745327855481821', '0.0506801187398187', '0.0552293340754031', '-0.0400993174922969', '0.0534691545078339', '0.05317395492516', '-0.0434008456520269', '0.0712099797536354', '0.061237907519701', '-0.0342145528191441', '68.0'], ['0.0598711371395414', '0.0506801187398187', '0.0767855755530211', '0.0253152256886921', '0.00118294589619092', '0.0168487333575743', '-0.0544457590642881', '0.0343088588777263', '0.0299356483965325', '0.0444854785627154', '332.0'], ['0.0744012909436196', '-0.044641636506989', '0.0185837235634525', '0.063186803319791', '0.0617248716570406', '0.0428400556861055', '0.0081420836051921', '-0.00259226199818282', '0.0580391276638951', '-0.0590671943081523', '248.0'], ['0.00901559882526763', '-0.044641636506989', '-0.0223731352440218', '-0.0320659525517218', '-0.0497273098572509', '-0.0686407967109681', '0.0780932018828464', '-0.0708593356186146', '-0.0629129499162512', '-0.0383566597339788', '84.0'], ['-0.0709002470971626', '-0.044641636506989', '0.0929527566612346', '0.0126913664668496', '0.0204462859110067', '0.0425269072243159', '0.000778807997017968', '0.000359827671889909', '-0.0545441527110952', '-0.00107769750046639', '200.0'], ['0.0235457526293458', '0.0506801187398187', '-0.030995631835069', '-0.00567061055493425', '-0.0167044412604238', '0.0177881787429428', '-0.0323559322397657', '-0.00259226199818282', '-0.0740888714915354', '-0.0342145528191441', '55.0'], ['-0.0527375548420648', '0.0506801187398187', '0.0390621529671896', '-0.0400993174922969', '-0.00569681839481472', '-0.0129003705124313', '0.0118237214092792', '-0.0394933828740919', '0.0163049527999418', '0.00306440941436832', '85.0'], ['0.0671362140415805', '-0.044641636506989', '-0.0611743699037342', '-0.0400993174922969', '-0.0263361112678317', '-0.024486863598644', '0.0339135482338016', '-0.0394933828740919', '-0.0561575730950062', '-0.0590671943081523', '89.0'], ['0.00175052192322852', '-0.044641636506989', '-0.00836157828357004', '-0.0641994123484507', '-0.0387196869916418', '-0.024486863598644', '0.00446044580110504', '-0.0394933828740919', '-0.0646830224644503', '-0.0549250873933176', '31.0'], ['0.0235457526293458', '0.0506801187398187', '-0.0374625042783544', '-0.0469850588797694', '-0.0910058956032848', '-0.0755300628703378', '-0.0323559322397657', '-0.0394933828740919', '-0.0307512098645563', '-0.0135040182449705', '129.0'], ['0.0380759064334241', '0.0506801187398187', '-0.0137506386529745', '-0.015999222636143', '-0.0359677812752396', '-0.0219816759043277', '-0.0139477432193303', '-0.00259226199818282', '-0.0259524244351894', '-0.00107769750046639', '83.0'], ['0.0162806757273067', '-0.044641636506989', '0.0735521393313785', '-0.0412469410453994', '-0.00432086553661359', '-0.0135266674360104', '-0.0139477432193303', '-0.00111621716314646', '0.0428956878925287', '0.0444854785627154', '275.0'], ['-0.00188201652779104', '0.0506801187398187', '-0.0245287593917836', '0.0528581912385822', '0.0273260502020124', '0.0300009687527346', '0.0302319104297145', '-0.00259226199818282', '-0.02139368094036', '0.036201264733046', '65.0'], ['0.0126481372762872', '-0.044641636506989', '0.0336730925977851', '0.0333485905259811', '0.0300779559184146', '0.0271826325966288', '-0.0029028298070691', '0.00884708547334898', '0.0311929907028023', '0.0279170509033766', '198.0'], ['0.0744012909436196', '-0.044641636506989', '0.034750904671666', '0.0941726395634173', '0.0575970130824372', '0.0202933664372591', '0.0228686348215404', '-0.00259226199818282', '0.0738021469200488', '-0.0217882320746399', '236.0'], ['0.0417084448844436', '0.0506801187398187', '-0.0385403163522353', '0.0528581912385822', '0.0768603530972531', '0.116429944206646', '-0.0397192078479398', '0.0712099797536354', '-0.0225121719296605', '-0.0135040182449705', '253.0'], ['-0.00914709342983014', '0.0506801187398187', '-0.0396181284261162', '-0.0400993174922969', '-0.00844872411121698', '0.0162224364339952', '-0.0654906724765493', '0.0712099797536354', '0.0177634778671173', '-0.0673514081378217', '124.0'], ['0.00901559882526763', '0.0506801187398187', '-0.00189470584028465', '0.0218723549949558', '-0.0387196869916418', '-0.0248000120604336', '-0.00658446761115617', '-0.0394933828740919', '-0.0398095943643375', '-0.0135040182449705', '44.0'], ['0.0671362140415805', '0.0506801187398187', '-0.030995631835069', '0.00465800152627453', '0.0245741444856101', '0.0356376410649462', '-0.0286742944356786', '0.0343088588777263', '0.0233748412798208', '0.0817644407962278', '172.0'], ['0.00175052192322852', '-0.044641636506989', '-0.0460850008694016', '-0.0332135761048244', '-0.07311850844667', '-0.0814798836443389', '0.0449584616460628', '-0.0693832907835783', '-0.0611765950943345', '-0.0797777288823259', '114.0'], ['-0.00914709342983014', '0.0506801187398187', '0.00133873038135806', '-0.00222773986119799', '0.0796122588136553', '0.0700839718617947', '0.0339135482338016', '-0.00259226199818282', '0.0267142576335128', '0.0817644407962278', '142.0'], ['-0.00551455497881059', '-0.044641636506989', '0.0649296427403312', '0.0356438377699009', '-0.00156895982021134', '0.0149698425868371', '-0.0139477432193303', '0.000728838880648992', '-0.0181182673078967', '0.0320591578182113', '109.0'], ['0.096196521649737', '-0.044641636506989', '0.0401399650410705', '-0.0573136709609782', '0.0452134373586271', '0.0606895180081088', '-0.0213110188275045', '0.0361539149215217', '0.0125531528133893', '0.0237749439885419', '180.0'], ['-0.0745327855481821', '-0.044641636506989', '-0.0234509473179027', '-0.00567061055493425', '-0.0208322998350272', '-0.0141529643595894', '0.0155053592133662', '-0.0394933828740919', '-0.0384591123013538', '-0.0300724459043093', '144.0'], ['0.0598711371395414', '0.0506801187398187', '0.0530737099276413', '0.0528581912385822', '0.0328298616348169', '0.01966706951368', '-0.0102661054152432', '0.0343088588777263', '0.0552050380896167', '-0.00107769750046639', '163.0'], ['-0.0236772472339084', '-0.044641636506989', '0.0401399650410705', '-0.0125563519424068', '-0.00982467696941811', '-0.00100072896442909', '-0.0029028298070691', '-0.00259226199818282', '-0.0119006848015081', '-0.0383566597339788', '147.0'], ['0.00901559882526763', '-0.044641636506989', '-0.02021751109626', '-0.0538708002672419', '0.0314539087766158', '0.0206065148990486', '0.056003375058324', '-0.0394933828740919', '-0.0109044358473771', '-0.00107769750046639', '97.0'], ['0.0162806757273067', '0.0506801187398187', '0.0142724752679289', '0.00121513083253827', '0.00118294589619092', '-0.0213553789807487', '-0.0323559322397657', '0.0343088588777263', '0.0749683360277342', '0.0403433716478807', '220.0'], ['0.0199132141783263', '-0.044641636506989', '-0.0342290680567117', '0.055153438482502', '0.0672286830898452', '0.0741549018650587', '-0.00658446761115617', '0.0328328140426899', '0.0247253233428045', '0.0693381200517237', '190.0'], ['0.0889314447476978', '-0.044641636506989', '0.00672779075076256', '0.0253152256886921', '0.0300779559184146', '0.00870687335104641', '0.0633666506664982', '-0.0394933828740919', '0.00943640914607987', '0.0320591578182113', '109.0'], ['0.0199132141783263', '-0.044641636506989', '0.00457216660300077', '0.0459724498511097', '-0.0180803941186249', '-0.0545491159304391', '0.0633666506664982', '-0.0394933828740919', '0.0286607203138089', '0.0610539062220542', '191.0'], ['-0.0236772472339084', '-0.044641636506989', '0.0304396563761424', '-0.00567061055493425', '0.0823641645300576', '0.092004364187062', '-0.0176293810234174', '0.0712099797536354', '0.0330470723549341', '0.00306440941436832', '122.0'], ['0.096196521649737', '-0.044641636506989', '0.0519958978537604', '0.0792535333386559', '0.054845107366035', '0.0365770864503148', '-0.0765355858888105', '0.141322109417863', '0.098646374304928', '0.0610539062220542', '230.0'], ['0.0235457526293458', '0.0506801187398187', '0.0616962065186885', '0.0620391798699746', '0.0245741444856101', '-0.0360733566848567', '-0.0912621371051588', '0.155344535350708', '0.133395733837469', '0.0817644407962278', '242.0'], ['0.0707687524926', '0.0506801187398187', '-0.00728376620968916', '0.0494153205448459', '0.0603489187988395', '-0.00444536204411395', '-0.0544457590642881', '0.108111100629544', '0.129019411600168', '0.0569117993072195', '248.0'], ['0.030810829531385', '-0.044641636506989', '0.00564997867688165', '0.0115437429137471', '0.0782363059554542', '0.077912683406533', '-0.0434008456520269', '0.108111100629544', '0.0660482061630984', '0.0196328370737072', '249.0'], ['-0.00188201652779104', '-0.044641636506989', '0.0541515220015222', '-0.0664946594890845', '0.0727324945226497', '0.0566185880048449', '-0.0434008456520269', '0.0848633944777217', '0.0844952822124031', '0.0486275854775501', '192.0'], ['0.0453409833354632', '0.0506801187398187', '-0.00836157828357004', '-0.0332135761048244', '-0.00707277125301585', '0.00119131026809764', '-0.0397192078479398', '0.0343088588777263', '0.0299356483965325', '0.0279170509033766', '131.0'], ['0.0744012909436196', '-0.044641636506989', '0.114508998138853', '0.0287580963824284', '0.0245741444856101', '0.0249905933641021', '0.0191869970174533', '-0.00259226199818282', '-0.000609254186102297', '-0.0052198044153011', '237.0'], ['-0.0382074010379866', '-0.044641636506989', '0.067085266888093', '-0.0607565416547144', '-0.0290880169842339', '-0.0232342697514859', '-0.0102661054152432', '-0.00259226199818282', '-0.00149858682029207', '0.0196328370737072', '78.0'], ['-0.0127796318808497', '0.0506801187398187', '-0.0557853095343297', '-0.00222773986119799', '-0.0277120641260328', '-0.029184090525487', '0.0191869970174533', '-0.0394933828740919', '-0.0170521046047435', '0.0444854785627154', '135.0'], ['0.00901559882526763', '0.0506801187398187', '0.0304396563761424', '0.0425295791573734', '-0.00294491267841247', '0.0368902349121043', '-0.0654906724765493', '0.0712099797536354', '-0.0236445575721341', '0.0154907301588724', '244.0'], ['0.0816663678456587', '0.0506801187398187', '-0.0256065714656645', '-0.0366564467985606', '-0.0703666027302678', '-0.0464072559239113', '-0.0397192078479398', '-0.00259226199818282', '-0.0411803851880079', '-0.0052198044153011', '199.0'], ['0.030810829531385', '-0.044641636506989', '0.104808689473925', '0.076958286094736', '-0.0112006298276192', '-0.0113346282034837', '-0.0581273968683752', '0.0343088588777263', '0.0571041874478439', '0.036201264733046', '270.0'], ['0.0271782910803654', '0.0506801187398187', '-0.00620595413580824', '0.0287580963824284', '-0.0167044412604238', '-0.00162702588800815', '-0.0581273968683752', '0.0343088588777263', '0.0293004132685869', '0.0320591578182113', '164.0'], ['-0.0600026317441039', '0.0506801187398187', '-0.0471628129432825', '-0.0228849640236156', '-0.071742555588469', '-0.0576806005483345', '-0.00658446761115617', '-0.0394933828740919', '-0.0629129499162512', '-0.0549250873933176', '72.0'], ['0.00538306037424807', '-0.044641636506989', '-0.0482406250171634', '-0.0125563519424068', '0.00118294589619092', '-0.00663740127664067', '0.0633666506664982', '-0.0394933828740919', '-0.0514005352605825', '-0.0590671943081523', '96.0'], ['-0.0200447087828888', '-0.044641636506989', '0.0854080721440683', '-0.0366564467985606', '0.0919958345374655', '0.0894991764927457', '-0.0618090346724622', '0.145012221505454', '0.0809479135112756', '0.0527696923923848', '306.0'], ['0.0199132141783263', '0.0506801187398187', '-0.0126728265790937', '0.0700725447072635', '-0.0112006298276192', '0.00714113104209875', '-0.0397192078479398', '0.0343088588777263', '0.00538436996854573', '0.00306440941436832', '91.0'], ['-0.0636351701951234', '-0.044641636506989', '-0.0331512559828308', '-0.0332135761048244', '0.00118294589619092', '0.0240511479787335', '-0.0249926566315915', '-0.00259226199818282', '-0.0225121719296605', '-0.0590671943081523', '214.0'], ['0.0271782910803654', '-0.044641636506989', '-0.00728376620968916', '-0.0504279295735057', '0.075484400239052', '0.0566185880048449', '0.0339135482338016', '-0.00259226199818282', '0.0434431722527813', '0.0154907301588724', '95.0'], ['-0.0164121703318693', '-0.044641636506989', '-0.0137506386529745', '0.132044217194516', '-0.00982467696941811', '-0.00381906512053488', '0.0191869970174533', '-0.0394933828740919', '-0.0358167281015492', '-0.0300724459043093', '216.0'], ['0.030810829531385', '0.0506801187398187', '0.0595405823709267', '0.0563010619323185', '-0.0222082526932283', '0.00119131026809764', '-0.0323559322397657', '-0.00259226199818282', '-0.0247911874324607', '-0.0176461251598052', '263.0'], ['0.0562385986885218', '0.0506801187398187', '0.0218171597850952', '0.0563010619323185', '-0.00707277125301585', '0.0181013272047324', '-0.0323559322397657', '-0.00259226199818282', '-0.0236445575721341', '0.0237749439885419', '178.0'], ['-0.0200447087828888', '-0.044641636506989', '0.0185837235634525', '0.090729768869681', '0.00393485161259318', '0.00870687335104641', '0.0375951860378887', '-0.0394933828740919', '-0.0578000656756125', '0.00720651632920303', '113.0'], ['-0.107225631607358', '-0.044641636506989', '-0.0115950145052127', '-0.0400993174922969', '0.0493412959332305', '0.0644472995495832', '-0.0139477432193303', '0.0343088588777263', '0.00702686254915195', '-0.0300724459043093', '200.0'], ['0.0816663678456587', '0.0506801187398187', '-0.00297251791416553', '-0.0332135761048244', '0.0424615316422248', '0.057871181852003', '-0.0102661054152432', '0.0343088588777263', '-0.000609254186102297', '-0.00107769750046639', '139.0'], ['0.00538306037424807', '0.0506801187398187', '0.0175059114895716', '0.0322009670761646', '0.127770608850695', '0.127390140369279', '-0.0213110188275045', '0.0712099797536354', '0.062575181458056', '0.0154907301588724', '139.0'], ['0.0380759064334241', '0.0506801187398187', '-0.0299178197611881', '-0.0745280244296595', '-0.0125765826858204', '-0.0125872220506418', '0.00446044580110504', '-0.00259226199818282', '0.00371173823343597', '-0.0300724459043093', '88.0'], ['0.030810829531385', '-0.044641636506989', '-0.02021751109626', '-0.00567061055493425', '-0.00432086553661359', '-0.0294972389872765', '0.0780932018828464', '-0.0394933828740919', '-0.0109044358473771', '-0.00107769750046639', '148.0'], ['0.00175052192322852', '0.0506801187398187', '-0.0579409336820915', '-0.0435421881860331', '-0.0965097070360893', '-0.0470335528474903', '-0.098625412713333', '0.0343088588777263', '-0.0611765950943345', '-0.0714935150526564', '88.0'], ['-0.0273097856849279', '0.0506801187398187', '0.0606183944448076', '0.107944122338362', '0.0121905687618', '-0.0175975974392743', '-0.0029028298070691', '-0.00259226199818282', '0.0702112981933102', '0.135611830689079', '243.0'], ['-0.0854304009012408', '0.0506801187398187', '-0.0406959404999971', '-0.0332135761048244', '-0.0813742255958769', '-0.0695802420963367', '-0.00658446761115617', '-0.0394933828740919', '-0.0578000656756125', '-0.0424987666488135', '71.0'], ['0.0126481372762872', '0.0506801187398187', '-0.0719524906425432', '-0.0469850588797694', '-0.051103262715452', '-0.0971373067338155', '0.118591217727804', '-0.076394503750001', '-0.0202887477516296', '-0.0383566597339788', '77.0'], ['-0.0527375548420648', '-0.044641636506989', '-0.0557853095343297', '-0.0366564467985606', '0.0892439288210632', '-0.00319276819695581', '0.0081420836051921', '0.0343088588777263', '0.132372649338676', '0.00306440941436832', '109.0'], ['-0.0236772472339084', '0.0506801187398187', '0.045529025410475', '0.0218723549949558', '0.10988322169408', '0.0888728795691667', '0.000778807997017968', '0.0343088588777263', '0.0741925366900307', '0.0610539062220542', '272.0'], ['-0.0745327855481821', '0.0506801187398187', '-0.00943939035745095', '0.0149866136074833', '-0.0373437341334407', '-0.0216685274425382', '-0.0139477432193303', '-0.00259226199818282', '-0.0332487872476258', '0.0113486232440377', '60.0'], ['-0.00551455497881059', '0.0506801187398187', '-0.0331512559828308', '-0.015999222636143', '0.00806271018719657', '0.0162224364339952', '0.0155053592133662', '-0.00259226199818282', '-0.0283202425479987', '-0.0756356219674911', '54.0'], ['-0.0600026317441039', '0.0506801187398187', '0.0498402737059986', '0.0184294843012196', '-0.0167044412604238', '-0.0301235359108556', '-0.0176293810234174', '-0.00259226199818282', '0.049768659920749', '-0.0590671943081523', '221.0'], ['-0.0200447087828888', '-0.044641636506989', '-0.084886235529114', '-0.0263278347173518', '-0.0359677812752396', '-0.0341944659141195', '0.0412768238419757', '-0.0516707527631419', '-0.0823814832581028', '-0.0466408735636482', '90.0'], ['0.0380759064334241', '0.0506801187398187', '0.00564997867688165', '0.0322009670761646', '0.00668675732899544', '0.0174750302811533', '-0.0249926566315915', '0.0343088588777263', '0.0148227108412663', '0.0610539062220542', '311.0'], ['0.0162806757273067', '-0.044641636506989', '0.0207393477112143', '0.0218723549949558', '-0.0139525355440215', '-0.0132135189742209', '-0.00658446761115617', '-0.00259226199818282', '0.0133159679089277', '0.0403433716478807', '281.0'], ['0.0417084448844436', '-0.044641636506989', '-0.00728376620968916', '0.0287580963824284', '-0.0428475455662452', '-0.0482861466946485', '0.052321737254237', '-0.076394503750001', '-0.072128454601956', '0.0237749439885419', '182.0'], ['0.0199132141783263', '0.0506801187398187', '0.104808689473925', '0.0700725447072635', '-0.0359677812752396', '-0.0266789028311707', '-0.0249926566315915', '-0.00259226199818282', '0.00371173823343597', '0.0403433716478807', '321.0'], ['-0.0491050163910452', '0.0506801187398187', '-0.0245287593917836', '6.75072794357462e-05', '-0.0469754041408486', '-0.0282446451401184', '-0.0654906724765493', '0.0284046795375808', '0.0191990330785671', '0.0113486232440377', '58.0'], ['0.00175052192322852', '0.0506801187398187', '-0.00620595413580824', '-0.0194420933298793', '-0.00982467696941811', '0.00494909180957202', '-0.0397192078479398', '0.0343088588777263', '0.0148227108412663', '0.0983328684555666', '262.0'], ['0.0344433679824045', '-0.044641636506989', '-0.0385403163522353', '-0.0125563519424068', '0.0094386630453977', '0.00526224027136155', '-0.00658446761115617', '-0.00259226199818282', '0.0311929907028023', '0.0983328684555666', '206.0'], ['-0.0454724779400257', '0.0506801187398187', '0.137143051690352', '-0.015999222636143', '0.0410855787840237', '0.0318798595234718', '-0.0434008456520269', '0.0712099797536354', '0.0710215779459822', '0.0486275854775501', '233.0'], ['-0.00914709342983014', '0.0506801187398187', '0.17055522598066', '0.0149866136074833', '0.0300779559184146', '0.033758750294209', '-0.0213110188275045', '0.0343088588777263', '0.0336568129023847', '0.0320591578182113', '242.0'], ['-0.0164121703318693', '0.0506801187398187', '0.00241654245523897', '0.0149866136074833', '0.0218222387692079', '-0.0100820343563255', '-0.0249926566315915', '0.0343088588777263', '0.085533121187439', '0.0817644407962278', '123.0'], ['-0.00914709342983014', '-0.044641636506989', '0.0379843408933087', '-0.0400993174922969', '-0.0249601584096305', '-0.00381906512053488', '-0.0434008456520269', '0.0158582984397717', '-0.00514530798026311', '0.0279170509033766', '167.0'], ['0.0199132141783263', '-0.044641636506989', '-0.0579409336820915', '-0.0573136709609782', '-0.00156895982021134', '-0.0125872220506418', '0.0744115640787594', '-0.0394933828740919', '-0.0611765950943345', '-0.0756356219674911', '63.0'], ['0.0526060602375023', '0.0506801187398187', '-0.00943939035745095', '0.0494153205448459', '0.0507172487914316', '-0.019163339748222', '-0.0139477432193303', '0.0343088588777263', '0.119343994203787', '-0.0176461251598052', '197.0'], ['-0.0273097856849279', '0.0506801187398187', '-0.0234509473179027', '-0.015999222636143', '0.0135665216200011', '0.0127778033543103', '0.0265502726256275', '-0.00259226199818282', '-0.0109044358473771', '-0.0217882320746399', '71.0'], ['-0.0745327855481821', '-0.044641636506989', '-0.0105172024313319', '-0.00567061055493425', '-0.0662387441556644', '-0.0570543036247554', '-0.0029028298070691', '-0.0394933828740919', '-0.0425721049227942', '-0.00107769750046639', '168.0'], ['-0.107225631607358', '-0.044641636506989', '-0.0342290680567117', '-0.067642283042187', '-0.0634868384392622', '-0.0705196874817053', '0.0081420836051921', '-0.0394933828740919', '-0.000609254186102297', '-0.0797777288823259', '140.0'], ['0.0453409833354632', '0.0506801187398187', '-0.00297251791416553', '0.107944122338362', '0.0355817673512192', '0.0224854056697859', '0.0265502726256275', '-0.00259226199818282', '0.028016506523264', '0.0196328370737072', '217.0'], ['-0.00188201652779104', '-0.044641636506989', '0.068163078961974', '-0.00567061055493425', '0.119514891701488', '0.130208476525385', '-0.0249926566315915', '0.0867084505215172', '0.0461323310394148', '-0.00107769750046639', '121.0'], ['0.0199132141783263', '0.0506801187398187', '0.00996122697240527', '0.0184294843012196', '0.0149424744782022', '0.0447189464568426', '-0.0618090346724622', '0.0712099797536354', '0.00943640914607987', '-0.063209301222987', '235.0'], ['0.0162806757273067', '0.0506801187398187', '0.00241654245523897', '-0.00567061055493425', '-0.00569681839481472', '0.0108989125835731', '-0.050764121260201', '0.0343088588777263', '0.0226920225667445', '-0.0383566597339788', '245.0'], ['-0.00188201652779104', '-0.044641636506989', '-0.0385403163522353', '0.0218723549949558', '-0.108893282759899', '-0.115613065979398', '0.0228686348215404', '-0.076394503750001', '-0.0468794828442166', '0.0237749439885419', '40.0'], ['0.0162806757273067', '-0.044641636506989', '0.0261284080806188', '0.0585963091762383', '-0.0607349327228599', '-0.0442152166913845', '-0.0139477432193303', '-0.0339582147427055', '-0.0514005352605825', '-0.0259303389894746', '52.0'], ['-0.0709002470971626', '0.0506801187398187', '-0.0891974838246376', '-0.0745280244296595', '-0.0428475455662452', '-0.0257394574458021', '-0.0323559322397657', '-0.00259226199818282', '-0.0129079422541688', '-0.0549250873933176', '104.0'], ['0.0489735217864827', '-0.044641636506989', '0.0606183944448076', '-0.0228849640236156', '-0.0235842055514294', '-0.072711726714232', '-0.0434008456520269', '-0.00259226199818282', '0.104137611358979', '0.036201264733046', '132.0'], ['0.00538306037424807', '0.0506801187398187', '-0.0288400076873072', '-0.00911348124867051', '-0.0318399227006362', '-0.0288709420636975', '0.0081420836051921', '-0.0394933828740919', '-0.0181182673078967', '0.00720651632920303', '88.0'], ['0.0344433679824045', '0.0506801187398187', '-0.0299178197611881', '0.00465800152627453', '0.0933717873956666', '0.0869939887984295', '0.0339135482338016', '-0.00259226199818282', '0.024052583226893', '-0.0383566597339788', '69.0'], ['0.0235457526293458', '0.0506801187398187', '-0.019139699022379', '0.0494153205448459', '-0.0634868384392622', '-0.0611252336280193', '0.00446044580110504', '-0.0394933828740919', '-0.0259524244351894', '-0.0135040182449705', '219.0'], ['0.0199132141783263', '-0.044641636506989', '-0.0406959404999971', '-0.015999222636143', '-0.00844872411121698', '-0.0175975974392743', '0.052321737254237', '-0.0394933828740919', '-0.0307512098645563', '0.00306440941436832', '72.0'], ['-0.0454724779400257', '-0.044641636506989', '0.0153502873418098', '-0.0745280244296595', '-0.0497273098572509', '-0.0172844489774848', '-0.0286742944356786', '-0.00259226199818282', '-0.104364820832166', '-0.0756356219674911', '201.0'], ['0.0526060602375023', '0.0506801187398187', '-0.0245287593917836', '0.0563010619323185', '-0.00707277125301585', '-0.005071658967693', '-0.0213110188275045', '-0.00259226199818282', '0.0267142576335128', '-0.0383566597339788', '110.0'], ['-0.00551455497881059', '0.0506801187398187', '0.00133873038135806', '-0.0848566365108683', '-0.0112006298276192', '-0.0166581520539057', '0.0486400994501499', '-0.0394933828740919', '-0.0411803851880079', '-0.0880619427119953', '51.0'], ['0.00901559882526763', '0.0506801187398187', '0.0692408910358548', '0.0597439326260547', '0.0176943801946045', '-0.0232342697514859', '-0.0470824834561139', '0.0343088588777263', '0.103292264911524', '0.0734802269665584', '277.0'], ['-0.0236772472339084', '-0.044641636506989', '-0.0697968664947814', '-0.0641994123484507', '-0.0593589798646588', '-0.0504781859271752', '0.0191869970174533', '-0.0394933828740919', '-0.0891368600793477', '-0.0507829804784829', '63.0'], ['-0.0418399394890061', '0.0506801187398187', '-0.0299178197611881', '-0.00222773986119799', '0.0218222387692079', '0.0365770864503148', '0.0118237214092792', '-0.00259226199818282', '-0.0411803851880079', '0.065196013136889', '118.0'], ['-0.0745327855481821', '-0.044641636506989', '-0.0460850008694016', '-0.0435421881860331', '-0.0290880169842339', '-0.0232342697514859', '0.0155053592133662', '-0.0394933828740919', '-0.0398095943643375', '-0.0217882320746399', '69.0'], ['0.0344433679824045', '-0.044641636506989', '0.0185837235634525', '0.0563010619323185', '0.0121905687618', '-0.0545491159304391', '-0.0691723102806364', '0.0712099797536354', '0.130080609521753', '0.00720651632920303', '273.0'], ['-0.0600026317441039', '-0.044641636506989', '0.00133873038135806', '-0.0297707054110881', '-0.00707277125301585', '-0.0216685274425382', '0.0118237214092792', '-0.00259226199818282', '0.0318152175007986', '-0.0549250873933176', '258.0'], ['-0.0854304009012408', '0.0506801187398187', '-0.030995631835069', '-0.0228849640236156', '-0.0634868384392622', '-0.0542359674686496', '0.0191869970174533', '-0.0394933828740919', '-0.096433222891784', '-0.0342145528191441', '43.0'], ['0.0526060602375023', '-0.044641636506989', '-0.00405032998804645', '-0.0309183289641906', '-0.0469754041408486', '-0.0583068974719135', '-0.0139477432193303', '-0.0258399681500055', '0.0360557900898319', '0.0237749439885419', '198.0'], ['0.0126481372762872', '-0.044641636506989', '0.0153502873418098', '-0.0332135761048244', '0.0410855787840237', '0.0321930079852613', '-0.0029028298070691', '-0.00259226199818282', '0.0450661683362615', '-0.0673514081378217', '242.0'], ['0.0598711371395414', '0.0506801187398187', '0.0228949718589761', '0.0494153205448459', '0.0163184273364034', '0.0118383579689417', '-0.0139477432193303', '-0.00259226199818282', '0.0395398780720242', '0.0196328370737072', '232.0'], ['-0.0236772472339084', '-0.044641636506989', '0.045529025410475', '0.090729768869681', '-0.0180803941186249', '-0.0354470597612776', '0.0707299262746723', '-0.0394933828740919', '-0.0345237153303495', '-0.0093619113301358', '175.0'], ['0.0162806757273067', '-0.044641636506989', '-0.0450071887955207', '-0.0573136709609782', '-0.0345918284170385', '-0.05392281900686', '0.0744115640787594', '-0.076394503750001', '-0.0425721049227942', '0.0403433716478807', '93.0'], ['0.110726675453815', '0.0506801187398187', '-0.0331512559828308', '-0.0228849640236156', '-0.00432086553661359', '0.0202933664372591', '-0.0618090346724622', '0.0712099797536354', '0.0155668445407018', '0.0444854785627154', '168.0'], ['-0.0200447087828888', '-0.044641636506989', '0.0972640049567582', '-0.00567061055493425', '-0.00569681839481472', '-0.0238605666750649', '-0.0213110188275045', '-0.00259226199818282', '0.0616858488238662', '0.0403433716478807', '275.0'], ['-0.0164121703318693', '-0.044641636506989', '0.0541515220015222', '0.0700725447072635', '-0.0332158755588373', '-0.0279314966783289', '0.0081420836051921', '-0.0394933828740919', '-0.0271286455543265', '-0.0093619113301358', '293.0'], ['0.0489735217864827', '0.0506801187398187', '0.1231314947299', '0.0838440274822086', '-0.104765424185296', '-0.10089508827529', '-0.0691723102806364', '-0.00259226199818282', '0.0366457977933988', '-0.0300724459043093', '281.0'], ['-0.0563700932930843', '-0.044641636506989', '-0.0805749872335904', '-0.0848566365108683', '-0.0373437341334407', '-0.0370128020702253', '0.0339135482338016', '-0.0394933828740919', '-0.0561575730950062', '-0.137767225690012', '72.0'], ['0.0271782910803654', '-0.044641636506989', '0.0929527566612346', '-0.0527231767141394', '0.00806271018719657', '0.0397085710682101', '-0.0286742944356786', '0.021024455362399', '-0.0483617248028919', '0.0196328370737072', '140.0'], ['0.063503675590561', '-0.044641636506989', '-0.0503962491649252', '0.107944122338362', '0.0314539087766158', '0.0193539210518905', '-0.0176293810234174', '0.0236075338237126', '0.0580391276638951', '0.0403433716478807', '189.0'], ['-0.0527375548420648', '0.0506801187398187', '-0.0115950145052127', '0.0563010619323185', '0.0562210602242361', '0.0729023080179005', '-0.0397192078479398', '0.0712099797536354', '0.0305664873984148', '-0.0052198044153011', '181.0'], ['-0.00914709342983014', '0.0506801187398187', '-0.0277621956134263', '0.0081008722200108', '0.0479653430750293', '0.0372033833738938', '-0.0286742944356786', '0.0343088588777263', '0.0660482061630984', '-0.0424987666488135', '209.0'], ['0.00538306037424807', '-0.044641636506989', '0.0584627702970458', '-0.0435421881860331', '-0.07311850844667', '-0.0723985782524425', '0.0191869970174533', '-0.076394503750001', '-0.0514005352605825', '-0.0259303389894746', '136.0'], ['0.0744012909436196', '-0.044641636506989', '0.0854080721440683', '0.063186803319791', '0.0149424744782022', '0.0130909518160999', '0.0155053592133662', '-0.00259226199818282', '0.0062093156165054', '0.0859065477110625', '261.0'], ['-0.0527375548420648', '-0.044641636506989', '-0.000816893766403737', '-0.0263278347173518', '0.0108146159035988', '0.00714113104209875', '0.0486400994501499', '-0.0394933828740919', '-0.0358167281015492', '0.0196328370737072', '113.0'], ['0.0816663678456587', '0.0506801187398187', '0.00672779075076256', '-0.00452298700183173', '0.10988322169408', '0.117056241130225', '-0.0323559322397657', '0.0918746074441444', '0.0547240033481791', '0.00720651632920303', '131.0'], ['-0.00551455497881059', '-0.044641636506989', '0.00888341489852436', '-0.0504279295735057', '0.0259500973438113', '0.0472241341511589', '-0.0434008456520269', '0.0712099797536354', '0.0148227108412663', '0.00306440941436832', '174.0'], ['-0.0273097856849279', '-0.044641636506989', '0.0800190117746638', '0.09876313370697', '-0.00294491267841247', '0.0181013272047324', '-0.0176293810234174', '0.00331191734196264', '-0.0295276227417736', '0.036201264733046', '257.0'], ['-0.0527375548420648', '-0.044641636506989', '0.0713965151836166', '-0.0745280244296595', '-0.0153284884022226', '-0.00131387742621863', '0.00446044580110504', '-0.0214118336448964', '-0.0468794828442166', '0.00306440941436832', '55.0'], ['0.00901559882526763', '-0.044641636506989', '-0.0245287593917836', '-0.0263278347173518', '0.0988755988284711', '0.0941964034195887', '0.0707299262746723', '-0.00259226199818282', '-0.02139368094036', '0.00720651632920303', '84.0'], ['-0.0200447087828888', '-0.044641636506989', '-0.0547074974604488', '-0.0538708002672419', '-0.0662387441556644', '-0.0573674520865449', '0.0118237214092792', '-0.0394933828740919', '-0.0740888714915354', '-0.0052198044153011', '42.0'], ['0.0235457526293458', '-0.044641636506989', '-0.0363846922044735', '6.75072794357462e-05', '0.00118294589619092', '0.0346981956795776', '-0.0434008456520269', '0.0343088588777263', '-0.0332487872476258', '0.0610539062220542', '146.0'], ['0.0380759064334241', '0.0506801187398187', '0.0164280994156907', '0.0218723549949558', '0.0397096259258226', '0.0450320949186321', '-0.0434008456520269', '0.0712099797536354', '0.049768659920749', '0.0154907301588724', '212.0'], ['-0.0781653239992017', '0.0506801187398187', '0.077863387626902', '0.0528581912385822', '0.0782363059554542', '0.0644472995495832', '0.0265502726256275', '-0.00259226199818282', '0.0406722637144977', '-0.0093619113301358', '233.0'], ['0.00901559882526763', '0.0506801187398187', '-0.0396181284261162', '0.0287580963824284', '0.0383336730676214', '0.0735286049414796', '-0.0728539480847234', '0.108111100629544', '0.0155668445407018', '-0.0466408735636482', '91.0'], ['0.00175052192322852', '0.0506801187398187', '0.0110390390462862', '-0.0194420933298793', '-0.0167044412604238', '-0.00381906512053488', '-0.0470824834561139', '0.0343088588777263', '0.024052583226893', '0.0237749439885419', '111.0'], ['-0.0781653239992017', '-0.044641636506989', '-0.0406959404999971', '-0.081413765817132', '-0.100637565610693', '-0.112794729823292', '0.0228686348215404', '-0.076394503750001', '-0.0202887477516296', '-0.0507829804784829', '152.0'], ['0.030810829531385', '0.0506801187398187', '-0.0342290680567117', '0.0436772026071898', '0.0575970130824372', '0.0688313780146366', '-0.0323559322397657', '0.057556565029549', '0.0354619386607697', '0.0859065477110625', '120.0'], ['-0.034574862586967', '0.0506801187398187', '0.00564997867688165', '-0.00567061055493425', '-0.07311850844667', '-0.062690975936967', '-0.00658446761115617', '-0.0394933828740919', '-0.045420957777041', '0.0320591578182113', '67.0'], ['0.0489735217864827', '0.0506801187398187', '0.088641508365711', '0.0872868981759448', '0.0355817673512192', '0.0215459602844172', '-0.0249926566315915', '0.0343088588777263', '0.0660482061630984', '0.131469723774244', '310.0'], ['-0.0418399394890061', '-0.044641636506989', '-0.0331512559828308', '-0.0228849640236156', '0.0465893902168282', '0.0415874618389473', '0.056003375058324', '-0.0247329345237283', '-0.0259524244351894', '-0.0383566597339788', '94.0'], ['-0.00914709342983014', '-0.044641636506989', '-0.0568631216082106', '-0.0504279295735057', '0.0218222387692079', '0.0453452433804217', '-0.0286742944356786', '0.0343088588777263', '-0.00991895736315477', '-0.0176461251598052', '183.0'], ['0.0707687524926', '0.0506801187398187', '-0.030995631835069', '0.0218723549949558', '-0.0373437341334407', '-0.0470335528474903', '0.0339135482338016', '-0.0394933828740919', '-0.0149564750249113', '-0.00107769750046639', '66.0'], ['0.00901559882526763', '-0.044641636506989', '0.0552293340754031', '-0.00567061055493425', '0.0575970130824372', '0.0447189464568426', '-0.0029028298070691', '0.0232385226149535', '0.0556835477026737', '0.106617082285236', '173.0'], ['-0.0273097856849279', '-0.044641636506989', '-0.0600965578298533', '-0.0297707054110881', '0.0465893902168282', '0.0199802179754696', '0.122272855531891', '-0.0394933828740919', '-0.0514005352605825', '-0.0093619113301358', '72.0'], ['0.0162806757273067', '-0.044641636506989', '0.00133873038135806', '0.0081008722200108', '0.00531080447079431', '0.0108989125835731', '0.0302319104297145', '-0.0394933828740919', '-0.045420957777041', '0.0320591578182113', '49.0'], ['-0.0127796318808497', '-0.044641636506989', '-0.0234509473179027', '-0.0400993174922969', '-0.0167044412604238', '0.0046359433477825', '-0.0176293810234174', '-0.00259226199818282', '-0.0384591123013538', '-0.0383566597339788', '64.0'], ['-0.0563700932930843', '-0.044641636506989', '-0.074108114790305', '-0.0504279295735057', '-0.0249601584096305', '-0.0470335528474903', '0.0928197530991947', '-0.076394503750001', '-0.0611765950943345', '-0.0466408735636482', '48.0'], ['0.0417084448844436', '0.0506801187398187', '0.0196615356373334', '0.0597439326260547', '-0.00569681839481472', '-0.00256647127337676', '-0.0286742944356786', '-0.00259226199818282', '0.0311929907028023', '0.00720651632920303', '178.0'], ['-0.00551455497881059', '0.0506801187398187', '-0.0159062628007364', '-0.067642283042187', '0.0493412959332305', '0.0791652772536912', '-0.0286742944356786', '0.0343088588777263', '-0.0181182673078967', '0.0444854785627154', '104.0'], ['0.0417084448844436', '0.0506801187398187', '-0.0159062628007364', '0.0172818607481171', '-0.0373437341334407', '-0.0138398158977999', '-0.0249926566315915', '-0.0110795197996419', '-0.0468794828442166', '0.0154907301588724', '132.0'], ['-0.0454724779400257', '-0.044641636506989', '0.0390621529671896', '0.00121513083253827', '0.0163184273364034', '0.0152829910486266', '-0.0286742944356786', '0.0265596234937854', '0.0445283740214053', '-0.0259303389894746', '220.0'], ['-0.0454724779400257', '-0.044641636506989', '-0.0730303027164241', '-0.081413765817132', '0.0837401173882587', '0.0278089295202079', '0.17381578478911', '-0.0394933828740919', '-0.00421985970694603', '0.00306440941436832', '57.0']]\n"
          ],
          "name": "stdout"
        }
      ]
    },
    {
      "cell_type": "code",
      "metadata": {
        "id": "7DGw1uuwRelf"
      },
      "source": [
        "#Turning into Numpy Array\n",
        "import numpy as np\n",
        "\n",
        "for i in range(0,len(wanted_lines)):\n",
        "  for j in range(0,len(wanted_lines[0])):\n",
        "    wanted_lines[i][j] = float(wanted_lines[i][j])"
      ],
      "execution_count": 51,
      "outputs": []
    },
    {
      "cell_type": "code",
      "metadata": {
        "colab": {
          "base_uri": "https://localhost:8080/"
        },
        "id": "AHxZjhiyRlJ2",
        "outputId": "e62a0681-67f0-4df2-9b73-1ae3440b7ad2"
      },
      "source": [
        "print(np.array(wanted_lines))"
      ],
      "execution_count": 12,
      "outputs": [
        {
          "output_type": "stream",
          "text": [
            "[[ 3.80759064e-02  5.06801187e-02  6.16962065e-02 ...  1.99084209e-02\n",
            "  -1.76461252e-02  1.51000000e+02]\n",
            " [-1.88201653e-03 -4.46416365e-02 -5.14740612e-02 ... -6.83297436e-02\n",
            "  -9.22040496e-02  7.50000000e+01]\n",
            " [ 8.52989063e-02  5.06801187e-02  4.44512133e-02 ...  2.86377052e-03\n",
            "  -2.59303390e-02  1.41000000e+02]\n",
            " ...\n",
            " [ 4.17084449e-02  5.06801187e-02 -1.59062628e-02 ... -4.68794828e-02\n",
            "   1.54907302e-02  1.32000000e+02]\n",
            " [-4.54724779e-02 -4.46416365e-02  3.90621530e-02 ...  4.45283740e-02\n",
            "  -2.59303390e-02  2.20000000e+02]\n",
            " [-4.54724779e-02 -4.46416365e-02 -7.30303027e-02 ... -4.21985971e-03\n",
            "   3.06440941e-03  5.70000000e+01]]\n"
          ],
          "name": "stdout"
        }
      ]
    },
    {
      "cell_type": "code",
      "metadata": {
        "colab": {
          "base_uri": "https://localhost:8080/"
        },
        "id": "AJSSsTMsRopW",
        "outputId": "e598268f-4fd2-4bdb-bfcc-a4cd7519a249"
      },
      "source": [
        "# Train, Test, Validation Spliting of the Dataset\n",
        "import random\n",
        "\n",
        "Train = []\n",
        "Test = []\n",
        "Validation = []\n",
        "\n",
        "for i in range(0, len(wanted_lines)):\n",
        "  R = random.uniform(0, 1)\n",
        "  if(R>=0 and R<= 0.7):\n",
        "    Train.append(wanted_lines[i])\n",
        "  elif(R>0.7 and R<=0.85):\n",
        "    Validation.append(wanted_lines[i])\n",
        "  else:\n",
        "    Test.append(wanted_lines[i])\n",
        "\n",
        "print(len(Train))\n",
        "print(len(Test))\n",
        "print(len(Validation))"
      ],
      "execution_count": 52,
      "outputs": [
        {
          "output_type": "stream",
          "text": [
            "314\n",
            "56\n",
            "72\n"
          ],
          "name": "stdout"
        }
      ]
    },
    {
      "cell_type": "code",
      "metadata": {
        "id": "DQpxbDNVRuSX"
      },
      "source": [
        "#Converting the Train , Test, Validation list to numpy array\n",
        "train = np.array(Train)\n",
        "validation = np.array(Validation)\n",
        "test = np.array(Test)"
      ],
      "execution_count": 53,
      "outputs": []
    },
    {
      "cell_type": "code",
      "metadata": {
        "colab": {
          "base_uri": "https://localhost:8080/"
        },
        "id": "gyxnFpmqR17A",
        "outputId": "0badd784-d212-4954-ca2d-143983e12642"
      },
      "source": [
        "\n",
        "from scipy.spatial import distance\n",
        "import operator\n",
        "#k = 1\n",
        "#k = 3\n",
        "#k = 5\n",
        "#k = 10\n",
        "#k = 15\n",
        "k = 20\n",
        "\n",
        "L = {}\n",
        "correct = 0\n",
        "error = 0\n",
        "for s in Validation:\n",
        "  major_class = {}\n",
        "  L = {}\n",
        "  for v in Train:\n",
        "    ed = distance.euclidean(s[0:(len(s)-1)], v[0:(len(v)-1)])\n",
        "    L[ed] = v[-1]\n",
        "  sorted_L = sorted(L.keys())\n",
        "\n",
        "  \n",
        "  count = 1\n",
        "  total_val = 0.0\n",
        "  for x in sorted_L:\n",
        "    total_val = total_val + L[x]\n",
        "    count = count + 1\n",
        "    if(count > k):\n",
        "      break\n",
        "  val = total_val/k\n",
        "  \n",
        "  error = error + (s[-1] - val)**2\n",
        " \n",
        "  if(int(s[-1]) == val):\n",
        "    correct = correct + 1\n",
        "\n",
        "error_r = (error/len(Validation))**(1/2)\n",
        "print(error_r)\n"
      ],
      "execution_count": 60,
      "outputs": [
        {
          "output_type": "stream",
          "text": [
            "52.633712989447694\n"
          ],
          "name": "stdout"
        }
      ]
    },
    {
      "cell_type": "code",
      "metadata": {
        "colab": {
          "base_uri": "https://localhost:8080/"
        },
        "id": "-g9oqoPvTNhP",
        "outputId": "9f148ca0-7a60-46cf-b7b1-bc56149d76e2"
      },
      "source": [
        "#Mean_Squared_Error for Test set\n",
        "\n",
        "from scipy.spatial import distance\n",
        "import operator\n",
        "k = 20\n",
        "\n",
        "L = {}\n",
        "correct = 0\n",
        "error = 0\n",
        "for s in Test:\n",
        "  major_class = {}\n",
        "  L = {}\n",
        "  for v in Train:\n",
        "    ed = distance.euclidean(s[0:(len(s)-1)], v[0:(len(v)-1)])\n",
        "    L[ed] = v[-1]\n",
        "  sorted_L = sorted(L.keys())\n",
        "\n",
        "  \n",
        "  count = 1\n",
        "  total_val = 0.0\n",
        "  for x in sorted_L:\n",
        "    total_val = total_val + L[x]\n",
        "    count = count + 1\n",
        "    if(count > k):\n",
        "      break\n",
        "  val = total_val/k\n",
        "  \n",
        "  error = error + (s[-1] - val)**2\n",
        " \n",
        "  if(int(s[-1]) == val):\n",
        "    correct = correct + 1\n",
        "\n",
        "error_r = (error/len(Validation))**(1/2)\n",
        "print(error_r)\n"
      ],
      "execution_count": 61,
      "outputs": [
        {
          "output_type": "stream",
          "text": [
            "55.982541301333896\n"
          ],
          "name": "stdout"
        }
      ]
    }
  ]
}